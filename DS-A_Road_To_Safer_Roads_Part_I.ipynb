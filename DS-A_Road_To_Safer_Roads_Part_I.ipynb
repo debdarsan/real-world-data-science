{
 "cells": [
  {
   "cell_type": "markdown",
   "metadata": {},
   "source": [
    "# Data Science: A Road to Safer Roads"
   ]
  },
  {
   "cell_type": "markdown",
   "metadata": {},
   "source": [
    "### Dr Debdarsan Niyogi\n",
    "\n",
    "#### 10th Sept, 2020"
   ]
  },
  {
   "cell_type": "markdown",
   "metadata": {},
   "source": [
    "# Introduction\n",
    "According to the statistics by WHO (7th Feb, 2020):\n",
    "\n",
    "- Every year the lives of approximately 1.35 million people are cut short as a result of a road traffic crash. Between 20 and 50 million more people suffer non-fatal injuries, with many incurring a disability as a result of their injury.\n",
    "- Road traffic injuries cause considerable economic losses to individuals, their families, and to nations as a whole. These losses arise from the cost of treatment as well as lost productivity for those killed or disabled by their injuries, and for family members who need to take time off work or school to care for the injured. Road traffic crashes cost most countries 3% of their gross domestic product.\n",
    "- Road traffic injuries are the leading cause of death for children and young adults aged 5-29 years.\n",
    "\n",
    "This, therefore, needs serious attention, as it concerns human lives which is irreplacable. It is possible, thanks to machine learning, to predict severity of car accidents as a result of the complex interplay of multitudes of factors like weather, road condition, light condition, speeding etc. and also to identify which factors are more important. The information thus gathered can be used to take preventive measurements.\n",
    "\n",
    "## Objective\n",
    "\n",
    "In 2017, WHO released Save LIVES (a road safety technical package focuses on Speed management, Leadership, Infrastructure design and improvement, Vehicle safety standards, Enforcement of traffic laws and post-crash Survival) which synthesizes evidence-based measures that can significantly reduce road traffic fatalities and injuries.\n",
    "\n",
    "While the pursuit of saving lives is obvious, the 2030 Agenda for Sustainable Development has set an ambitious and quantifiable goal of halving the global number of deaths and injuries from road traffic crashes by 2020.\n",
    "\n",
    "According to the National Safety Council, traffic collisions cause more than 40,000 deaths and injure thousands of people every year across the United States. These are not traffic accidents, but entirely preventable tragedies.\n",
    "\n",
    "In order to reduce accidents, we need to predict it based on the external parameters. Since the accident occurs due to very many factors (unsafe road infrastructure, light condition, vulnerable road users, speeding, driving under the influence of alcohol and other psychoactive substances, distracted driving, weather) prediction of accidental severity is a challenge. Machine Learning is ideally suited here as this is a scientific approach for modelling and predicting the parameter of interest demanding only a low budget.\n",
    "\n",
    "The current project attempts to apply a machine learning technique to predict the severity of the accident given the parameters as stated before using car collision data for the city of Seattle, USA. Additionally, the accident data is extremely skewed (class imbalance), which makes the models heavily biased towards mild injuries. A practical methodology is used here to tackle this situation.\n",
    "\n",
    "\n",
    "## Interests\n",
    "\n",
    "The practical utilities of the prediction, besides saving lives:\n",
    "\n",
    "- Safe route planning\n",
    "- Emergency vehicle allocation\n",
    "- Roadway design\n",
    "- Reduce property damage\n",
    "- Where to place additional signage (e.g. to warn for curves)\n",
    "\n",
    "Study of accidents in one US city can definitely help any other city having similar characteristics. As car accidents are correlated to socioeconomic condition (according to WHO), the model developed cannot be used across countries but the same methodology can, of course, be utilised. The stakeholders of the present problem are federal, state and local government agencies, non-governmental organizations, regional authorities, and possible individuals (if this model is deployed as an app for personal use)."
   ]
  },
  {
   "cell_type": "markdown",
   "metadata": {},
   "source": [
    "## Data\n",
    "\n",
    "## Acquisition\n",
    "\n",
    "The car collision data is obtained from Seattle Govt’s website (Timeframe: 2004 to Present).\n",
    "\n",
    "Data Source: http://data-seattlecitygis.opendata.arcgis.com/datasets/5b5c745e0f1f48e7a53acec63a0022ab_0/data\n",
    "\n",
    "Data Catalogue: https://www.seattle.gov/Documents/Departments/SDOT/GIS/Collisions_OD.pdf\n",
    "\n",
    "### Loading"
   ]
  },
  {
   "cell_type": "markdown",
   "metadata": {},
   "source": [
    "As the dataset is huge, instead of loading the entire data set, one might load a percentage of total observations by random sampling, or shuffle the data and take first n rows. This will be useful to reduce the time required to train and test multiple ML models. Once we are satisfied with the results, we can load the entire data and determine the exact figures for the different performance evaluation matrices."
   ]
  },
  {
   "cell_type": "code",
   "execution_count": 2,
   "metadata": {},
   "outputs": [],
   "source": [
    "import numpy as np \n",
    "import pandas as pd\n",
    "\n",
    "pd.set_option('display.max_rows', 200)\n",
    "pd.set_option('display.max_columns', 200)"
   ]
  },
  {
   "cell_type": "code",
   "execution_count": 3,
   "metadata": {},
   "outputs": [],
   "source": [
    "# Data file name\n",
    "filename = \"Collisions.csv\"\n",
    "\n",
    "# Read the whole data file\n",
    "df = pd.read_csv(filename, low_memory=False)\n",
    "\n",
    "## ---------------------------------------------------------------------------------------------------------------\n",
    "## Read first maxrows of data\n",
    "## ---------------------------------------------------------------------------------------------------------------\n",
    "\n",
    "## maxrows = 20000\n",
    "## df = pd.read_csv(filename, nrows=nrows, skiprows=0, low_memory=False)\n",
    "\n",
    "## ---------------------------------------------------------------------------------------------------------------\n",
    "## Read percent_rows % of the data rows\n",
    "## ---------------------------------------------------------------------------------------------------------------\n",
    "\n",
    "#percent_rows = 0.50  # 20% of the lines\n",
    "## keep the header, then take only 20% of lines\n",
    "## if random from [0,1] interval is greater than 0.01 the row will be skipped\n",
    "\n",
    "#df = pd.read_csv(filename,header=0, \n",
    "#         skiprows=lambda i: i>0 and np.random.random() > percent_rows, low_memory=False)\n",
    "\n",
    "# shuffle the DataFrame rows \n",
    "#df = df.sample(frac = 1) "
   ]
  },
  {
   "cell_type": "markdown",
   "metadata": {},
   "source": [
    "#### Data Attributes\n",
    "\n",
    "Listed below for convenience:\n",
    "\n",
    "|Attribute|Data Type, Length|Description|\n",
    "|:-|:-|:-|\n",
    "|OBJECTID|ObjectID|ESRI unique identifier|\n",
    "|SHAPE|Geometry|ESRI geometry field|\n",
    "|INCKEY|Long|A unique key for the incident|\n",
    "|COLDETKEY|Long|Secondary key for the incident|\n",
    "|ADDRTYPE|Text, 12|Collision address type: Alley, Block, Intersection|\n",
    "|INTKEY|Double|Key that corresponds to the intersection associated with a collision|\n",
    "|LOCATION|Text, 255|Description of the general location of the collision|\n",
    "|EXCEPTRSNCODE|Text, 10|Not specified|\n",
    "|EXCEPTRSNDESC|Text, 300|Not specified|\n",
    "|SEVERITYCODE|Text, 100|A code that corresponds to the severity of the collision: 3—fatality, 2b—serious injury, 2—injury, 1—prop damage, 0—unknown|\n",
    "|SEVERITYDESC|Text|A detailed description of the severity of the collision|\n",
    "|COLLISIONTYPE|Text, 300|Collision type|\n",
    "|PERSONCOUNT|Double|The total number of people involved in the collision|\n",
    "|PEDCOUNT|Double|The number of pedestrians involved in the collision. This is entered by the state.|\n",
    "|PEDCYLCOUNT|Double|The number of bicycles involved in the collision. This is entered by the state.|\n",
    "|VEHCOUNT|Double|The number of vehicles involved in the collision. This is entered by the state.|\n",
    "|INJURIES|Double|The number of total injuries in the collision. This is entered by the state.|\n",
    "|SERIOUSINJURIES|Double|The number of serious injuries in the collision. This is entered by the state.|\n",
    "|FATALITIES|Double|The number of fatalities in the collision. This is entered by the state.|\n",
    "|INCDATE|Date|The date of the incident.|\n",
    "|INCDTTM|Text, 30|The date and time of the incident.|\n",
    "|JUNCTIONTYPE|Text, 300|Category of junction at which collision took place|\n",
    "|SDOT_COLCODE|Text, 10|A code given to the collision by SDOT.|\n",
    "|SDOT_COLDESC|Text, 300|A description of the collision corresponding to the collision code.|\n",
    "|INATTENTIONIND|Text, 1|Whether or not collision was due to inattention. (Y/N)|\n",
    "|UNDERINFL|Text, 10|Whether or not a driver involved was under the influence of drugs or alcohol.|\n",
    "|WEATHER|Text, 300|A description of the weather conditions during the time of the collision.|\n",
    "|ROADCOND|Text, 300|The condition of the road during the collision.|\n",
    "|LIGHTCOND|Text, 300|The light conditions during the collision.|\n",
    "|PEDROWNOTGRNT|Text, 1|Whether or not the pedestrian right of way was not granted. (Y/N)|\n",
    "|SDOTCOLNUM|Text, 10|A number given to the collision by SDOT.|\n",
    "|SPEEDING|Text, 1|Whether or not speeding was a factor in the collision. (Y/N)|\n",
    "|ST_COLCODE|Text, 10|A code provided by the state that describes the collision. For more information about these codes, please see the State Collision Code Dictionary.|\n",
    "|ST_COLDESC|Text, 300|A description that corresponds to the state’s coding designation.|\n",
    "|SEGLANEKEY|Long|A key for the lane segment in which the collision occurred.|\n",
    "|CROSSWALKKEY|Long|A key for the crosswalk at which the collision occurred.|\n",
    "|HITPARKEDCAR|Text, 1|Whether or not the collision involved hitting a parked car. (Y/N)|"
   ]
  },
  {
   "cell_type": "markdown",
   "metadata": {},
   "source": [
    "#### Data Profile"
   ]
  },
  {
   "cell_type": "code",
   "execution_count": 5,
   "metadata": {},
   "outputs": [
    {
     "name": "stdout",
     "output_type": "stream",
     "text": [
      "<class 'pandas.core.frame.DataFrame'>\n",
      "RangeIndex: 221006 entries, 0 to 221005\n",
      "Data columns (total 40 columns):\n",
      " #   Column           Non-Null Count   Dtype  \n",
      "---  ------           --------------   -----  \n",
      " 0   X                213539 non-null  float64\n",
      " 1   Y                213539 non-null  float64\n",
      " 2   OBJECTID         221006 non-null  int64  \n",
      " 3   INCKEY           221006 non-null  int64  \n",
      " 4   COLDETKEY        221006 non-null  int64  \n",
      " 5   REPORTNO         221006 non-null  object \n",
      " 6   STATUS           221006 non-null  object \n",
      " 7   ADDRTYPE         217295 non-null  object \n",
      " 8   INTKEY           71728 non-null   float64\n",
      " 9   LOCATION         216422 non-null  object \n",
      " 10  EXCEPTRSNCODE    100603 non-null  object \n",
      " 11  EXCEPTRSNDESC    11769 non-null   object \n",
      " 12  SEVERITYCODE     221005 non-null  object \n",
      " 13  SEVERITYDESC     221006 non-null  object \n",
      " 14  COLLISIONTYPE    194678 non-null  object \n",
      " 15  PERSONCOUNT      221006 non-null  int64  \n",
      " 16  PEDCOUNT         221006 non-null  int64  \n",
      " 17  PEDCYLCOUNT      221006 non-null  int64  \n",
      " 18  VEHCOUNT         221006 non-null  int64  \n",
      " 19  INJURIES         221006 non-null  int64  \n",
      " 20  SERIOUSINJURIES  221006 non-null  int64  \n",
      " 21  FATALITIES       221006 non-null  int64  \n",
      " 22  INCDATE          221006 non-null  object \n",
      " 23  INCDTTM          221006 non-null  object \n",
      " 24  JUNCTIONTYPE     209046 non-null  object \n",
      " 25  SDOT_COLCODE     221005 non-null  float64\n",
      " 26  SDOT_COLDESC     221005 non-null  object \n",
      " 27  INATTENTIONIND   30188 non-null   object \n",
      " 28  UNDERINFL        194698 non-null  object \n",
      " 29  WEATHER          194489 non-null  object \n",
      " 30  ROADCOND         194569 non-null  object \n",
      " 31  LIGHTCOND        194401 non-null  object \n",
      " 32  PEDROWNOTGRNT    5187 non-null    object \n",
      " 33  SDOTCOLNUM       127205 non-null  float64\n",
      " 34  SPEEDING         9900 non-null    object \n",
      " 35  ST_COLCODE       211593 non-null  object \n",
      " 36  ST_COLDESC       194678 non-null  object \n",
      " 37  SEGLANEKEY       221006 non-null  int64  \n",
      " 38  CROSSWALKKEY     221006 non-null  int64  \n",
      " 39  HITPARKEDCAR     221006 non-null  object \n",
      "dtypes: float64(5), int64(12), object(23)\n",
      "memory usage: 67.4+ MB\n"
     ]
    }
   ],
   "source": [
    "#from pandas_profiling import ProfileReport\n",
    "\n",
    "# Generate profile report\n",
    "#profile = ProfileReport(df, title=\"Data Profile Report\", explorative=True)\n",
    "#profile.to_notebook_iframe()\n",
    "df.info()"
   ]
  },
  {
   "cell_type": "markdown",
   "metadata": {},
   "source": [
    "Upon loading the data, we see that there are 40 variables and 2,21,006 number of observations."
   ]
  },
  {
   "cell_type": "markdown",
   "metadata": {},
   "source": [
    "## Initial Data Processing\n",
    "\n",
    "Now we are ready to proceed towards data preparation methodically. Statistics show that Data Scientists spend almost 60% of their time in preparing data suitable for machine learning. This part is not very exciting but is still included here to point out what to look for in a huge and real data set.\n",
    "\n",
    "#### Date-Time variables\n",
    "\n",
    "To explore the date-time feature, let us extract the Month, Weekday, Hour information from INCDTTIME and add those as separate columns."
   ]
  },
  {
   "cell_type": "code",
   "execution_count": 6,
   "metadata": {
    "jupyter": {
     "source_hidden": true
    }
   },
   "outputs": [],
   "source": [
    "# Convert INCDTTM to date type\n",
    "\n",
    "df['INCDTTM'] = pd.to_datetime(df['INCDTTM'], errors='coerce')\n",
    "\n",
    "# Extract month, weekday, hour information\n",
    "\n",
    "df['Month']=df['INCDTTM'].dt.month\n",
    "df['Weekday']=df['INCDTTM'].dt.weekday\n",
    "df['Hour']=df['INCDTTM'].dt.hour"
   ]
  },
  {
   "cell_type": "markdown",
   "metadata": {},
   "source": [
    "Save intermediate data file."
   ]
  },
  {
   "cell_type": "code",
   "execution_count": 7,
   "metadata": {},
   "outputs": [],
   "source": [
    "# Export the intermediate semi-processed data file\n",
    "filename = \"Collisions_100_initial_processing_before_EDA.csv\"\n",
    "df.to_csv(filename,index=False)"
   ]
  },
  {
   "cell_type": "markdown",
   "metadata": {},
   "source": [
    "# Exploratory Data Analysis (EDA) \n",
    "\n",
    "Now our data is relatively cleaner and lighter. In this phase we concentrate on Data visualization, Cleaning up missing data, Value imputation, Value re-grouping."
   ]
  },
  {
   "cell_type": "code",
   "execution_count": 8,
   "metadata": {},
   "outputs": [],
   "source": [
    "# Read the intermediate semi-processed data file\n",
    "filename = \"Collisions_100_initial_processing_before_EDA.csv\"\n",
    "df = pd.read_csv(filename)"
   ]
  },
  {
   "cell_type": "code",
   "execution_count": 9,
   "metadata": {},
   "outputs": [],
   "source": [
    "import matplotlib\n",
    "import matplotlib.pyplot as plt\n",
    "import seaborn as sns\n",
    "from matplotlib import cm"
   ]
  },
  {
   "cell_type": "markdown",
   "metadata": {},
   "source": [
    "## Inspect Severity Code\n",
    "\n",
    "Severity Code (SEVERITYCODE) is the target/dependent variable. Let us scrutinize that first."
   ]
  },
  {
   "cell_type": "code",
   "execution_count": 10,
   "metadata": {},
   "outputs": [
    {
     "data": {
      "text/plain": [
       "1      0.62141\n",
       "2      0.26528\n",
       "0      0.09774\n",
       "2b     0.01399\n",
       "3      0.00158\n",
       "NaN    0.00000\n",
       "Name: SEVERITYCODE, dtype: float64"
      ]
     },
     "execution_count": 10,
     "metadata": {},
     "output_type": "execute_result"
    }
   ],
   "source": [
    "df['SEVERITYCODE'].value_counts(normalize=True, dropna=False).round(5)"
   ]
  },
  {
   "cell_type": "markdown",
   "metadata": {},
   "source": [
    "Since we are not going to predict an 'Unknown' severity (SEVERITYCODE = 0), these observations, along with the rows with missing values can safely be deleted. The categorical values can also be remapped to a scale of 1 to 4, where 3 is assigned to 4 and 2b to 3."
   ]
  },
  {
   "cell_type": "code",
   "execution_count": 11,
   "metadata": {},
   "outputs": [],
   "source": [
    "df['SEVERITYCODE'].replace('0', np.nan, inplace=True)"
   ]
  },
  {
   "cell_type": "code",
   "execution_count": 12,
   "metadata": {},
   "outputs": [],
   "source": [
    "df.dropna(axis=0, how='any',thresh=None, subset=['SEVERITYCODE'], inplace=True)"
   ]
  },
  {
   "cell_type": "markdown",
   "metadata": {},
   "source": [
    "Shift Severity 3 to 4 and 2b to 3"
   ]
  },
  {
   "cell_type": "code",
   "execution_count": 13,
   "metadata": {},
   "outputs": [],
   "source": [
    "df['SEVERITYCODE'].replace('3', '4', inplace=True)\n",
    "df['SEVERITYCODE'].replace('2b', '3', inplace=True)"
   ]
  },
  {
   "cell_type": "code",
   "execution_count": 14,
   "metadata": {},
   "outputs": [
    {
     "data": {
      "text/plain": [
       "1    0.68873\n",
       "2    0.29402\n",
       "3    0.01551\n",
       "4    0.00175\n",
       "Name: SEVERITYCODE, dtype: float64"
      ]
     },
     "execution_count": 14,
     "metadata": {},
     "output_type": "execute_result"
    }
   ],
   "source": [
    "df['SEVERITYCODE'] =  df['SEVERITYCODE'].astype('int64')\n",
    "df['SEVERITYCODE'].value_counts(normalize=True, ascending=False,dropna=False).round(5)"
   ]
  },
  {
   "cell_type": "markdown",
   "metadata": {},
   "source": [
    "#### The new mapping is as follows:\n",
    "\n",
    "\n",
    "|SEVERITYCODE|SEVERITYDESC|\n",
    "|:-|:-|\n",
    "|1|Property Damage Only Collision|\n",
    "|2|Injury Collision|\n",
    "|3|Serious Injury Collision|\n",
    "|4|Fatality Collision|"
   ]
  },
  {
   "cell_type": "code",
   "execution_count": 15,
   "metadata": {},
   "outputs": [
    {
     "name": "stderr",
     "output_type": "stream",
     "text": [
      "C:\\ProgramData\\Anaconda3\\lib\\site-packages\\seaborn\\_decorators.py:36: FutureWarning: Pass the following variables as keyword args: x, y. From version 0.12, the only valid positional argument will be `data`, and passing other arguments without an explicit keyword will result in an error or misinterpretation.\n",
      "  warnings.warn(\n"
     ]
    },
    {
     "data": {
      "text/plain": [
       "<AxesSubplot:title={'center':'Count of Accidents by Severity'}, xlabel='Severity Code', ylabel='Count'>"
      ]
     },
     "execution_count": 15,
     "metadata": {},
     "output_type": "execute_result"
    },
    {
     "data": {
      "image/png": "[encoded data removed]",
      "text/plain": [
       "<Figure size 360x360 with 1 Axes>"
      ]
     },
     "metadata": {
      "needs_background": "light"
     },
     "output_type": "display_data"
    }
   ],
   "source": [
    "countseverity = df.SEVERITYCODE.unique()\n",
    "count_by_severity=[]\n",
    "for i in df.SEVERITYCODE.unique():\n",
    "    count_by_severity.append(df.loc[df.SEVERITYCODE == i, 'SEVERITYCODE'].count())\n",
    "fig, ax = plt.subplots(figsize=(5,5))\n",
    "plt.title('Count of Accidents by Severity', y=1.05)\n",
    "ax.set(xlabel='Severity Code', ylabel='Count')\n",
    "sns.barplot(countseverity, count_by_severity)"
   ]
  },
  {
   "cell_type": "markdown",
   "metadata": {},
   "source": [
    "## Inspect Date Time features\n",
    "\n",
    "There are no missing values, as seen earlier."
   ]
  },
  {
   "cell_type": "code",
   "execution_count": 16,
   "metadata": {},
   "outputs": [
    {
     "data": {
      "image/png": "[encoded data removed]",
      "text/plain": [
       "<Figure size 720x360 with 1 Axes>"
      ]
     },
     "metadata": {
      "needs_background": "light"
     },
     "output_type": "display_data"
    }
   ],
   "source": [
    "plt.figure(figsize=(10,5))\n",
    "sns.countplot(x='Hour', hue='SEVERITYCODE', data=df, order = df['Hour'].value_counts().index, palette=\"Set1\")\n",
    "plt.legend(loc='best', prop={'size': 10})\n",
    "plt.title('Count of Accidents by Hour', y=1.05)\n",
    "plt.show()"
   ]
  },
  {
   "cell_type": "code",
   "execution_count": 17,
   "metadata": {},
   "outputs": [
    {
     "data": {
      "image/png": "[encoded data removed]",
      "text/plain": [
       "<Figure size 720x360 with 1 Axes>"
      ]
     },
     "metadata": {
      "needs_background": "light"
     },
     "output_type": "display_data"
    }
   ],
   "source": [
    "plt.figure(figsize=(10,5))\n",
    "sns.countplot(x='Weekday', hue='SEVERITYCODE', data=df, order = df['Weekday'].value_counts().index, palette=\"Set1\")\n",
    "plt.legend(loc='best', prop={'size': 10})\n",
    "plt.title('Count of Accidents by Weekday', y=1.05)\n",
    "plt.show()"
   ]
  },
  {
   "cell_type": "code",
   "execution_count": 18,
   "metadata": {},
   "outputs": [
    {
     "data": {
      "image/png": "[encoded data removed]",
      "text/plain": [
       "<Figure size 720x360 with 1 Axes>"
      ]
     },
     "metadata": {
      "needs_background": "light"
     },
     "output_type": "display_data"
    }
   ],
   "source": [
    "plt.figure(figsize=(10,5))\n",
    "sns.countplot(x='Month', hue='SEVERITYCODE', data=df, order = df['Month'].value_counts().index, palette=\"Set1\")\n",
    "plt.legend(loc='best', prop={'size': 10})\n",
    "plt.title('Count of Accidents by Month', y=1.05)\n",
    "plt.show()"
   ]
  },
  {
   "cell_type": "markdown",
   "metadata": {},
   "source": [
    "## Inspect Weather features\n",
    "\n",
    "In the data profile report we have seen this contains missing values. Keeping that in mind let's see the distinct values:"
   ]
  },
  {
   "cell_type": "code",
   "execution_count": 19,
   "metadata": {},
   "outputs": [
    {
     "data": {
      "text/plain": [
       "Clear                       114301\n",
       "Raining                      34006\n",
       "Overcast                     28495\n",
       "Unknown                      15131\n",
       "NaN                           4917\n",
       "Snowing                        919\n",
       "Other                          851\n",
       "Fog/Smog/Smoke                 576\n",
       "Sleet/Hail/Freezing Rain       116\n",
       "Blowing Sand/Dirt               56\n",
       "Severe Crosswind                26\n",
       "Partly Cloudy                    9\n",
       "Blowing Snow                     1\n",
       "Name: WEATHER, dtype: int64"
      ]
     },
     "execution_count": 19,
     "metadata": {},
     "output_type": "execute_result"
    }
   ],
   "source": [
    "df['WEATHER'].value_counts(dropna=False, ascending=False)"
   ]
  },
  {
   "cell_type": "markdown",
   "metadata": {},
   "source": [
    "We subsitute missing values by 'Unknown'."
   ]
  },
  {
   "cell_type": "code",
   "execution_count": 20,
   "metadata": {},
   "outputs": [],
   "source": [
    "df.replace({'WEATHER' : {np.nan : 'Unknown'}}, inplace=True)"
   ]
  },
  {
   "cell_type": "code",
   "execution_count": 21,
   "metadata": {},
   "outputs": [
    {
     "data": {
      "image/png": "[encoded data removed]",
      "text/plain": [
       "<Figure size 2160x360 with 1 Axes>"
      ]
     },
     "metadata": {
      "needs_background": "light"
     },
     "output_type": "display_data"
    }
   ],
   "source": [
    "plt.figure(figsize=(30,5))\n",
    "sns.countplot(x='WEATHER', hue='SEVERITYCODE', data=df, order = df['WEATHER'].value_counts().index, palette=\"Set1\")\n",
    "plt.title('Count of Accidents by Weather Condition', size=10, y=1.05)\n",
    "plt.legend(loc='upper right', prop={'size': 10})\n",
    "plt.show()"
   ]
  },
  {
   "cell_type": "markdown",
   "metadata": {},
   "source": [
    "## Inspect Collision Address Type"
   ]
  },
  {
   "cell_type": "markdown",
   "metadata": {},
   "source": [
    "This denotes if the collision has taken place in a block, intersection or alley."
   ]
  },
  {
   "cell_type": "code",
   "execution_count": 22,
   "metadata": {},
   "outputs": [
    {
     "data": {
      "text/plain": [
       "Block           0.64925\n",
       "Intersection    0.33725\n",
       "NaN             0.00968\n",
       "Alley           0.00382\n",
       "Name: ADDRTYPE, dtype: float64"
      ]
     },
     "execution_count": 22,
     "metadata": {},
     "output_type": "execute_result"
    }
   ],
   "source": [
    "df['ADDRTYPE'].value_counts(normalize=True, ascending=False, dropna=False).round(5)"
   ]
  },
  {
   "cell_type": "markdown",
   "metadata": {},
   "source": [
    "We subsitute missing values by 'Unknown'."
   ]
  },
  {
   "cell_type": "code",
   "execution_count": 23,
   "metadata": {},
   "outputs": [],
   "source": [
    "df.replace({'ADDRTYPE' : {np.nan : 'Unknown'}}, inplace=True)"
   ]
  },
  {
   "cell_type": "code",
   "execution_count": 24,
   "metadata": {},
   "outputs": [
    {
     "data": {
      "image/png": "[encoded data removed]",
      "text/plain": [
       "<Figure size 720x360 with 1 Axes>"
      ]
     },
     "metadata": {
      "needs_background": "light"
     },
     "output_type": "display_data"
    }
   ],
   "source": [
    "plt.figure(figsize=(10,5))\n",
    "sns.countplot(x='ADDRTYPE', hue='SEVERITYCODE', data=df, order = df['ADDRTYPE'].value_counts().index,  palette=\"Set1\")\n",
    "plt.title('Count of Accidents by Address Type', size=10, y=1.05)\n",
    "plt.legend(loc='best', prop={'size': 10})\n",
    "plt.show()"
   ]
  },
  {
   "cell_type": "markdown",
   "metadata": {},
   "source": [
    "## Inspect Collision Type"
   ]
  },
  {
   "cell_type": "code",
   "execution_count": 25,
   "metadata": {},
   "outputs": [
    {
     "data": {
      "text/plain": [
       "Parked Car    0.24295\n",
       "Angles        0.17774\n",
       "Rear Ended    0.17356\n",
       "Other         0.12293\n",
       "Sideswipe     0.09453\n",
       "Left Turn     0.07059\n",
       "Pedestrian    0.03837\n",
       "Cycles        0.02961\n",
       "NaN           0.02371\n",
       "Right Turn    0.01507\n",
       "Head On       0.01093\n",
       "Name: COLLISIONTYPE, dtype: float64"
      ]
     },
     "execution_count": 25,
     "metadata": {},
     "output_type": "execute_result"
    }
   ],
   "source": [
    "df['COLLISIONTYPE'].value_counts(normalize=True, ascending=False,dropna=False).round(5)"
   ]
  },
  {
   "cell_type": "markdown",
   "metadata": {},
   "source": [
    "We substitute the missing values by 'Unknown' as above."
   ]
  },
  {
   "cell_type": "code",
   "execution_count": 26,
   "metadata": {},
   "outputs": [],
   "source": [
    "df.replace({'COLLISIONTYPE' : {np.nan : 'Unknown'}}, inplace=True)"
   ]
  },
  {
   "cell_type": "code",
   "execution_count": 27,
   "metadata": {},
   "outputs": [
    {
     "data": {
      "image/png": "[encoded data removed]",
      "text/plain": [
       "<Figure size 1080x360 with 1 Axes>"
      ]
     },
     "metadata": {
      "needs_background": "light"
     },
     "output_type": "display_data"
    }
   ],
   "source": [
    "plt.figure(figsize=(15,5))\n",
    "sns.countplot(x='COLLISIONTYPE', hue='SEVERITYCODE', data=df, order = df['COLLISIONTYPE'].value_counts().index,  palette=\"Set1\")\n",
    "plt.title('Count of Accidents by Collision Type', size=10, y=1.05)\n",
    "plt.legend(loc='best', prop={'size': 10})\n",
    "plt.show()"
   ]
  },
  {
   "cell_type": "markdown",
   "metadata": {},
   "source": [
    "## Inspect Junction Type"
   ]
  },
  {
   "cell_type": "code",
   "execution_count": 28,
   "metadata": {},
   "outputs": [
    {
     "data": {
      "text/plain": [
       "Mid-Block (not related to intersection)              0.46073\n",
       "At Intersection (intersection related)               0.32573\n",
       "Mid-Block (but intersection related)                 0.11560\n",
       "Driveway Junction                                    0.05440\n",
       "NaN                                                  0.03197\n",
       "At Intersection (but not related to intersection)    0.01067\n",
       "Ramp Junction                                        0.00086\n",
       "Unknown                                              0.00005\n",
       "Name: JUNCTIONTYPE, dtype: float64"
      ]
     },
     "execution_count": 28,
     "metadata": {},
     "output_type": "execute_result"
    }
   ],
   "source": [
    "df['JUNCTIONTYPE'].value_counts(normalize=True, ascending=False,dropna=False).round(5)"
   ]
  },
  {
   "cell_type": "markdown",
   "metadata": {},
   "source": [
    "We replace the missing values by 'Unknown' and shorten the labels somewhat so that they are readable in the diagrams we are going to plot."
   ]
  },
  {
   "cell_type": "code",
   "execution_count": 29,
   "metadata": {},
   "outputs": [],
   "source": [
    "df.replace({'JUNCTIONTYPE' : {np.nan : 'Unknown'}}, inplace=True)"
   ]
  },
  {
   "cell_type": "code",
   "execution_count": 30,
   "metadata": {},
   "outputs": [],
   "source": [
    "df.replace({'JUNCTIONTYPE' : {'Mid-Block (not related to intersection)': 'Mid-Block (Not Intersect)', \n",
    "                              'At Intersection (intersection related)': 'At Intersection (Intersect)',\n",
    "                              'Mid-Block (but intersection related)': 'Mid-Block (Intersect)',\n",
    "                              'At Intersection (but not related to intersection)': 'At Intersection (Intersect)'}}, inplace=True)"
   ]
  },
  {
   "cell_type": "code",
   "execution_count": 31,
   "metadata": {},
   "outputs": [
    {
     "data": {
      "image/png": "[encoded data removed]",
      "text/plain": [
       "<Figure size 1800x360 with 1 Axes>"
      ]
     },
     "metadata": {
      "needs_background": "light"
     },
     "output_type": "display_data"
    }
   ],
   "source": [
    "plt.figure(figsize=(25,5))\n",
    "sns.countplot(x='JUNCTIONTYPE', hue='SEVERITYCODE', data=df, palette=\"Set1\")\n",
    "plt.title('Count of Accidents by Junction Type', size=10, y=1.05)\n",
    "plt.legend(loc='best', prop={'size': 10})\n",
    "plt.show()"
   ]
  },
  {
   "cell_type": "markdown",
   "metadata": {},
   "source": [
    "## Inspect under influence"
   ]
  },
  {
   "cell_type": "markdown",
   "metadata": {},
   "source": [
    "The flag UNDERINFL indicates whether or not a driver involved was under the influence of drugs or alcohol, has ambigous data: "
   ]
  },
  {
   "cell_type": "code",
   "execution_count": 32,
   "metadata": {},
   "outputs": [
    {
     "data": {
      "text/plain": [
       "N      0.518505\n",
       "0      0.409601\n",
       "Y      0.027076\n",
       "NaN    0.023605\n",
       "1      0.021213\n",
       "Name: UNDERINFL, dtype: float64"
      ]
     },
     "execution_count": 32,
     "metadata": {},
     "output_type": "execute_result"
    }
   ],
   "source": [
    "df['UNDERINFL'].value_counts(normalize=True, ascending=False, dropna=False)"
   ]
  },
  {
   "cell_type": "markdown",
   "metadata": {},
   "source": [
    "We can safely map 0 to 'N', 1 to 'Y' and NaN as 'Unknown'."
   ]
  },
  {
   "cell_type": "code",
   "execution_count": 33,
   "metadata": {},
   "outputs": [],
   "source": [
    "df.replace({'UNDERINFL' : {np.nan : 'Unknown', '0': 'N', '1': 'Y'}}, inplace=True)"
   ]
  },
  {
   "cell_type": "code",
   "execution_count": 34,
   "metadata": {},
   "outputs": [
    {
     "data": {
      "text/plain": [
       "N          0.928106\n",
       "Y          0.048289\n",
       "Unknown    0.023605\n",
       "Name: UNDERINFL, dtype: float64"
      ]
     },
     "execution_count": 34,
     "metadata": {},
     "output_type": "execute_result"
    }
   ],
   "source": [
    "df['UNDERINFL'].value_counts(normalize=True, ascending=False, dropna=False)"
   ]
  },
  {
   "cell_type": "code",
   "execution_count": 36,
   "metadata": {},
   "outputs": [
    {
     "name": "stderr",
     "output_type": "stream",
     "text": [
      "C:\\ProgramData\\Anaconda3\\lib\\site-packages\\seaborn\\_decorators.py:36: FutureWarning: Pass the following variables as keyword args: x, y. From version 0.12, the only valid positional argument will be `data`, and passing other arguments without an explicit keyword will result in an error or misinterpretation.\n",
      "  warnings.warn(\n"
     ]
    },
    {
     "data": {
      "text/plain": [
       "<AxesSubplot:title={'center':'Under Influence Flag'}, xlabel='Under Influence Flag', ylabel='Count'>"
      ]
     },
     "execution_count": 36,
     "metadata": {},
     "output_type": "execute_result"
    },
    {
     "data": {
      "image/png": "[encoded data removed]",
      "text/plain": [
       "<Figure size 360x216 with 1 Axes>"
      ]
     },
     "metadata": {
      "needs_background": "light"
     },
     "output_type": "display_data"
    }
   ],
   "source": [
    "underinfluence = df.UNDERINFL.unique()\n",
    "count_by_underinfluence=[]\n",
    "for i in df.UNDERINFL.unique():\n",
    "    count_by_underinfluence.append(df.loc[df.UNDERINFL == i, 'UNDERINFL'].count())\n",
    "fig, ax = plt.subplots(figsize=(5,3))\n",
    "ax.set(xlabel='Under Influence Flag', ylabel='Count', title='Under Influence Flag')\n",
    "sns.barplot(underinfluence, count_by_underinfluence)"
   ]
  },
  {
   "cell_type": "markdown",
   "metadata": {},
   "source": [
    "## Inspect Road Condition"
   ]
  },
  {
   "cell_type": "code",
   "execution_count": 37,
   "metadata": {
    "scrolled": true
   },
   "outputs": [
    {
     "data": {
      "text/plain": [
       "Dry               0.64242\n",
       "Wet               0.24421\n",
       "Unknown           0.07587\n",
       "NaN               0.02426\n",
       "Ice               0.00617\n",
       "Snow/Slush        0.00509\n",
       "Other             0.00068\n",
       "Standing Water    0.00060\n",
       "Sand/Mud/Dirt     0.00039\n",
       "Oil               0.00032\n",
       "Name: ROADCOND, dtype: float64"
      ]
     },
     "execution_count": 37,
     "metadata": {},
     "output_type": "execute_result"
    }
   ],
   "source": [
    "df['ROADCOND'].value_counts(normalize=True, ascending=False,dropna=False).round(5)"
   ]
  },
  {
   "cell_type": "code",
   "execution_count": 38,
   "metadata": {},
   "outputs": [],
   "source": [
    "df.replace({'ROADCOND' : {np.nan: 'Unknown'}}, inplace=True)"
   ]
  },
  {
   "cell_type": "code",
   "execution_count": 39,
   "metadata": {},
   "outputs": [
    {
     "data": {
      "image/png": "[encoded data removed]",
      "text/plain": [
       "<Figure size 720x360 with 1 Axes>"
      ]
     },
     "metadata": {
      "needs_background": "light"
     },
     "output_type": "display_data"
    }
   ],
   "source": [
    "plt.figure(figsize=(10,5))\n",
    "sns.countplot(x='ROADCOND', hue='SEVERITYCODE', data=df, palette=\"Set1\")\n",
    "plt.title('Count of Accidents by Road Condition Type', size=10, y=1.05)\n",
    "plt.legend(loc='upper right', prop={'size': 10})\n",
    "plt.show()"
   ]
  },
  {
   "cell_type": "markdown",
   "metadata": {},
   "source": [
    "## Inspect Light Conditions"
   ]
  },
  {
   "cell_type": "code",
   "execution_count": 40,
   "metadata": {},
   "outputs": [
    {
     "data": {
      "text/plain": [
       "Daylight                    0.59724\n",
       "Dark - Street Lights On     0.25097\n",
       "Unknown                     0.06780\n",
       "Dusk                        0.03046\n",
       "NaN                         0.02510\n",
       "Dawn                        0.01302\n",
       "Dark - No Street Lights     0.00789\n",
       "Dark - Street Lights Off    0.00620\n",
       "Other                       0.00122\n",
       "Dark - Unknown Lighting     0.00010\n",
       "Name: LIGHTCOND, dtype: float64"
      ]
     },
     "execution_count": 40,
     "metadata": {},
     "output_type": "execute_result"
    }
   ],
   "source": [
    "df['LIGHTCOND'].value_counts(normalize=True, ascending=False,dropna=False).round(5)"
   ]
  },
  {
   "cell_type": "code",
   "execution_count": 41,
   "metadata": {},
   "outputs": [],
   "source": [
    "df.replace({'LIGHTCOND' : {np.nan: 'Unknown'}}, inplace=True)"
   ]
  },
  {
   "cell_type": "code",
   "execution_count": 42,
   "metadata": {},
   "outputs": [
    {
     "data": {
      "image/png": "[encoded data removed]",
      "text/plain": [
       "<Figure size 1440x360 with 1 Axes>"
      ]
     },
     "metadata": {
      "needs_background": "light"
     },
     "output_type": "display_data"
    }
   ],
   "source": [
    "plt.figure(figsize=(20,5))\n",
    "sns.countplot(x='LIGHTCOND', hue='SEVERITYCODE', data=df, palette=\"Set1\")\n",
    "plt.title('Count of Accidents by Light Condition Type', size=10, y=1.05)\n",
    "plt.legend(loc='upper right', prop={'size': 10})\n",
    "plt.show()"
   ]
  },
  {
   "cell_type": "markdown",
   "metadata": {},
   "source": [
    "## Inspect Hit Parked Car Flag\n",
    "\n",
    "This flag is set to ‘Y’ if the collision involved hitting a parked car."
   ]
  },
  {
   "cell_type": "code",
   "execution_count": 43,
   "metadata": {},
   "outputs": [
    {
     "data": {
      "text/plain": [
       "N    0.96245\n",
       "Y    0.03755\n",
       "Name: HITPARKEDCAR, dtype: float64"
      ]
     },
     "execution_count": 43,
     "metadata": {},
     "output_type": "execute_result"
    }
   ],
   "source": [
    "df['HITPARKEDCAR'].value_counts(normalize=True, ascending=False,dropna=False).round(5)"
   ]
  },
  {
   "cell_type": "code",
   "execution_count": 44,
   "metadata": {},
   "outputs": [
    {
     "data": {
      "image/png": "[encoded data removed]",
      "text/plain": [
       "<Figure size 720x360 with 1 Axes>"
      ]
     },
     "metadata": {
      "needs_background": "light"
     },
     "output_type": "display_data"
    }
   ],
   "source": [
    "plt.figure(figsize=(10,5))\n",
    "sns.countplot(x='HITPARKEDCAR', hue='SEVERITYCODE', data=df, palette=\"Set1\")\n",
    "plt.title('Count of Accidents where parked car was hit', size=10, y=1.05)\n",
    "plt.legend(loc='upper right', prop={'size': 10})\n",
    "plt.show()"
   ]
  },
  {
   "cell_type": "markdown",
   "metadata": {},
   "source": [
    "### Inspect Collision Codes"
   ]
  },
  {
   "cell_type": "markdown",
   "metadata": {},
   "source": [
    "Code 31 is 'Not Stated'. So, we can replace the missing values by code '31'"
   ]
  },
  {
   "cell_type": "code",
   "execution_count": 45,
   "metadata": {},
   "outputs": [],
   "source": [
    "df.replace({'ST_COLCODE' : {np.nan: '31', ' ': '31'}}, inplace=True)"
   ]
  },
  {
   "cell_type": "code",
   "execution_count": 46,
   "metadata": {},
   "outputs": [
    {
     "data": {
      "text/plain": [
       "32    0.22484\n",
       "10    0.17774\n",
       "14    0.13113\n",
       "50    0.07075\n",
       "11    0.06489\n",
       "Name: ST_COLCODE, dtype: float64"
      ]
     },
     "execution_count": 46,
     "metadata": {},
     "output_type": "execute_result"
    }
   ],
   "source": [
    "df['ST_COLCODE'].value_counts(normalize=True, ascending=False,dropna=False).round(5).head()"
   ]
  },
  {
   "cell_type": "code",
   "execution_count": 47,
   "metadata": {
    "scrolled": true
   },
   "outputs": [
    {
     "data": {
      "image/png": "[encoded data removed]",
      "text/plain": [
       "<Figure size 1440x360 with 1 Axes>"
      ]
     },
     "metadata": {
      "needs_background": "light"
     },
     "output_type": "display_data"
    }
   ],
   "source": [
    "plt.figure(figsize=(20,5))\n",
    "sns.countplot(x='ST_COLCODE', hue='SEVERITYCODE', data=df, palette=\"Set1\")\n",
    "plt.title('Count of Accidents by Collision Code', size=10, y=1.05)\n",
    "plt.legend(loc='upper left', prop={'size': 10})\n",
    "plt.show()"
   ]
  },
  {
   "cell_type": "markdown",
   "metadata": {},
   "source": [
    "### Inspect Injuries, Serious Injuries and Fatalitites Features"
   ]
  },
  {
   "cell_type": "markdown",
   "metadata": {},
   "source": [
    "There are three variables: Injuries, Serious injuries and Fatalities. Let us see how the numbers are distributed amongst the four severity codes we have."
   ]
  },
  {
   "cell_type": "code",
   "execution_count": 48,
   "metadata": {
    "scrolled": true
   },
   "outputs": [
    {
     "data": {
      "text/html": [
       "<div>\n",
       "<style scoped>\n",
       "    .dataframe tbody tr th:only-of-type {\n",
       "        vertical-align: middle;\n",
       "    }\n",
       "\n",
       "    .dataframe tbody tr th {\n",
       "        vertical-align: top;\n",
       "    }\n",
       "\n",
       "    .dataframe thead th {\n",
       "        text-align: right;\n",
       "    }\n",
       "</style>\n",
       "<table border=\"1\" class=\"dataframe\">\n",
       "  <thead>\n",
       "    <tr style=\"text-align: right;\">\n",
       "      <th></th>\n",
       "      <th>SEVERITYCODE</th>\n",
       "      <th>sum_INJURIES</th>\n",
       "      <th>sum_SERIOUSINJURIES</th>\n",
       "      <th>sum_FATALITIES</th>\n",
       "    </tr>\n",
       "  </thead>\n",
       "  <tbody>\n",
       "    <tr>\n",
       "      <th>0</th>\n",
       "      <td>1</td>\n",
       "      <td>0</td>\n",
       "      <td>0</td>\n",
       "      <td>0</td>\n",
       "    </tr>\n",
       "    <tr>\n",
       "      <th>1</th>\n",
       "      <td>2</td>\n",
       "      <td>77939</td>\n",
       "      <td>0</td>\n",
       "      <td>0</td>\n",
       "    </tr>\n",
       "    <tr>\n",
       "      <th>2</th>\n",
       "      <td>3</td>\n",
       "      <td>4396</td>\n",
       "      <td>3248</td>\n",
       "      <td>0</td>\n",
       "    </tr>\n",
       "    <tr>\n",
       "      <th>3</th>\n",
       "      <td>4</td>\n",
       "      <td>288</td>\n",
       "      <td>103</td>\n",
       "      <td>372</td>\n",
       "    </tr>\n",
       "  </tbody>\n",
       "</table>\n",
       "</div>"
      ],
      "text/plain": [
       "   SEVERITYCODE  sum_INJURIES  sum_SERIOUSINJURIES  sum_FATALITIES\n",
       "0             1             0                    0               0\n",
       "1             2         77939                    0               0\n",
       "2             3          4396                 3248               0\n",
       "3             4           288                  103             372"
      ]
     },
     "execution_count": 48,
     "metadata": {},
     "output_type": "execute_result"
    }
   ],
   "source": [
    "df.groupby(\n",
    "     ['SEVERITYCODE']\n",
    " ).agg(\n",
    "     sum_INJURIES =            ('INJURIES','sum'),\n",
    "     sum_SERIOUSINJURIES =     ('SERIOUSINJURIES','sum'),\n",
    "     sum_FATALITIES =          ('FATALITIES','sum'),\n",
    " ).reset_index()"
   ]
  },
  {
   "cell_type": "markdown",
   "metadata": {},
   "source": [
    "The matrix is indicating a very strong correlation with severity."
   ]
  },
  {
   "cell_type": "code",
   "execution_count": 49,
   "metadata": {
    "scrolled": true
   },
   "outputs": [
    {
     "data": {
      "image/png": "[encoded data removed]",
      "text/plain": [
       "<Figure size 360x144 with 1 Axes>"
      ]
     },
     "metadata": {
      "needs_background": "light"
     },
     "output_type": "display_data"
    }
   ],
   "source": [
    "x_cols = [col for col in df.columns if col not in ['SEVERITYCODE'] if ((col =='INJURIES') or (col == 'SERIOUSINJURIES')\n",
    "                                                                       or (col == 'FATALITIES'))]\n",
    "\n",
    "labels = []\n",
    "values = []\n",
    "for col in x_cols:\n",
    "    labels.append(col)\n",
    "    values.append(np.corrcoef(df[col].values, df['SEVERITYCODE'].values)[0,1])\n",
    "corr_df = pd.DataFrame({'col_labels':labels, 'corr_values':values})\n",
    "corr_df = corr_df.sort_values(by='corr_values')\n",
    "\n",
    "ind = np.arange(len(labels))\n",
    "width = 0.9\n",
    "fig, ax = plt.subplots(figsize=(5,2))\n",
    "rects = ax.barh(ind, np.array(corr_df.corr_values.values), color='y')\n",
    "ax.set_yticks(ind)\n",
    "ax.set_yticklabels(corr_df.col_labels.values, rotation='horizontal')\n",
    "ax.set_xlabel(\"Correlation coefficient\", fontsize=10)\n",
    "ax.set_title(\"Correlation coefficient of the injury variables\", fontsize=10)\n",
    "plt.show()"
   ]
  },
  {
   "cell_type": "markdown",
   "metadata": {},
   "source": [
    "Since, apart from Severity Code = 1 (\"Property Damage Only Collision\"), Severity code is assigned based on the injury level, the former is a direct reflection of the latter. If we use injury features as predictors, it is easly seen that those will overwhelm the other features, and the prediction will be based on the after-effects of a collision. Therefore, these three features will be ignored."
   ]
  },
  {
   "cell_type": "markdown",
   "metadata": {},
   "source": [
    "### Pedestrian ROW (Right Of Way) not granted, Speeding and Inattention indicator (PEDROWNOTGRNT, SPEEDING and INATTENTIONIND) Variables\n",
    "\n",
    "These variables have missing values which are substituted by 'Unknown'."
   ]
  },
  {
   "cell_type": "code",
   "execution_count": 50,
   "metadata": {},
   "outputs": [
    {
     "data": {
      "text/plain": [
       "NaN    0.97399\n",
       "Y      0.02601\n",
       "Name: PEDROWNOTGRNT, dtype: float64"
      ]
     },
     "execution_count": 50,
     "metadata": {},
     "output_type": "execute_result"
    }
   ],
   "source": [
    "df['PEDROWNOTGRNT'].value_counts(normalize=True, ascending=False,dropna=False).round(5)"
   ]
  },
  {
   "cell_type": "code",
   "execution_count": 51,
   "metadata": {},
   "outputs": [],
   "source": [
    "df.replace({'PEDROWNOTGRNT' : {np.nan: 'N'}}, inplace=True)"
   ]
  },
  {
   "cell_type": "code",
   "execution_count": 52,
   "metadata": {},
   "outputs": [
    {
     "data": {
      "text/plain": [
       "NaN    0.95035\n",
       "Y      0.04965\n",
       "Name: SPEEDING, dtype: float64"
      ]
     },
     "execution_count": 52,
     "metadata": {},
     "output_type": "execute_result"
    }
   ],
   "source": [
    "df['SPEEDING'].value_counts(normalize=True, ascending=False,dropna=False).round(5)"
   ]
  },
  {
   "cell_type": "code",
   "execution_count": 53,
   "metadata": {},
   "outputs": [],
   "source": [
    "df.replace({'SPEEDING' : {np.nan: 'N'}}, inplace=True)"
   ]
  },
  {
   "cell_type": "code",
   "execution_count": 54,
   "metadata": {},
   "outputs": [
    {
     "data": {
      "text/plain": [
       "NaN    0.84861\n",
       "Y      0.15139\n",
       "Name: INATTENTIONIND, dtype: float64"
      ]
     },
     "execution_count": 54,
     "metadata": {},
     "output_type": "execute_result"
    }
   ],
   "source": [
    "df['INATTENTIONIND'].value_counts(normalize=True, ascending=False,dropna=False).round(5)"
   ]
  },
  {
   "cell_type": "code",
   "execution_count": 55,
   "metadata": {},
   "outputs": [],
   "source": [
    "df.replace({'INATTENTIONIND' : {np.nan: 'N'}}, inplace=True)"
   ]
  },
  {
   "cell_type": "markdown",
   "metadata": {},
   "source": [
    "### Person Count, Pedestrian Count, Pedestrian Cycle Count and Vehicle Count (PERSONCOUNT, PEDCOUNT, PEDCYLCOUNT and VEHCOUNT) variables"
   ]
  },
  {
   "cell_type": "code",
   "execution_count": 56,
   "metadata": {},
   "outputs": [
    {
     "data": {
      "text/plain": [
       "2    0.58620\n",
       "3    0.18274\n",
       "4    0.07515\n",
       "1    0.06828\n",
       "5    0.03398\n",
       "Name: PERSONCOUNT, dtype: float64"
      ]
     },
     "execution_count": 56,
     "metadata": {},
     "output_type": "execute_result"
    }
   ],
   "source": [
    "df['PERSONCOUNT'].value_counts(normalize=True, ascending=False,dropna=False).round(5).head()"
   ]
  },
  {
   "cell_type": "markdown",
   "metadata": {},
   "source": [
    "Since the Person Count has a long list, we can consider the top few values only, and assign the rest of the codes to a category 'Other'."
   ]
  },
  {
   "cell_type": "code",
   "execution_count": 57,
   "metadata": {},
   "outputs": [
    {
     "data": {
      "text/plain": [
       "0    0.97001\n",
       "1    0.02974\n",
       "2    0.00026\n",
       "Name: PEDCYLCOUNT, dtype: float64"
      ]
     },
     "execution_count": 57,
     "metadata": {},
     "output_type": "execute_result"
    }
   ],
   "source": [
    "df['PEDCYLCOUNT'].value_counts(normalize=True, ascending=False,dropna=False).round(5)"
   ]
  },
  {
   "cell_type": "code",
   "execution_count": 58,
   "metadata": {},
   "outputs": [
    {
     "data": {
      "text/plain": [
       "0    0.95959\n",
       "1    0.03884\n",
       "2    0.00137\n",
       "3    0.00014\n",
       "4    0.00005\n",
       "5    0.00001\n",
       "6    0.00001\n",
       "Name: PEDCOUNT, dtype: float64"
      ]
     },
     "execution_count": 58,
     "metadata": {},
     "output_type": "execute_result"
    }
   ],
   "source": [
    "df['PEDCOUNT'].value_counts(normalize=True, ascending=False,dropna=False).round(5)"
   ]
  },
  {
   "cell_type": "code",
   "execution_count": 59,
   "metadata": {},
   "outputs": [
    {
     "data": {
      "text/plain": [
       "2    0.75220\n",
       "1    0.13946\n",
       "3    0.06688\n",
       "0    0.02483\n",
       "4    0.01260\n",
       "Name: VEHCOUNT, dtype: float64"
      ]
     },
     "execution_count": 59,
     "metadata": {},
     "output_type": "execute_result"
    }
   ],
   "source": [
    "df['VEHCOUNT'].value_counts(normalize=True, ascending=False,dropna=False).round(5).head()"
   ]
  },
  {
   "cell_type": "markdown",
   "metadata": {},
   "source": [
    "## Grouping junction type and collision type with severity code (Sunburst Plot) "
   ]
  },
  {
   "cell_type": "code",
   "execution_count": 84,
   "metadata": {},
   "outputs": [
    {
     "data": {
      "application/vnd.plotly.v1+json": {
       "config": {
        "plotlyServerURL": "https://plot.ly"
       },
       "data": [
        {
         "branchvalues": "total",
         "domain": {
          "x": [
           0,
           1
          ],
          "y": [
           0,
           1
          ]
         },
         "hovertemplate": "labels=%{label}<br>count=%{value}<br>parent=%{parent}<br>id=%{id}<extra></extra>",
         "ids": [
          "1/At Intersection (Intersect)/Angles",
          "2/At Intersection (Intersect)/Angles",
          "3/At Intersection (Intersect)/Angles",
          "4/At Intersection (Intersect)/Angles",
          "1/Driveway Junction/Angles",
          "2/Driveway Junction/Angles",
          "3/Driveway Junction/Angles",
          "4/Driveway Junction/Angles",
          "1/Mid-Block (Intersect)/Angles",
          "2/Mid-Block (Intersect)/Angles",
          "3/Mid-Block (Intersect)/Angles",
          "4/Mid-Block (Intersect)/Angles",
          "1/Mid-Block (Not Intersect)/Angles",
          "2/Mid-Block (Not Intersect)/Angles",
          "3/Mid-Block (Not Intersect)/Angles",
          "4/Mid-Block (Not Intersect)/Angles",
          "1/Ramp Junction/Angles",
          "2/Ramp Junction/Angles",
          "3/Ramp Junction/Angles",
          "4/Ramp Junction/Angles",
          "1/Unknown/Angles",
          "2/Unknown/Angles",
          "3/Unknown/Angles",
          "4/Unknown/Angles",
          "1/At Intersection (Intersect)/Cycles",
          "2/At Intersection (Intersect)/Cycles",
          "3/At Intersection (Intersect)/Cycles",
          "4/At Intersection (Intersect)/Cycles",
          "1/Driveway Junction/Cycles",
          "2/Driveway Junction/Cycles",
          "3/Driveway Junction/Cycles",
          "4/Driveway Junction/Cycles",
          "1/Mid-Block (Intersect)/Cycles",
          "2/Mid-Block (Intersect)/Cycles",
          "3/Mid-Block (Intersect)/Cycles",
          "4/Mid-Block (Intersect)/Cycles",
          "1/Mid-Block (Not Intersect)/Cycles",
          "2/Mid-Block (Not Intersect)/Cycles",
          "3/Mid-Block (Not Intersect)/Cycles",
          "4/Mid-Block (Not Intersect)/Cycles",
          "1/Ramp Junction/Cycles",
          "2/Ramp Junction/Cycles",
          "3/Ramp Junction/Cycles",
          "4/Ramp Junction/Cycles",
          "1/Unknown/Cycles",
          "2/Unknown/Cycles",
          "3/Unknown/Cycles",
          "4/Unknown/Cycles",
          "1/At Intersection (Intersect)/Head On",
          "2/At Intersection (Intersect)/Head On",
          "3/At Intersection (Intersect)/Head On",
          "4/At Intersection (Intersect)/Head On",
          "1/Driveway Junction/Head On",
          "2/Driveway Junction/Head On",
          "3/Driveway Junction/Head On",
          "4/Driveway Junction/Head On",
          "1/Mid-Block (Intersect)/Head On",
          "2/Mid-Block (Intersect)/Head On",
          "3/Mid-Block (Intersect)/Head On",
          "4/Mid-Block (Intersect)/Head On",
          "1/Mid-Block (Not Intersect)/Head On",
          "2/Mid-Block (Not Intersect)/Head On",
          "3/Mid-Block (Not Intersect)/Head On",
          "4/Mid-Block (Not Intersect)/Head On",
          "1/Ramp Junction/Head On",
          "2/Ramp Junction/Head On",
          "3/Ramp Junction/Head On",
          "4/Ramp Junction/Head On",
          "1/Unknown/Head On",
          "2/Unknown/Head On",
          "3/Unknown/Head On",
          "4/Unknown/Head On",
          "1/At Intersection (Intersect)/Left Turn",
          "2/At Intersection (Intersect)/Left Turn",
          "3/At Intersection (Intersect)/Left Turn",
          "4/At Intersection (Intersect)/Left Turn",
          "1/Driveway Junction/Left Turn",
          "2/Driveway Junction/Left Turn",
          "3/Driveway Junction/Left Turn",
          "4/Driveway Junction/Left Turn",
          "1/Mid-Block (Intersect)/Left Turn",
          "2/Mid-Block (Intersect)/Left Turn",
          "3/Mid-Block (Intersect)/Left Turn",
          "4/Mid-Block (Intersect)/Left Turn",
          "1/Mid-Block (Not Intersect)/Left Turn",
          "2/Mid-Block (Not Intersect)/Left Turn",
          "3/Mid-Block (Not Intersect)/Left Turn",
          "4/Mid-Block (Not Intersect)/Left Turn",
          "1/Ramp Junction/Left Turn",
          "2/Ramp Junction/Left Turn",
          "3/Ramp Junction/Left Turn",
          "4/Ramp Junction/Left Turn",
          "1/Unknown/Left Turn",
          "2/Unknown/Left Turn",
          "3/Unknown/Left Turn",
          "4/Unknown/Left Turn",
          "1/At Intersection (Intersect)/Other",
          "2/At Intersection (Intersect)/Other",
          "3/At Intersection (Intersect)/Other",
          "4/At Intersection (Intersect)/Other",
          "1/Driveway Junction/Other",
          "2/Driveway Junction/Other",
          "3/Driveway Junction/Other",
          "4/Driveway Junction/Other",
          "1/Mid-Block (Intersect)/Other",
          "2/Mid-Block (Intersect)/Other",
          "3/Mid-Block (Intersect)/Other",
          "4/Mid-Block (Intersect)/Other",
          "1/Mid-Block (Not Intersect)/Other",
          "2/Mid-Block (Not Intersect)/Other",
          "3/Mid-Block (Not Intersect)/Other",
          "4/Mid-Block (Not Intersect)/Other",
          "1/Ramp Junction/Other",
          "2/Ramp Junction/Other",
          "3/Ramp Junction/Other",
          "4/Ramp Junction/Other",
          "1/Unknown/Other",
          "2/Unknown/Other",
          "3/Unknown/Other",
          "4/Unknown/Other",
          "1/At Intersection (Intersect)/Parked Car",
          "2/At Intersection (Intersect)/Parked Car",
          "3/At Intersection (Intersect)/Parked Car",
          "4/At Intersection (Intersect)/Parked Car",
          "1/Driveway Junction/Parked Car",
          "2/Driveway Junction/Parked Car",
          "3/Driveway Junction/Parked Car",
          "4/Driveway Junction/Parked Car",
          "1/Mid-Block (Intersect)/Parked Car",
          "2/Mid-Block (Intersect)/Parked Car",
          "3/Mid-Block (Intersect)/Parked Car",
          "4/Mid-Block (Intersect)/Parked Car",
          "1/Mid-Block (Not Intersect)/Parked Car",
          "2/Mid-Block (Not Intersect)/Parked Car",
          "3/Mid-Block (Not Intersect)/Parked Car",
          "4/Mid-Block (Not Intersect)/Parked Car",
          "1/Ramp Junction/Parked Car",
          "2/Ramp Junction/Parked Car",
          "3/Ramp Junction/Parked Car",
          "4/Ramp Junction/Parked Car",
          "1/Unknown/Parked Car",
          "2/Unknown/Parked Car",
          "3/Unknown/Parked Car",
          "4/Unknown/Parked Car",
          "1/At Intersection (Intersect)/Pedestrian",
          "2/At Intersection (Intersect)/Pedestrian",
          "3/At Intersection (Intersect)/Pedestrian",
          "4/At Intersection (Intersect)/Pedestrian",
          "1/Driveway Junction/Pedestrian",
          "2/Driveway Junction/Pedestrian",
          "3/Driveway Junction/Pedestrian",
          "4/Driveway Junction/Pedestrian",
          "1/Mid-Block (Intersect)/Pedestrian",
          "2/Mid-Block (Intersect)/Pedestrian",
          "3/Mid-Block (Intersect)/Pedestrian",
          "4/Mid-Block (Intersect)/Pedestrian",
          "1/Mid-Block (Not Intersect)/Pedestrian",
          "2/Mid-Block (Not Intersect)/Pedestrian",
          "3/Mid-Block (Not Intersect)/Pedestrian",
          "4/Mid-Block (Not Intersect)/Pedestrian",
          "1/Ramp Junction/Pedestrian",
          "2/Ramp Junction/Pedestrian",
          "3/Ramp Junction/Pedestrian",
          "4/Ramp Junction/Pedestrian",
          "1/Unknown/Pedestrian",
          "2/Unknown/Pedestrian",
          "3/Unknown/Pedestrian",
          "4/Unknown/Pedestrian",
          "1/At Intersection (Intersect)/Rear Ended",
          "2/At Intersection (Intersect)/Rear Ended",
          "3/At Intersection (Intersect)/Rear Ended",
          "4/At Intersection (Intersect)/Rear Ended",
          "1/Driveway Junction/Rear Ended",
          "2/Driveway Junction/Rear Ended",
          "3/Driveway Junction/Rear Ended",
          "4/Driveway Junction/Rear Ended",
          "1/Mid-Block (Intersect)/Rear Ended",
          "2/Mid-Block (Intersect)/Rear Ended",
          "3/Mid-Block (Intersect)/Rear Ended",
          "4/Mid-Block (Intersect)/Rear Ended",
          "1/Mid-Block (Not Intersect)/Rear Ended",
          "2/Mid-Block (Not Intersect)/Rear Ended",
          "3/Mid-Block (Not Intersect)/Rear Ended",
          "4/Mid-Block (Not Intersect)/Rear Ended",
          "1/Ramp Junction/Rear Ended",
          "2/Ramp Junction/Rear Ended",
          "3/Ramp Junction/Rear Ended",
          "4/Ramp Junction/Rear Ended",
          "1/Unknown/Rear Ended",
          "2/Unknown/Rear Ended",
          "3/Unknown/Rear Ended",
          "4/Unknown/Rear Ended",
          "1/At Intersection (Intersect)/Right Turn",
          "2/At Intersection (Intersect)/Right Turn",
          "3/At Intersection (Intersect)/Right Turn",
          "4/At Intersection (Intersect)/Right Turn",
          "1/Driveway Junction/Right Turn",
          "2/Driveway Junction/Right Turn",
          "3/Driveway Junction/Right Turn",
          "4/Driveway Junction/Right Turn",
          "1/Mid-Block (Intersect)/Right Turn",
          "2/Mid-Block (Intersect)/Right Turn",
          "3/Mid-Block (Intersect)/Right Turn",
          "4/Mid-Block (Intersect)/Right Turn",
          "1/Mid-Block (Not Intersect)/Right Turn",
          "2/Mid-Block (Not Intersect)/Right Turn",
          "3/Mid-Block (Not Intersect)/Right Turn",
          "4/Mid-Block (Not Intersect)/Right Turn",
          "1/Ramp Junction/Right Turn",
          "2/Ramp Junction/Right Turn",
          "3/Ramp Junction/Right Turn",
          "4/Ramp Junction/Right Turn",
          "1/Unknown/Right Turn",
          "2/Unknown/Right Turn",
          "3/Unknown/Right Turn",
          "4/Unknown/Right Turn",
          "1/At Intersection (Intersect)/Sideswipe",
          "2/At Intersection (Intersect)/Sideswipe",
          "3/At Intersection (Intersect)/Sideswipe",
          "4/At Intersection (Intersect)/Sideswipe",
          "1/Driveway Junction/Sideswipe",
          "2/Driveway Junction/Sideswipe",
          "3/Driveway Junction/Sideswipe",
          "4/Driveway Junction/Sideswipe",
          "1/Mid-Block (Intersect)/Sideswipe",
          "2/Mid-Block (Intersect)/Sideswipe",
          "3/Mid-Block (Intersect)/Sideswipe",
          "4/Mid-Block (Intersect)/Sideswipe",
          "1/Mid-Block (Not Intersect)/Sideswipe",
          "2/Mid-Block (Not Intersect)/Sideswipe",
          "3/Mid-Block (Not Intersect)/Sideswipe",
          "4/Mid-Block (Not Intersect)/Sideswipe",
          "1/Ramp Junction/Sideswipe",
          "2/Ramp Junction/Sideswipe",
          "3/Ramp Junction/Sideswipe",
          "4/Ramp Junction/Sideswipe",
          "1/Unknown/Sideswipe",
          "2/Unknown/Sideswipe",
          "3/Unknown/Sideswipe",
          "4/Unknown/Sideswipe",
          "1/At Intersection (Intersect)/Unknown",
          "2/At Intersection (Intersect)/Unknown",
          "3/At Intersection (Intersect)/Unknown",
          "4/At Intersection (Intersect)/Unknown",
          "1/Driveway Junction/Unknown",
          "2/Driveway Junction/Unknown",
          "3/Driveway Junction/Unknown",
          "4/Driveway Junction/Unknown",
          "1/Mid-Block (Intersect)/Unknown",
          "2/Mid-Block (Intersect)/Unknown",
          "3/Mid-Block (Intersect)/Unknown",
          "4/Mid-Block (Intersect)/Unknown",
          "1/Mid-Block (Not Intersect)/Unknown",
          "2/Mid-Block (Not Intersect)/Unknown",
          "3/Mid-Block (Not Intersect)/Unknown",
          "4/Mid-Block (Not Intersect)/Unknown",
          "1/Ramp Junction/Unknown",
          "2/Ramp Junction/Unknown",
          "3/Ramp Junction/Unknown",
          "4/Ramp Junction/Unknown",
          "1/Unknown/Unknown",
          "2/Unknown/Unknown",
          "3/Unknown/Unknown",
          "4/Unknown/Unknown",
          "1/At Intersection (Intersect)",
          "2/At Intersection (Intersect)",
          "3/At Intersection (Intersect)",
          "4/At Intersection (Intersect)",
          "1/Driveway Junction",
          "2/Driveway Junction",
          "3/Driveway Junction",
          "4/Driveway Junction",
          "1/Mid-Block (Intersect)",
          "2/Mid-Block (Intersect)",
          "3/Mid-Block (Intersect)",
          "4/Mid-Block (Intersect)",
          "1/Mid-Block (Not Intersect)",
          "2/Mid-Block (Not Intersect)",
          "3/Mid-Block (Not Intersect)",
          "4/Mid-Block (Not Intersect)",
          "1/Ramp Junction",
          "2/Ramp Junction",
          "3/Ramp Junction",
          "4/Ramp Junction",
          "1/Unknown",
          "2/Unknown",
          "3/Unknown",
          "4/Unknown",
          "1",
          "2",
          "3",
          "4"
         ],
         "labels": [
          "Angles",
          "Angles",
          "Angles",
          "Angles",
          "Angles",
          "Angles",
          "Angles",
          "Angles",
          "Angles",
          "Angles",
          "Angles",
          "Angles",
          "Angles",
          "Angles",
          "Angles",
          "Angles",
          "Angles",
          "Angles",
          "Angles",
          "Angles",
          "Angles",
          "Angles",
          "Angles",
          "Angles",
          "Cycles",
          "Cycles",
          "Cycles",
          "Cycles",
          "Cycles",
          "Cycles",
          "Cycles",
          "Cycles",
          "Cycles",
          "Cycles",
          "Cycles",
          "Cycles",
          "Cycles",
          "Cycles",
          "Cycles",
          "Cycles",
          "Cycles",
          "Cycles",
          "Cycles",
          "Cycles",
          "Cycles",
          "Cycles",
          "Cycles",
          "Cycles",
          "Head On",
          "Head On",
          "Head On",
          "Head On",
          "Head On",
          "Head On",
          "Head On",
          "Head On",
          "Head On",
          "Head On",
          "Head On",
          "Head On",
          "Head On",
          "Head On",
          "Head On",
          "Head On",
          "Head On",
          "Head On",
          "Head On",
          "Head On",
          "Head On",
          "Head On",
          "Head On",
          "Head On",
          "Left Turn",
          "Left Turn",
          "Left Turn",
          "Left Turn",
          "Left Turn",
          "Left Turn",
          "Left Turn",
          "Left Turn",
          "Left Turn",
          "Left Turn",
          "Left Turn",
          "Left Turn",
          "Left Turn",
          "Left Turn",
          "Left Turn",
          "Left Turn",
          "Left Turn",
          "Left Turn",
          "Left Turn",
          "Left Turn",
          "Left Turn",
          "Left Turn",
          "Left Turn",
          "Left Turn",
          "Other",
          "Other",
          "Other",
          "Other",
          "Other",
          "Other",
          "Other",
          "Other",
          "Other",
          "Other",
          "Other",
          "Other",
          "Other",
          "Other",
          "Other",
          "Other",
          "Other",
          "Other",
          "Other",
          "Other",
          "Other",
          "Other",
          "Other",
          "Other",
          "Parked Car",
          "Parked Car",
          "Parked Car",
          "Parked Car",
          "Parked Car",
          "Parked Car",
          "Parked Car",
          "Parked Car",
          "Parked Car",
          "Parked Car",
          "Parked Car",
          "Parked Car",
          "Parked Car",
          "Parked Car",
          "Parked Car",
          "Parked Car",
          "Parked Car",
          "Parked Car",
          "Parked Car",
          "Parked Car",
          "Parked Car",
          "Parked Car",
          "Parked Car",
          "Parked Car",
          "Pedestrian",
          "Pedestrian",
          "Pedestrian",
          "Pedestrian",
          "Pedestrian",
          "Pedestrian",
          "Pedestrian",
          "Pedestrian",
          "Pedestrian",
          "Pedestrian",
          "Pedestrian",
          "Pedestrian",
          "Pedestrian",
          "Pedestrian",
          "Pedestrian",
          "Pedestrian",
          "Pedestrian",
          "Pedestrian",
          "Pedestrian",
          "Pedestrian",
          "Pedestrian",
          "Pedestrian",
          "Pedestrian",
          "Pedestrian",
          "Rear Ended",
          "Rear Ended",
          "Rear Ended",
          "Rear Ended",
          "Rear Ended",
          "Rear Ended",
          "Rear Ended",
          "Rear Ended",
          "Rear Ended",
          "Rear Ended",
          "Rear Ended",
          "Rear Ended",
          "Rear Ended",
          "Rear Ended",
          "Rear Ended",
          "Rear Ended",
          "Rear Ended",
          "Rear Ended",
          "Rear Ended",
          "Rear Ended",
          "Rear Ended",
          "Rear Ended",
          "Rear Ended",
          "Rear Ended",
          "Right Turn",
          "Right Turn",
          "Right Turn",
          "Right Turn",
          "Right Turn",
          "Right Turn",
          "Right Turn",
          "Right Turn",
          "Right Turn",
          "Right Turn",
          "Right Turn",
          "Right Turn",
          "Right Turn",
          "Right Turn",
          "Right Turn",
          "Right Turn",
          "Right Turn",
          "Right Turn",
          "Right Turn",
          "Right Turn",
          "Right Turn",
          "Right Turn",
          "Right Turn",
          "Right Turn",
          "Sideswipe",
          "Sideswipe",
          "Sideswipe",
          "Sideswipe",
          "Sideswipe",
          "Sideswipe",
          "Sideswipe",
          "Sideswipe",
          "Sideswipe",
          "Sideswipe",
          "Sideswipe",
          "Sideswipe",
          "Sideswipe",
          "Sideswipe",
          "Sideswipe",
          "Sideswipe",
          "Sideswipe",
          "Sideswipe",
          "Sideswipe",
          "Sideswipe",
          "Sideswipe",
          "Sideswipe",
          "Sideswipe",
          "Sideswipe",
          "Unknown",
          "Unknown",
          "Unknown",
          "Unknown",
          "Unknown",
          "Unknown",
          "Unknown",
          "Unknown",
          "Unknown",
          "Unknown",
          "Unknown",
          "Unknown",
          "Unknown",
          "Unknown",
          "Unknown",
          "Unknown",
          "Unknown",
          "Unknown",
          "Unknown",
          "Unknown",
          "Unknown",
          "Unknown",
          "Unknown",
          "Unknown",
          "At Intersection (Intersect)",
          "At Intersection (Intersect)",
          "At Intersection (Intersect)",
          "At Intersection (Intersect)",
          "Driveway Junction",
          "Driveway Junction",
          "Driveway Junction",
          "Driveway Junction",
          "Mid-Block (Intersect)",
          "Mid-Block (Intersect)",
          "Mid-Block (Intersect)",
          "Mid-Block (Intersect)",
          "Mid-Block (Not Intersect)",
          "Mid-Block (Not Intersect)",
          "Mid-Block (Not Intersect)",
          "Mid-Block (Not Intersect)",
          "Ramp Junction",
          "Ramp Junction",
          "Ramp Junction",
          "Ramp Junction",
          "Unknown",
          "Unknown",
          "Unknown",
          "Unknown",
          "1",
          "2",
          "3",
          "4"
         ],
         "name": "",
         "parents": [
          "1/At Intersection (Intersect)",
          "2/At Intersection (Intersect)",
          "3/At Intersection (Intersect)",
          "4/At Intersection (Intersect)",
          "1/Driveway Junction",
          "2/Driveway Junction",
          "3/Driveway Junction",
          "4/Driveway Junction",
          "1/Mid-Block (Intersect)",
          "2/Mid-Block (Intersect)",
          "3/Mid-Block (Intersect)",
          "4/Mid-Block (Intersect)",
          "1/Mid-Block (Not Intersect)",
          "2/Mid-Block (Not Intersect)",
          "3/Mid-Block (Not Intersect)",
          "4/Mid-Block (Not Intersect)",
          "1/Ramp Junction",
          "2/Ramp Junction",
          "3/Ramp Junction",
          "4/Ramp Junction",
          "1/Unknown",
          "2/Unknown",
          "3/Unknown",
          "4/Unknown",
          "1/At Intersection (Intersect)",
          "2/At Intersection (Intersect)",
          "3/At Intersection (Intersect)",
          "4/At Intersection (Intersect)",
          "1/Driveway Junction",
          "2/Driveway Junction",
          "3/Driveway Junction",
          "4/Driveway Junction",
          "1/Mid-Block (Intersect)",
          "2/Mid-Block (Intersect)",
          "3/Mid-Block (Intersect)",
          "4/Mid-Block (Intersect)",
          "1/Mid-Block (Not Intersect)",
          "2/Mid-Block (Not Intersect)",
          "3/Mid-Block (Not Intersect)",
          "4/Mid-Block (Not Intersect)",
          "1/Ramp Junction",
          "2/Ramp Junction",
          "3/Ramp Junction",
          "4/Ramp Junction",
          "1/Unknown",
          "2/Unknown",
          "3/Unknown",
          "4/Unknown",
          "1/At Intersection (Intersect)",
          "2/At Intersection (Intersect)",
          "3/At Intersection (Intersect)",
          "4/At Intersection (Intersect)",
          "1/Driveway Junction",
          "2/Driveway Junction",
          "3/Driveway Junction",
          "4/Driveway Junction",
          "1/Mid-Block (Intersect)",
          "2/Mid-Block (Intersect)",
          "3/Mid-Block (Intersect)",
          "4/Mid-Block (Intersect)",
          "1/Mid-Block (Not Intersect)",
          "2/Mid-Block (Not Intersect)",
          "3/Mid-Block (Not Intersect)",
          "4/Mid-Block (Not Intersect)",
          "1/Ramp Junction",
          "2/Ramp Junction",
          "3/Ramp Junction",
          "4/Ramp Junction",
          "1/Unknown",
          "2/Unknown",
          "3/Unknown",
          "4/Unknown",
          "1/At Intersection (Intersect)",
          "2/At Intersection (Intersect)",
          "3/At Intersection (Intersect)",
          "4/At Intersection (Intersect)",
          "1/Driveway Junction",
          "2/Driveway Junction",
          "3/Driveway Junction",
          "4/Driveway Junction",
          "1/Mid-Block (Intersect)",
          "2/Mid-Block (Intersect)",
          "3/Mid-Block (Intersect)",
          "4/Mid-Block (Intersect)",
          "1/Mid-Block (Not Intersect)",
          "2/Mid-Block (Not Intersect)",
          "3/Mid-Block (Not Intersect)",
          "4/Mid-Block (Not Intersect)",
          "1/Ramp Junction",
          "2/Ramp Junction",
          "3/Ramp Junction",
          "4/Ramp Junction",
          "1/Unknown",
          "2/Unknown",
          "3/Unknown",
          "4/Unknown",
          "1/At Intersection (Intersect)",
          "2/At Intersection (Intersect)",
          "3/At Intersection (Intersect)",
          "4/At Intersection (Intersect)",
          "1/Driveway Junction",
          "2/Driveway Junction",
          "3/Driveway Junction",
          "4/Driveway Junction",
          "1/Mid-Block (Intersect)",
          "2/Mid-Block (Intersect)",
          "3/Mid-Block (Intersect)",
          "4/Mid-Block (Intersect)",
          "1/Mid-Block (Not Intersect)",
          "2/Mid-Block (Not Intersect)",
          "3/Mid-Block (Not Intersect)",
          "4/Mid-Block (Not Intersect)",
          "1/Ramp Junction",
          "2/Ramp Junction",
          "3/Ramp Junction",
          "4/Ramp Junction",
          "1/Unknown",
          "2/Unknown",
          "3/Unknown",
          "4/Unknown",
          "1/At Intersection (Intersect)",
          "2/At Intersection (Intersect)",
          "3/At Intersection (Intersect)",
          "4/At Intersection (Intersect)",
          "1/Driveway Junction",
          "2/Driveway Junction",
          "3/Driveway Junction",
          "4/Driveway Junction",
          "1/Mid-Block (Intersect)",
          "2/Mid-Block (Intersect)",
          "3/Mid-Block (Intersect)",
          "4/Mid-Block (Intersect)",
          "1/Mid-Block (Not Intersect)",
          "2/Mid-Block (Not Intersect)",
          "3/Mid-Block (Not Intersect)",
          "4/Mid-Block (Not Intersect)",
          "1/Ramp Junction",
          "2/Ramp Junction",
          "3/Ramp Junction",
          "4/Ramp Junction",
          "1/Unknown",
          "2/Unknown",
          "3/Unknown",
          "4/Unknown",
          "1/At Intersection (Intersect)",
          "2/At Intersection (Intersect)",
          "3/At Intersection (Intersect)",
          "4/At Intersection (Intersect)",
          "1/Driveway Junction",
          "2/Driveway Junction",
          "3/Driveway Junction",
          "4/Driveway Junction",
          "1/Mid-Block (Intersect)",
          "2/Mid-Block (Intersect)",
          "3/Mid-Block (Intersect)",
          "4/Mid-Block (Intersect)",
          "1/Mid-Block (Not Intersect)",
          "2/Mid-Block (Not Intersect)",
          "3/Mid-Block (Not Intersect)",
          "4/Mid-Block (Not Intersect)",
          "1/Ramp Junction",
          "2/Ramp Junction",
          "3/Ramp Junction",
          "4/Ramp Junction",
          "1/Unknown",
          "2/Unknown",
          "3/Unknown",
          "4/Unknown",
          "1/At Intersection (Intersect)",
          "2/At Intersection (Intersect)",
          "3/At Intersection (Intersect)",
          "4/At Intersection (Intersect)",
          "1/Driveway Junction",
          "2/Driveway Junction",
          "3/Driveway Junction",
          "4/Driveway Junction",
          "1/Mid-Block (Intersect)",
          "2/Mid-Block (Intersect)",
          "3/Mid-Block (Intersect)",
          "4/Mid-Block (Intersect)",
          "1/Mid-Block (Not Intersect)",
          "2/Mid-Block (Not Intersect)",
          "3/Mid-Block (Not Intersect)",
          "4/Mid-Block (Not Intersect)",
          "1/Ramp Junction",
          "2/Ramp Junction",
          "3/Ramp Junction",
          "4/Ramp Junction",
          "1/Unknown",
          "2/Unknown",
          "3/Unknown",
          "4/Unknown",
          "1/At Intersection (Intersect)",
          "2/At Intersection (Intersect)",
          "3/At Intersection (Intersect)",
          "4/At Intersection (Intersect)",
          "1/Driveway Junction",
          "2/Driveway Junction",
          "3/Driveway Junction",
          "4/Driveway Junction",
          "1/Mid-Block (Intersect)",
          "2/Mid-Block (Intersect)",
          "3/Mid-Block (Intersect)",
          "4/Mid-Block (Intersect)",
          "1/Mid-Block (Not Intersect)",
          "2/Mid-Block (Not Intersect)",
          "3/Mid-Block (Not Intersect)",
          "4/Mid-Block (Not Intersect)",
          "1/Ramp Junction",
          "2/Ramp Junction",
          "3/Ramp Junction",
          "4/Ramp Junction",
          "1/Unknown",
          "2/Unknown",
          "3/Unknown",
          "4/Unknown",
          "1/At Intersection (Intersect)",
          "2/At Intersection (Intersect)",
          "3/At Intersection (Intersect)",
          "4/At Intersection (Intersect)",
          "1/Driveway Junction",
          "2/Driveway Junction",
          "3/Driveway Junction",
          "4/Driveway Junction",
          "1/Mid-Block (Intersect)",
          "2/Mid-Block (Intersect)",
          "3/Mid-Block (Intersect)",
          "4/Mid-Block (Intersect)",
          "1/Mid-Block (Not Intersect)",
          "2/Mid-Block (Not Intersect)",
          "3/Mid-Block (Not Intersect)",
          "4/Mid-Block (Not Intersect)",
          "1/Ramp Junction",
          "2/Ramp Junction",
          "3/Ramp Junction",
          "4/Ramp Junction",
          "1/Unknown",
          "2/Unknown",
          "3/Unknown",
          "4/Unknown",
          "1/At Intersection (Intersect)",
          "2/At Intersection (Intersect)",
          "3/At Intersection (Intersect)",
          "4/At Intersection (Intersect)",
          "1/Driveway Junction",
          "2/Driveway Junction",
          "3/Driveway Junction",
          "4/Driveway Junction",
          "1/Mid-Block (Intersect)",
          "2/Mid-Block (Intersect)",
          "3/Mid-Block (Intersect)",
          "4/Mid-Block (Intersect)",
          "1/Mid-Block (Not Intersect)",
          "2/Mid-Block (Not Intersect)",
          "3/Mid-Block (Not Intersect)",
          "4/Mid-Block (Not Intersect)",
          "1/Ramp Junction",
          "2/Ramp Junction",
          "3/Ramp Junction",
          "4/Ramp Junction",
          "1/Unknown",
          "2/Unknown",
          "3/Unknown",
          "4/Unknown",
          "1",
          "2",
          "3",
          "4",
          "1",
          "2",
          "3",
          "4",
          "1",
          "2",
          "3",
          "4",
          "1",
          "2",
          "3",
          "4",
          "1",
          "2",
          "3",
          "4",
          "1",
          "2",
          "3",
          "4",
          "",
          "",
          "",
          ""
         ],
         "textinfo": "label+percent entry",
         "type": "sunburst",
         "values": [
          17061,
          12049,
          395,
          21,
          1718,
          754,
          15,
          2,
          830,
          274,
          9,
          2,
          1465,
          649,
          23,
          null,
          15,
          2,
          null,
          null,
          132,
          27,
          null,
          null,
          356,
          2772,
          242,
          18,
          70,
          502,
          32,
          null,
          43,
          198,
          17,
          null,
          199,
          1277,
          127,
          7,
          null,
          2,
          null,
          null,
          9,
          30,
          4,
          null,
          285,
          162,
          21,
          2,
          73,
          35,
          1,
          null,
          108,
          69,
          9,
          1,
          683,
          614,
          74,
          18,
          null,
          2,
          null,
          null,
          19,
          3,
          1,
          null,
          6907,
          4701,
          241,
          14,
          443,
          282,
          10,
          2,
          292,
          93,
          3,
          null,
          654,
          359,
          18,
          null,
          6,
          1,
          null,
          null,
          40,
          8,
          1,
          null,
          2791,
          977,
          86,
          6,
          2660,
          1077,
          40,
          2,
          2520,
          623,
          42,
          10,
          9212,
          3392,
          330,
          75,
          21,
          11,
          3,
          null,
          543,
          85,
          6,
          null,
          1190,
          69,
          3,
          null,
          1818,
          56,
          5,
          null,
          1964,
          106,
          6,
          null,
          36067,
          2449,
          111,
          7,
          3,
          3,
          1,
          null,
          4564,
          23,
          1,
          null,
          487,
          4260,
          495,
          85,
          26,
          238,
          24,
          2,
          13,
          146,
          29,
          1,
          142,
          1278,
          300,
          40,
          null,
          3,
          null,
          null,
          9,
          70,
          3,
          1,
          2414,
          1803,
          27,
          4,
          216,
          185,
          6,
          null,
          6975,
          5346,
          64,
          2,
          9697,
          7323,
          127,
          5,
          37,
          22,
          1,
          null,
          244,
          111,
          null,
          null,
          1366,
          353,
          14,
          1,
          190,
          57,
          1,
          null,
          468,
          106,
          4,
          null,
          324,
          95,
          3,
          null,
          null,
          null,
          null,
          null,
          20,
          4,
          null,
          null,
          3433,
          478,
          9,
          1,
          161,
          30,
          4,
          null,
          2022,
          276,
          4,
          1,
          10353,
          1713,
          52,
          8,
          28,
          6,
          null,
          null,
          239,
          29,
          2,
          null,
          1082,
          372,
          22,
          5,
          83,
          26,
          1,
          null,
          292,
          81,
          1,
          2,
          2111,
          464,
          22,
          4,
          2,
          2,
          null,
          null,
          140,
          15,
          null,
          null,
          37372,
          27996,
          1555,
          157,
          7458,
          3242,
          139,
          8,
          15527,
          7318,
          188,
          19,
          70907,
          19613,
          1187,
          164,
          112,
          54,
          5,
          null,
          5959,
          405,
          18,
          1,
          137335,
          58628,
          3092,
          349
         ]
        }
       ],
       "layout": {
        "height": 700,
        "legend": {
         "tracegroupgap": 0
        },
        "margin": {
         "b": 0,
         "l": 0,
         "r": 0,
         "t": 50
        },
        "template": {
         "data": {
          "bar": [
           {
            "error_x": {
             "color": "#2a3f5f"
            },
            "error_y": {
             "color": "#2a3f5f"
            },
            "marker": {
             "line": {
              "color": "#E5ECF6",
              "width": 0.5
             }
            },
            "type": "bar"
           }
          ],
          "barpolar": [
           {
            "marker": {
             "line": {
              "color": "#E5ECF6",
              "width": 0.5
             }
            },
            "type": "barpolar"
           }
          ],
          "carpet": [
           {
            "aaxis": {
             "endlinecolor": "#2a3f5f",
             "gridcolor": "white",
             "linecolor": "white",
             "minorgridcolor": "white",
             "startlinecolor": "#2a3f5f"
            },
            "baxis": {
             "endlinecolor": "#2a3f5f",
             "gridcolor": "white",
             "linecolor": "white",
             "minorgridcolor": "white",
             "startlinecolor": "#2a3f5f"
            },
            "type": "carpet"
           }
          ],
          "choropleth": [
           {
            "colorbar": {
             "outlinewidth": 0,
             "ticks": ""
            },
            "type": "choropleth"
           }
          ],
          "contour": [
           {
            "colorbar": {
             "outlinewidth": 0,
             "ticks": ""
            },
            "colorscale": [
             [
              0,
              "#0d0887"
             ],
             [
              0.1111111111111111,
              "#46039f"
             ],
             [
              0.2222222222222222,
              "#7201a8"
             ],
             [
              0.3333333333333333,
              "#9c179e"
             ],
             [
              0.4444444444444444,
              "#bd3786"
             ],
             [
              0.5555555555555556,
              "#d8576b"
             ],
             [
              0.6666666666666666,
              "#ed7953"
             ],
             [
              0.7777777777777778,
              "#fb9f3a"
             ],
             [
              0.8888888888888888,
              "#fdca26"
             ],
             [
              1,
              "#f0f921"
             ]
            ],
            "type": "contour"
           }
          ],
          "contourcarpet": [
           {
            "colorbar": {
             "outlinewidth": 0,
             "ticks": ""
            },
            "type": "contourcarpet"
           }
          ],
          "heatmap": [
           {
            "colorbar": {
             "outlinewidth": 0,
             "ticks": ""
            },
            "colorscale": [
             [
              0,
              "#0d0887"
             ],
             [
              0.1111111111111111,
              "#46039f"
             ],
             [
              0.2222222222222222,
              "#7201a8"
             ],
             [
              0.3333333333333333,
              "#9c179e"
             ],
             [
              0.4444444444444444,
              "#bd3786"
             ],
             [
              0.5555555555555556,
              "#d8576b"
             ],
             [
              0.6666666666666666,
              "#ed7953"
             ],
             [
              0.7777777777777778,
              "#fb9f3a"
             ],
             [
              0.8888888888888888,
              "#fdca26"
             ],
             [
              1,
              "#f0f921"
             ]
            ],
            "type": "heatmap"
           }
          ],
          "heatmapgl": [
           {
            "colorbar": {
             "outlinewidth": 0,
             "ticks": ""
            },
            "colorscale": [
             [
              0,
              "#0d0887"
             ],
             [
              0.1111111111111111,
              "#46039f"
             ],
             [
              0.2222222222222222,
              "#7201a8"
             ],
             [
              0.3333333333333333,
              "#9c179e"
             ],
             [
              0.4444444444444444,
              "#bd3786"
             ],
             [
              0.5555555555555556,
              "#d8576b"
             ],
             [
              0.6666666666666666,
              "#ed7953"
             ],
             [
              0.7777777777777778,
              "#fb9f3a"
             ],
             [
              0.8888888888888888,
              "#fdca26"
             ],
             [
              1,
              "#f0f921"
             ]
            ],
            "type": "heatmapgl"
           }
          ],
          "histogram": [
           {
            "marker": {
             "colorbar": {
              "outlinewidth": 0,
              "ticks": ""
             }
            },
            "type": "histogram"
           }
          ],
          "histogram2d": [
           {
            "colorbar": {
             "outlinewidth": 0,
             "ticks": ""
            },
            "colorscale": [
             [
              0,
              "#0d0887"
             ],
             [
              0.1111111111111111,
              "#46039f"
             ],
             [
              0.2222222222222222,
              "#7201a8"
             ],
             [
              0.3333333333333333,
              "#9c179e"
             ],
             [
              0.4444444444444444,
              "#bd3786"
             ],
             [
              0.5555555555555556,
              "#d8576b"
             ],
             [
              0.6666666666666666,
              "#ed7953"
             ],
             [
              0.7777777777777778,
              "#fb9f3a"
             ],
             [
              0.8888888888888888,
              "#fdca26"
             ],
             [
              1,
              "#f0f921"
             ]
            ],
            "type": "histogram2d"
           }
          ],
          "histogram2dcontour": [
           {
            "colorbar": {
             "outlinewidth": 0,
             "ticks": ""
            },
            "colorscale": [
             [
              0,
              "#0d0887"
             ],
             [
              0.1111111111111111,
              "#46039f"
             ],
             [
              0.2222222222222222,
              "#7201a8"
             ],
             [
              0.3333333333333333,
              "#9c179e"
             ],
             [
              0.4444444444444444,
              "#bd3786"
             ],
             [
              0.5555555555555556,
              "#d8576b"
             ],
             [
              0.6666666666666666,
              "#ed7953"
             ],
             [
              0.7777777777777778,
              "#fb9f3a"
             ],
             [
              0.8888888888888888,
              "#fdca26"
             ],
             [
              1,
              "#f0f921"
             ]
            ],
            "type": "histogram2dcontour"
           }
          ],
          "mesh3d": [
           {
            "colorbar": {
             "outlinewidth": 0,
             "ticks": ""
            },
            "type": "mesh3d"
           }
          ],
          "parcoords": [
           {
            "line": {
             "colorbar": {
              "outlinewidth": 0,
              "ticks": ""
             }
            },
            "type": "parcoords"
           }
          ],
          "pie": [
           {
            "automargin": true,
            "type": "pie"
           }
          ],
          "scatter": [
           {
            "marker": {
             "colorbar": {
              "outlinewidth": 0,
              "ticks": ""
             }
            },
            "type": "scatter"
           }
          ],
          "scatter3d": [
           {
            "line": {
             "colorbar": {
              "outlinewidth": 0,
              "ticks": ""
             }
            },
            "marker": {
             "colorbar": {
              "outlinewidth": 0,
              "ticks": ""
             }
            },
            "type": "scatter3d"
           }
          ],
          "scattercarpet": [
           {
            "marker": {
             "colorbar": {
              "outlinewidth": 0,
              "ticks": ""
             }
            },
            "type": "scattercarpet"
           }
          ],
          "scattergeo": [
           {
            "marker": {
             "colorbar": {
              "outlinewidth": 0,
              "ticks": ""
             }
            },
            "type": "scattergeo"
           }
          ],
          "scattergl": [
           {
            "marker": {
             "colorbar": {
              "outlinewidth": 0,
              "ticks": ""
             }
            },
            "type": "scattergl"
           }
          ],
          "scattermapbox": [
           {
            "marker": {
             "colorbar": {
              "outlinewidth": 0,
              "ticks": ""
             }
            },
            "type": "scattermapbox"
           }
          ],
          "scatterpolar": [
           {
            "marker": {
             "colorbar": {
              "outlinewidth": 0,
              "ticks": ""
             }
            },
            "type": "scatterpolar"
           }
          ],
          "scatterpolargl": [
           {
            "marker": {
             "colorbar": {
              "outlinewidth": 0,
              "ticks": ""
             }
            },
            "type": "scatterpolargl"
           }
          ],
          "scatterternary": [
           {
            "marker": {
             "colorbar": {
              "outlinewidth": 0,
              "ticks": ""
             }
            },
            "type": "scatterternary"
           }
          ],
          "surface": [
           {
            "colorbar": {
             "outlinewidth": 0,
             "ticks": ""
            },
            "colorscale": [
             [
              0,
              "#0d0887"
             ],
             [
              0.1111111111111111,
              "#46039f"
             ],
             [
              0.2222222222222222,
              "#7201a8"
             ],
             [
              0.3333333333333333,
              "#9c179e"
             ],
             [
              0.4444444444444444,
              "#bd3786"
             ],
             [
              0.5555555555555556,
              "#d8576b"
             ],
             [
              0.6666666666666666,
              "#ed7953"
             ],
             [
              0.7777777777777778,
              "#fb9f3a"
             ],
             [
              0.8888888888888888,
              "#fdca26"
             ],
             [
              1,
              "#f0f921"
             ]
            ],
            "type": "surface"
           }
          ],
          "table": [
           {
            "cells": {
             "fill": {
              "color": "#EBF0F8"
             },
             "line": {
              "color": "white"
             }
            },
            "header": {
             "fill": {
              "color": "#C8D4E3"
             },
             "line": {
              "color": "white"
             }
            },
            "type": "table"
           }
          ]
         },
         "layout": {
          "annotationdefaults": {
           "arrowcolor": "#2a3f5f",
           "arrowhead": 0,
           "arrowwidth": 1
          },
          "coloraxis": {
           "colorbar": {
            "outlinewidth": 0,
            "ticks": ""
           }
          },
          "colorscale": {
           "diverging": [
            [
             0,
             "#8e0152"
            ],
            [
             0.1,
             "#c51b7d"
            ],
            [
             0.2,
             "#de77ae"
            ],
            [
             0.3,
             "#f1b6da"
            ],
            [
             0.4,
             "#fde0ef"
            ],
            [
             0.5,
             "#f7f7f7"
            ],
            [
             0.6,
             "#e6f5d0"
            ],
            [
             0.7,
             "#b8e186"
            ],
            [
             0.8,
             "#7fbc41"
            ],
            [
             0.9,
             "#4d9221"
            ],
            [
             1,
             "#276419"
            ]
           ],
           "sequential": [
            [
             0,
             "#0d0887"
            ],
            [
             0.1111111111111111,
             "#46039f"
            ],
            [
             0.2222222222222222,
             "#7201a8"
            ],
            [
             0.3333333333333333,
             "#9c179e"
            ],
            [
             0.4444444444444444,
             "#bd3786"
            ],
            [
             0.5555555555555556,
             "#d8576b"
            ],
            [
             0.6666666666666666,
             "#ed7953"
            ],
            [
             0.7777777777777778,
             "#fb9f3a"
            ],
            [
             0.8888888888888888,
             "#fdca26"
            ],
            [
             1,
             "#f0f921"
            ]
           ],
           "sequentialminus": [
            [
             0,
             "#0d0887"
            ],
            [
             0.1111111111111111,
             "#46039f"
            ],
            [
             0.2222222222222222,
             "#7201a8"
            ],
            [
             0.3333333333333333,
             "#9c179e"
            ],
            [
             0.4444444444444444,
             "#bd3786"
            ],
            [
             0.5555555555555556,
             "#d8576b"
            ],
            [
             0.6666666666666666,
             "#ed7953"
            ],
            [
             0.7777777777777778,
             "#fb9f3a"
            ],
            [
             0.8888888888888888,
             "#fdca26"
            ],
            [
             1,
             "#f0f921"
            ]
           ]
          },
          "colorway": [
           "#636efa",
           "#EF553B",
           "#00cc96",
           "#ab63fa",
           "#FFA15A",
           "#19d3f3",
           "#FF6692",
           "#B6E880",
           "#FF97FF",
           "#FECB52"
          ],
          "font": {
           "color": "#2a3f5f"
          },
          "geo": {
           "bgcolor": "white",
           "lakecolor": "white",
           "landcolor": "#E5ECF6",
           "showlakes": true,
           "showland": true,
           "subunitcolor": "white"
          },
          "hoverlabel": {
           "align": "left"
          },
          "hovermode": "closest",
          "mapbox": {
           "style": "light"
          },
          "paper_bgcolor": "white",
          "plot_bgcolor": "#E5ECF6",
          "polar": {
           "angularaxis": {
            "gridcolor": "white",
            "linecolor": "white",
            "ticks": ""
           },
           "bgcolor": "#E5ECF6",
           "radialaxis": {
            "gridcolor": "white",
            "linecolor": "white",
            "ticks": ""
           }
          },
          "scene": {
           "xaxis": {
            "backgroundcolor": "#E5ECF6",
            "gridcolor": "white",
            "gridwidth": 2,
            "linecolor": "white",
            "showbackground": true,
            "ticks": "",
            "zerolinecolor": "white"
           },
           "yaxis": {
            "backgroundcolor": "#E5ECF6",
            "gridcolor": "white",
            "gridwidth": 2,
            "linecolor": "white",
            "showbackground": true,
            "ticks": "",
            "zerolinecolor": "white"
           },
           "zaxis": {
            "backgroundcolor": "#E5ECF6",
            "gridcolor": "white",
            "gridwidth": 2,
            "linecolor": "white",
            "showbackground": true,
            "ticks": "",
            "zerolinecolor": "white"
           }
          },
          "shapedefaults": {
           "line": {
            "color": "#2a3f5f"
           }
          },
          "ternary": {
           "aaxis": {
            "gridcolor": "white",
            "linecolor": "white",
            "ticks": ""
           },
           "baxis": {
            "gridcolor": "white",
            "linecolor": "white",
            "ticks": ""
           },
           "bgcolor": "#E5ECF6",
           "caxis": {
            "gridcolor": "white",
            "linecolor": "white",
            "ticks": ""
           }
          },
          "title": {
           "x": 0.05
          },
          "xaxis": {
           "automargin": true,
           "gridcolor": "white",
           "linecolor": "white",
           "ticks": "",
           "title": {
            "standoff": 15
           },
           "zerolinecolor": "white",
           "zerolinewidth": 2
          },
          "yaxis": {
           "automargin": true,
           "gridcolor": "white",
           "linecolor": "white",
           "ticks": "",
           "title": {
            "standoff": 15
           },
           "zerolinecolor": "white",
           "zerolinewidth": 2
          }
         }
        },
        "title": {
         "text": "Breakdown of collision type, junction type by severity code"
        },
        "width": 700
       }
      },
      "text/html": [
       "<div>                            <div id=\"8759f43b-bfb4-4233-bcd7-e23e831ed6c9\" class=\"plotly-graph-div\" style=\"height:700px; width:700px;\"></div>            <script type=\"text/javascript\">                require([\"plotly\"], function(Plotly) {                    window.PLOTLYENV=window.PLOTLYENV || {};                                    if (document.getElementById(\"8759f43b-bfb4-4233-bcd7-e23e831ed6c9\")) {                    Plotly.newPlot(                        \"8759f43b-bfb4-4233-bcd7-e23e831ed6c9\",                        [{\"branchvalues\": \"total\", \"domain\": {\"x\": [0.0, 1.0], \"y\": [0.0, 1.0]}, \"hovertemplate\": \"labels=%{label}<br>count=%{value}<br>parent=%{parent}<br>id=%{id}<extra></extra>\", \"ids\": [\"1/At Intersection (Intersect)/Angles\", \"2/At Intersection (Intersect)/Angles\", \"3/At Intersection (Intersect)/Angles\", \"4/At Intersection (Intersect)/Angles\", \"1/Driveway Junction/Angles\", \"2/Driveway Junction/Angles\", \"3/Driveway Junction/Angles\", \"4/Driveway Junction/Angles\", \"1/Mid-Block (Intersect)/Angles\", \"2/Mid-Block (Intersect)/Angles\", \"3/Mid-Block (Intersect)/Angles\", \"4/Mid-Block (Intersect)/Angles\", \"1/Mid-Block (Not Intersect)/Angles\", \"2/Mid-Block (Not Intersect)/Angles\", \"3/Mid-Block (Not Intersect)/Angles\", \"4/Mid-Block (Not Intersect)/Angles\", \"1/Ramp Junction/Angles\", \"2/Ramp Junction/Angles\", \"3/Ramp Junction/Angles\", \"4/Ramp Junction/Angles\", \"1/Unknown/Angles\", \"2/Unknown/Angles\", \"3/Unknown/Angles\", \"4/Unknown/Angles\", \"1/At Intersection (Intersect)/Cycles\", \"2/At Intersection (Intersect)/Cycles\", \"3/At Intersection (Intersect)/Cycles\", \"4/At Intersection (Intersect)/Cycles\", \"1/Driveway Junction/Cycles\", \"2/Driveway Junction/Cycles\", \"3/Driveway Junction/Cycles\", \"4/Driveway Junction/Cycles\", \"1/Mid-Block (Intersect)/Cycles\", \"2/Mid-Block (Intersect)/Cycles\", \"3/Mid-Block (Intersect)/Cycles\", \"4/Mid-Block (Intersect)/Cycles\", \"1/Mid-Block (Not Intersect)/Cycles\", \"2/Mid-Block (Not Intersect)/Cycles\", \"3/Mid-Block (Not Intersect)/Cycles\", \"4/Mid-Block (Not Intersect)/Cycles\", \"1/Ramp Junction/Cycles\", \"2/Ramp Junction/Cycles\", \"3/Ramp Junction/Cycles\", \"4/Ramp Junction/Cycles\", \"1/Unknown/Cycles\", \"2/Unknown/Cycles\", \"3/Unknown/Cycles\", \"4/Unknown/Cycles\", \"1/At Intersection (Intersect)/Head On\", \"2/At Intersection (Intersect)/Head On\", \"3/At Intersection (Intersect)/Head On\", \"4/At Intersection (Intersect)/Head On\", \"1/Driveway Junction/Head On\", \"2/Driveway Junction/Head On\", \"3/Driveway Junction/Head On\", \"4/Driveway Junction/Head On\", \"1/Mid-Block (Intersect)/Head On\", \"2/Mid-Block (Intersect)/Head On\", \"3/Mid-Block (Intersect)/Head On\", \"4/Mid-Block (Intersect)/Head On\", \"1/Mid-Block (Not Intersect)/Head On\", \"2/Mid-Block (Not Intersect)/Head On\", \"3/Mid-Block (Not Intersect)/Head On\", \"4/Mid-Block (Not Intersect)/Head On\", \"1/Ramp Junction/Head On\", \"2/Ramp Junction/Head On\", \"3/Ramp Junction/Head On\", \"4/Ramp Junction/Head On\", \"1/Unknown/Head On\", \"2/Unknown/Head On\", \"3/Unknown/Head On\", \"4/Unknown/Head On\", \"1/At Intersection (Intersect)/Left Turn\", \"2/At Intersection (Intersect)/Left Turn\", \"3/At Intersection (Intersect)/Left Turn\", \"4/At Intersection (Intersect)/Left Turn\", \"1/Driveway Junction/Left Turn\", \"2/Driveway Junction/Left Turn\", \"3/Driveway Junction/Left Turn\", \"4/Driveway Junction/Left Turn\", \"1/Mid-Block (Intersect)/Left Turn\", \"2/Mid-Block (Intersect)/Left Turn\", \"3/Mid-Block (Intersect)/Left Turn\", \"4/Mid-Block (Intersect)/Left Turn\", \"1/Mid-Block (Not Intersect)/Left Turn\", \"2/Mid-Block (Not Intersect)/Left Turn\", \"3/Mid-Block (Not Intersect)/Left Turn\", \"4/Mid-Block (Not Intersect)/Left Turn\", \"1/Ramp Junction/Left Turn\", \"2/Ramp Junction/Left Turn\", \"3/Ramp Junction/Left Turn\", \"4/Ramp Junction/Left Turn\", \"1/Unknown/Left Turn\", \"2/Unknown/Left Turn\", \"3/Unknown/Left Turn\", \"4/Unknown/Left Turn\", \"1/At Intersection (Intersect)/Other\", \"2/At Intersection (Intersect)/Other\", \"3/At Intersection (Intersect)/Other\", \"4/At Intersection (Intersect)/Other\", \"1/Driveway Junction/Other\", \"2/Driveway Junction/Other\", \"3/Driveway Junction/Other\", \"4/Driveway Junction/Other\", \"1/Mid-Block (Intersect)/Other\", \"2/Mid-Block (Intersect)/Other\", \"3/Mid-Block (Intersect)/Other\", \"4/Mid-Block (Intersect)/Other\", \"1/Mid-Block (Not Intersect)/Other\", \"2/Mid-Block (Not Intersect)/Other\", \"3/Mid-Block (Not Intersect)/Other\", \"4/Mid-Block (Not Intersect)/Other\", \"1/Ramp Junction/Other\", \"2/Ramp Junction/Other\", \"3/Ramp Junction/Other\", \"4/Ramp Junction/Other\", \"1/Unknown/Other\", \"2/Unknown/Other\", \"3/Unknown/Other\", \"4/Unknown/Other\", \"1/At Intersection (Intersect)/Parked Car\", \"2/At Intersection (Intersect)/Parked Car\", \"3/At Intersection (Intersect)/Parked Car\", \"4/At Intersection (Intersect)/Parked Car\", \"1/Driveway Junction/Parked Car\", \"2/Driveway Junction/Parked Car\", \"3/Driveway Junction/Parked Car\", \"4/Driveway Junction/Parked Car\", \"1/Mid-Block (Intersect)/Parked Car\", \"2/Mid-Block (Intersect)/Parked Car\", \"3/Mid-Block (Intersect)/Parked Car\", \"4/Mid-Block (Intersect)/Parked Car\", \"1/Mid-Block (Not Intersect)/Parked Car\", \"2/Mid-Block (Not Intersect)/Parked Car\", \"3/Mid-Block (Not Intersect)/Parked Car\", \"4/Mid-Block (Not Intersect)/Parked Car\", \"1/Ramp Junction/Parked Car\", \"2/Ramp Junction/Parked Car\", \"3/Ramp Junction/Parked Car\", \"4/Ramp Junction/Parked Car\", \"1/Unknown/Parked Car\", \"2/Unknown/Parked Car\", \"3/Unknown/Parked Car\", \"4/Unknown/Parked Car\", \"1/At Intersection (Intersect)/Pedestrian\", \"2/At Intersection (Intersect)/Pedestrian\", \"3/At Intersection (Intersect)/Pedestrian\", \"4/At Intersection (Intersect)/Pedestrian\", \"1/Driveway Junction/Pedestrian\", \"2/Driveway Junction/Pedestrian\", \"3/Driveway Junction/Pedestrian\", \"4/Driveway Junction/Pedestrian\", \"1/Mid-Block (Intersect)/Pedestrian\", \"2/Mid-Block (Intersect)/Pedestrian\", \"3/Mid-Block (Intersect)/Pedestrian\", \"4/Mid-Block (Intersect)/Pedestrian\", \"1/Mid-Block (Not Intersect)/Pedestrian\", \"2/Mid-Block (Not Intersect)/Pedestrian\", \"3/Mid-Block (Not Intersect)/Pedestrian\", \"4/Mid-Block (Not Intersect)/Pedestrian\", \"1/Ramp Junction/Pedestrian\", \"2/Ramp Junction/Pedestrian\", \"3/Ramp Junction/Pedestrian\", \"4/Ramp Junction/Pedestrian\", \"1/Unknown/Pedestrian\", \"2/Unknown/Pedestrian\", \"3/Unknown/Pedestrian\", \"4/Unknown/Pedestrian\", \"1/At Intersection (Intersect)/Rear Ended\", \"2/At Intersection (Intersect)/Rear Ended\", \"3/At Intersection (Intersect)/Rear Ended\", \"4/At Intersection (Intersect)/Rear Ended\", \"1/Driveway Junction/Rear Ended\", \"2/Driveway Junction/Rear Ended\", \"3/Driveway Junction/Rear Ended\", \"4/Driveway Junction/Rear Ended\", \"1/Mid-Block (Intersect)/Rear Ended\", \"2/Mid-Block (Intersect)/Rear Ended\", \"3/Mid-Block (Intersect)/Rear Ended\", \"4/Mid-Block (Intersect)/Rear Ended\", \"1/Mid-Block (Not Intersect)/Rear Ended\", \"2/Mid-Block (Not Intersect)/Rear Ended\", \"3/Mid-Block (Not Intersect)/Rear Ended\", \"4/Mid-Block (Not Intersect)/Rear Ended\", \"1/Ramp Junction/Rear Ended\", \"2/Ramp Junction/Rear Ended\", \"3/Ramp Junction/Rear Ended\", \"4/Ramp Junction/Rear Ended\", \"1/Unknown/Rear Ended\", \"2/Unknown/Rear Ended\", \"3/Unknown/Rear Ended\", \"4/Unknown/Rear Ended\", \"1/At Intersection (Intersect)/Right Turn\", \"2/At Intersection (Intersect)/Right Turn\", \"3/At Intersection (Intersect)/Right Turn\", \"4/At Intersection (Intersect)/Right Turn\", \"1/Driveway Junction/Right Turn\", \"2/Driveway Junction/Right Turn\", \"3/Driveway Junction/Right Turn\", \"4/Driveway Junction/Right Turn\", \"1/Mid-Block (Intersect)/Right Turn\", \"2/Mid-Block (Intersect)/Right Turn\", \"3/Mid-Block (Intersect)/Right Turn\", \"4/Mid-Block (Intersect)/Right Turn\", \"1/Mid-Block (Not Intersect)/Right Turn\", \"2/Mid-Block (Not Intersect)/Right Turn\", \"3/Mid-Block (Not Intersect)/Right Turn\", \"4/Mid-Block (Not Intersect)/Right Turn\", \"1/Ramp Junction/Right Turn\", \"2/Ramp Junction/Right Turn\", \"3/Ramp Junction/Right Turn\", \"4/Ramp Junction/Right Turn\", \"1/Unknown/Right Turn\", \"2/Unknown/Right Turn\", \"3/Unknown/Right Turn\", \"4/Unknown/Right Turn\", \"1/At Intersection (Intersect)/Sideswipe\", \"2/At Intersection (Intersect)/Sideswipe\", \"3/At Intersection (Intersect)/Sideswipe\", \"4/At Intersection (Intersect)/Sideswipe\", \"1/Driveway Junction/Sideswipe\", \"2/Driveway Junction/Sideswipe\", \"3/Driveway Junction/Sideswipe\", \"4/Driveway Junction/Sideswipe\", \"1/Mid-Block (Intersect)/Sideswipe\", \"2/Mid-Block (Intersect)/Sideswipe\", \"3/Mid-Block (Intersect)/Sideswipe\", \"4/Mid-Block (Intersect)/Sideswipe\", \"1/Mid-Block (Not Intersect)/Sideswipe\", \"2/Mid-Block (Not Intersect)/Sideswipe\", \"3/Mid-Block (Not Intersect)/Sideswipe\", \"4/Mid-Block (Not Intersect)/Sideswipe\", \"1/Ramp Junction/Sideswipe\", \"2/Ramp Junction/Sideswipe\", \"3/Ramp Junction/Sideswipe\", \"4/Ramp Junction/Sideswipe\", \"1/Unknown/Sideswipe\", \"2/Unknown/Sideswipe\", \"3/Unknown/Sideswipe\", \"4/Unknown/Sideswipe\", \"1/At Intersection (Intersect)/Unknown\", \"2/At Intersection (Intersect)/Unknown\", \"3/At Intersection (Intersect)/Unknown\", \"4/At Intersection (Intersect)/Unknown\", \"1/Driveway Junction/Unknown\", \"2/Driveway Junction/Unknown\", \"3/Driveway Junction/Unknown\", \"4/Driveway Junction/Unknown\", \"1/Mid-Block (Intersect)/Unknown\", \"2/Mid-Block (Intersect)/Unknown\", \"3/Mid-Block (Intersect)/Unknown\", \"4/Mid-Block (Intersect)/Unknown\", \"1/Mid-Block (Not Intersect)/Unknown\", \"2/Mid-Block (Not Intersect)/Unknown\", \"3/Mid-Block (Not Intersect)/Unknown\", \"4/Mid-Block (Not Intersect)/Unknown\", \"1/Ramp Junction/Unknown\", \"2/Ramp Junction/Unknown\", \"3/Ramp Junction/Unknown\", \"4/Ramp Junction/Unknown\", \"1/Unknown/Unknown\", \"2/Unknown/Unknown\", \"3/Unknown/Unknown\", \"4/Unknown/Unknown\", \"1/At Intersection (Intersect)\", \"2/At Intersection (Intersect)\", \"3/At Intersection (Intersect)\", \"4/At Intersection (Intersect)\", \"1/Driveway Junction\", \"2/Driveway Junction\", \"3/Driveway Junction\", \"4/Driveway Junction\", \"1/Mid-Block (Intersect)\", \"2/Mid-Block (Intersect)\", \"3/Mid-Block (Intersect)\", \"4/Mid-Block (Intersect)\", \"1/Mid-Block (Not Intersect)\", \"2/Mid-Block (Not Intersect)\", \"3/Mid-Block (Not Intersect)\", \"4/Mid-Block (Not Intersect)\", \"1/Ramp Junction\", \"2/Ramp Junction\", \"3/Ramp Junction\", \"4/Ramp Junction\", \"1/Unknown\", \"2/Unknown\", \"3/Unknown\", \"4/Unknown\", \"1\", \"2\", \"3\", \"4\"], \"labels\": [\"Angles\", \"Angles\", \"Angles\", \"Angles\", \"Angles\", \"Angles\", \"Angles\", \"Angles\", \"Angles\", \"Angles\", \"Angles\", \"Angles\", \"Angles\", \"Angles\", \"Angles\", \"Angles\", \"Angles\", \"Angles\", \"Angles\", \"Angles\", \"Angles\", \"Angles\", \"Angles\", \"Angles\", \"Cycles\", \"Cycles\", \"Cycles\", \"Cycles\", \"Cycles\", \"Cycles\", \"Cycles\", \"Cycles\", \"Cycles\", \"Cycles\", \"Cycles\", \"Cycles\", \"Cycles\", \"Cycles\", \"Cycles\", \"Cycles\", \"Cycles\", \"Cycles\", \"Cycles\", \"Cycles\", \"Cycles\", \"Cycles\", \"Cycles\", \"Cycles\", \"Head On\", \"Head On\", \"Head On\", \"Head On\", \"Head On\", \"Head On\", \"Head On\", \"Head On\", \"Head On\", \"Head On\", \"Head On\", \"Head On\", \"Head On\", \"Head On\", \"Head On\", \"Head On\", \"Head On\", \"Head On\", \"Head On\", \"Head On\", \"Head On\", \"Head On\", \"Head On\", \"Head On\", \"Left Turn\", \"Left Turn\", \"Left Turn\", \"Left Turn\", \"Left Turn\", \"Left Turn\", \"Left Turn\", \"Left Turn\", \"Left Turn\", \"Left Turn\", \"Left Turn\", \"Left Turn\", \"Left Turn\", \"Left Turn\", \"Left Turn\", \"Left Turn\", \"Left Turn\", \"Left Turn\", \"Left Turn\", \"Left Turn\", \"Left Turn\", \"Left Turn\", \"Left Turn\", \"Left Turn\", \"Other\", \"Other\", \"Other\", \"Other\", \"Other\", \"Other\", \"Other\", \"Other\", \"Other\", \"Other\", \"Other\", \"Other\", \"Other\", \"Other\", \"Other\", \"Other\", \"Other\", \"Other\", \"Other\", \"Other\", \"Other\", \"Other\", \"Other\", \"Other\", \"Parked Car\", \"Parked Car\", \"Parked Car\", \"Parked Car\", \"Parked Car\", \"Parked Car\", \"Parked Car\", \"Parked Car\", \"Parked Car\", \"Parked Car\", \"Parked Car\", \"Parked Car\", \"Parked Car\", \"Parked Car\", \"Parked Car\", \"Parked Car\", \"Parked Car\", \"Parked Car\", \"Parked Car\", \"Parked Car\", \"Parked Car\", \"Parked Car\", \"Parked Car\", \"Parked Car\", \"Pedestrian\", \"Pedestrian\", \"Pedestrian\", \"Pedestrian\", \"Pedestrian\", \"Pedestrian\", \"Pedestrian\", \"Pedestrian\", \"Pedestrian\", \"Pedestrian\", \"Pedestrian\", \"Pedestrian\", \"Pedestrian\", \"Pedestrian\", \"Pedestrian\", \"Pedestrian\", \"Pedestrian\", \"Pedestrian\", \"Pedestrian\", \"Pedestrian\", \"Pedestrian\", \"Pedestrian\", \"Pedestrian\", \"Pedestrian\", \"Rear Ended\", \"Rear Ended\", \"Rear Ended\", \"Rear Ended\", \"Rear Ended\", \"Rear Ended\", \"Rear Ended\", \"Rear Ended\", \"Rear Ended\", \"Rear Ended\", \"Rear Ended\", \"Rear Ended\", \"Rear Ended\", \"Rear Ended\", \"Rear Ended\", \"Rear Ended\", \"Rear Ended\", \"Rear Ended\", \"Rear Ended\", \"Rear Ended\", \"Rear Ended\", \"Rear Ended\", \"Rear Ended\", \"Rear Ended\", \"Right Turn\", \"Right Turn\", \"Right Turn\", \"Right Turn\", \"Right Turn\", \"Right Turn\", \"Right Turn\", \"Right Turn\", \"Right Turn\", \"Right Turn\", \"Right Turn\", \"Right Turn\", \"Right Turn\", \"Right Turn\", \"Right Turn\", \"Right Turn\", \"Right Turn\", \"Right Turn\", \"Right Turn\", \"Right Turn\", \"Right Turn\", \"Right Turn\", \"Right Turn\", \"Right Turn\", \"Sideswipe\", \"Sideswipe\", \"Sideswipe\", \"Sideswipe\", \"Sideswipe\", \"Sideswipe\", \"Sideswipe\", \"Sideswipe\", \"Sideswipe\", \"Sideswipe\", \"Sideswipe\", \"Sideswipe\", \"Sideswipe\", \"Sideswipe\", \"Sideswipe\", \"Sideswipe\", \"Sideswipe\", \"Sideswipe\", \"Sideswipe\", \"Sideswipe\", \"Sideswipe\", \"Sideswipe\", \"Sideswipe\", \"Sideswipe\", \"Unknown\", \"Unknown\", \"Unknown\", \"Unknown\", \"Unknown\", \"Unknown\", \"Unknown\", \"Unknown\", \"Unknown\", \"Unknown\", \"Unknown\", \"Unknown\", \"Unknown\", \"Unknown\", \"Unknown\", \"Unknown\", \"Unknown\", \"Unknown\", \"Unknown\", \"Unknown\", \"Unknown\", \"Unknown\", \"Unknown\", \"Unknown\", \"At Intersection (Intersect)\", \"At Intersection (Intersect)\", \"At Intersection (Intersect)\", \"At Intersection (Intersect)\", \"Driveway Junction\", \"Driveway Junction\", \"Driveway Junction\", \"Driveway Junction\", \"Mid-Block (Intersect)\", \"Mid-Block (Intersect)\", \"Mid-Block (Intersect)\", \"Mid-Block (Intersect)\", \"Mid-Block (Not Intersect)\", \"Mid-Block (Not Intersect)\", \"Mid-Block (Not Intersect)\", \"Mid-Block (Not Intersect)\", \"Ramp Junction\", \"Ramp Junction\", \"Ramp Junction\", \"Ramp Junction\", \"Unknown\", \"Unknown\", \"Unknown\", \"Unknown\", \"1\", \"2\", \"3\", \"4\"], \"name\": \"\", \"parents\": [\"1/At Intersection (Intersect)\", \"2/At Intersection (Intersect)\", \"3/At Intersection (Intersect)\", \"4/At Intersection (Intersect)\", \"1/Driveway Junction\", \"2/Driveway Junction\", \"3/Driveway Junction\", \"4/Driveway Junction\", \"1/Mid-Block (Intersect)\", \"2/Mid-Block (Intersect)\", \"3/Mid-Block (Intersect)\", \"4/Mid-Block (Intersect)\", \"1/Mid-Block (Not Intersect)\", \"2/Mid-Block (Not Intersect)\", \"3/Mid-Block (Not Intersect)\", \"4/Mid-Block (Not Intersect)\", \"1/Ramp Junction\", \"2/Ramp Junction\", \"3/Ramp Junction\", \"4/Ramp Junction\", \"1/Unknown\", \"2/Unknown\", \"3/Unknown\", \"4/Unknown\", \"1/At Intersection (Intersect)\", \"2/At Intersection (Intersect)\", \"3/At Intersection (Intersect)\", \"4/At Intersection (Intersect)\", \"1/Driveway Junction\", \"2/Driveway Junction\", \"3/Driveway Junction\", \"4/Driveway Junction\", \"1/Mid-Block (Intersect)\", \"2/Mid-Block (Intersect)\", \"3/Mid-Block (Intersect)\", \"4/Mid-Block (Intersect)\", \"1/Mid-Block (Not Intersect)\", \"2/Mid-Block (Not Intersect)\", \"3/Mid-Block (Not Intersect)\", \"4/Mid-Block (Not Intersect)\", \"1/Ramp Junction\", \"2/Ramp Junction\", \"3/Ramp Junction\", \"4/Ramp Junction\", \"1/Unknown\", \"2/Unknown\", \"3/Unknown\", \"4/Unknown\", \"1/At Intersection (Intersect)\", \"2/At Intersection (Intersect)\", \"3/At Intersection (Intersect)\", \"4/At Intersection (Intersect)\", \"1/Driveway Junction\", \"2/Driveway Junction\", \"3/Driveway Junction\", \"4/Driveway Junction\", \"1/Mid-Block (Intersect)\", \"2/Mid-Block (Intersect)\", \"3/Mid-Block (Intersect)\", \"4/Mid-Block (Intersect)\", \"1/Mid-Block (Not Intersect)\", \"2/Mid-Block (Not Intersect)\", \"3/Mid-Block (Not Intersect)\", \"4/Mid-Block (Not Intersect)\", \"1/Ramp Junction\", \"2/Ramp Junction\", \"3/Ramp Junction\", \"4/Ramp Junction\", \"1/Unknown\", \"2/Unknown\", \"3/Unknown\", \"4/Unknown\", \"1/At Intersection (Intersect)\", \"2/At Intersection (Intersect)\", \"3/At Intersection (Intersect)\", \"4/At Intersection (Intersect)\", \"1/Driveway Junction\", \"2/Driveway Junction\", \"3/Driveway Junction\", \"4/Driveway Junction\", \"1/Mid-Block (Intersect)\", \"2/Mid-Block (Intersect)\", \"3/Mid-Block (Intersect)\", \"4/Mid-Block (Intersect)\", \"1/Mid-Block (Not Intersect)\", \"2/Mid-Block (Not Intersect)\", \"3/Mid-Block (Not Intersect)\", \"4/Mid-Block (Not Intersect)\", \"1/Ramp Junction\", \"2/Ramp Junction\", \"3/Ramp Junction\", \"4/Ramp Junction\", \"1/Unknown\", \"2/Unknown\", \"3/Unknown\", \"4/Unknown\", \"1/At Intersection (Intersect)\", \"2/At Intersection (Intersect)\", \"3/At Intersection (Intersect)\", \"4/At Intersection (Intersect)\", \"1/Driveway Junction\", \"2/Driveway Junction\", \"3/Driveway Junction\", \"4/Driveway Junction\", \"1/Mid-Block (Intersect)\", \"2/Mid-Block (Intersect)\", \"3/Mid-Block (Intersect)\", \"4/Mid-Block (Intersect)\", \"1/Mid-Block (Not Intersect)\", \"2/Mid-Block (Not Intersect)\", \"3/Mid-Block (Not Intersect)\", \"4/Mid-Block (Not Intersect)\", \"1/Ramp Junction\", \"2/Ramp Junction\", \"3/Ramp Junction\", \"4/Ramp Junction\", \"1/Unknown\", \"2/Unknown\", \"3/Unknown\", \"4/Unknown\", \"1/At Intersection (Intersect)\", \"2/At Intersection (Intersect)\", \"3/At Intersection (Intersect)\", \"4/At Intersection (Intersect)\", \"1/Driveway Junction\", \"2/Driveway Junction\", \"3/Driveway Junction\", \"4/Driveway Junction\", \"1/Mid-Block (Intersect)\", \"2/Mid-Block (Intersect)\", \"3/Mid-Block (Intersect)\", \"4/Mid-Block (Intersect)\", \"1/Mid-Block (Not Intersect)\", \"2/Mid-Block (Not Intersect)\", \"3/Mid-Block (Not Intersect)\", \"4/Mid-Block (Not Intersect)\", \"1/Ramp Junction\", \"2/Ramp Junction\", \"3/Ramp Junction\", \"4/Ramp Junction\", \"1/Unknown\", \"2/Unknown\", \"3/Unknown\", \"4/Unknown\", \"1/At Intersection (Intersect)\", \"2/At Intersection (Intersect)\", \"3/At Intersection (Intersect)\", \"4/At Intersection (Intersect)\", \"1/Driveway Junction\", \"2/Driveway Junction\", \"3/Driveway Junction\", \"4/Driveway Junction\", \"1/Mid-Block (Intersect)\", \"2/Mid-Block (Intersect)\", \"3/Mid-Block (Intersect)\", \"4/Mid-Block (Intersect)\", \"1/Mid-Block (Not Intersect)\", \"2/Mid-Block (Not Intersect)\", \"3/Mid-Block (Not Intersect)\", \"4/Mid-Block (Not Intersect)\", \"1/Ramp Junction\", \"2/Ramp Junction\", \"3/Ramp Junction\", \"4/Ramp Junction\", \"1/Unknown\", \"2/Unknown\", \"3/Unknown\", \"4/Unknown\", \"1/At Intersection (Intersect)\", \"2/At Intersection (Intersect)\", \"3/At Intersection (Intersect)\", \"4/At Intersection (Intersect)\", \"1/Driveway Junction\", \"2/Driveway Junction\", \"3/Driveway Junction\", \"4/Driveway Junction\", \"1/Mid-Block (Intersect)\", \"2/Mid-Block (Intersect)\", \"3/Mid-Block (Intersect)\", \"4/Mid-Block (Intersect)\", \"1/Mid-Block (Not Intersect)\", \"2/Mid-Block (Not Intersect)\", \"3/Mid-Block (Not Intersect)\", \"4/Mid-Block (Not Intersect)\", \"1/Ramp Junction\", \"2/Ramp Junction\", \"3/Ramp Junction\", \"4/Ramp Junction\", \"1/Unknown\", \"2/Unknown\", \"3/Unknown\", \"4/Unknown\", \"1/At Intersection (Intersect)\", \"2/At Intersection (Intersect)\", \"3/At Intersection (Intersect)\", \"4/At Intersection (Intersect)\", \"1/Driveway Junction\", \"2/Driveway Junction\", \"3/Driveway Junction\", \"4/Driveway Junction\", \"1/Mid-Block (Intersect)\", \"2/Mid-Block (Intersect)\", \"3/Mid-Block (Intersect)\", \"4/Mid-Block (Intersect)\", \"1/Mid-Block (Not Intersect)\", \"2/Mid-Block (Not Intersect)\", \"3/Mid-Block (Not Intersect)\", \"4/Mid-Block (Not Intersect)\", \"1/Ramp Junction\", \"2/Ramp Junction\", \"3/Ramp Junction\", \"4/Ramp Junction\", \"1/Unknown\", \"2/Unknown\", \"3/Unknown\", \"4/Unknown\", \"1/At Intersection (Intersect)\", \"2/At Intersection (Intersect)\", \"3/At Intersection (Intersect)\", \"4/At Intersection (Intersect)\", \"1/Driveway Junction\", \"2/Driveway Junction\", \"3/Driveway Junction\", \"4/Driveway Junction\", \"1/Mid-Block (Intersect)\", \"2/Mid-Block (Intersect)\", \"3/Mid-Block (Intersect)\", \"4/Mid-Block (Intersect)\", \"1/Mid-Block (Not Intersect)\", \"2/Mid-Block (Not Intersect)\", \"3/Mid-Block (Not Intersect)\", \"4/Mid-Block (Not Intersect)\", \"1/Ramp Junction\", \"2/Ramp Junction\", \"3/Ramp Junction\", \"4/Ramp Junction\", \"1/Unknown\", \"2/Unknown\", \"3/Unknown\", \"4/Unknown\", \"1/At Intersection (Intersect)\", \"2/At Intersection (Intersect)\", \"3/At Intersection (Intersect)\", \"4/At Intersection (Intersect)\", \"1/Driveway Junction\", \"2/Driveway Junction\", \"3/Driveway Junction\", \"4/Driveway Junction\", \"1/Mid-Block (Intersect)\", \"2/Mid-Block (Intersect)\", \"3/Mid-Block (Intersect)\", \"4/Mid-Block (Intersect)\", \"1/Mid-Block (Not Intersect)\", \"2/Mid-Block (Not Intersect)\", \"3/Mid-Block (Not Intersect)\", \"4/Mid-Block (Not Intersect)\", \"1/Ramp Junction\", \"2/Ramp Junction\", \"3/Ramp Junction\", \"4/Ramp Junction\", \"1/Unknown\", \"2/Unknown\", \"3/Unknown\", \"4/Unknown\", \"1\", \"2\", \"3\", \"4\", \"1\", \"2\", \"3\", \"4\", \"1\", \"2\", \"3\", \"4\", \"1\", \"2\", \"3\", \"4\", \"1\", \"2\", \"3\", \"4\", \"1\", \"2\", \"3\", \"4\", \"\", \"\", \"\", \"\"], \"textinfo\": \"label+percent entry\", \"type\": \"sunburst\", \"values\": [17061.0, 12049.0, 395.0, 21.0, 1718.0, 754.0, 15.0, 2.0, 830.0, 274.0, 9.0, 2.0, 1465.0, 649.0, 23.0, null, 15.0, 2.0, null, null, 132.0, 27.0, null, null, 356.0, 2772.0, 242.0, 18.0, 70.0, 502.0, 32.0, null, 43.0, 198.0, 17.0, null, 199.0, 1277.0, 127.0, 7.0, null, 2.0, null, null, 9.0, 30.0, 4.0, null, 285.0, 162.0, 21.0, 2.0, 73.0, 35.0, 1.0, null, 108.0, 69.0, 9.0, 1.0, 683.0, 614.0, 74.0, 18.0, null, 2.0, null, null, 19.0, 3.0, 1.0, null, 6907.0, 4701.0, 241.0, 14.0, 443.0, 282.0, 10.0, 2.0, 292.0, 93.0, 3.0, null, 654.0, 359.0, 18.0, null, 6.0, 1.0, null, null, 40.0, 8.0, 1.0, null, 2791.0, 977.0, 86.0, 6.0, 2660.0, 1077.0, 40.0, 2.0, 2520.0, 623.0, 42.0, 10.0, 9212.0, 3392.0, 330.0, 75.0, 21.0, 11.0, 3.0, null, 543.0, 85.0, 6.0, null, 1190.0, 69.0, 3.0, null, 1818.0, 56.0, 5.0, null, 1964.0, 106.0, 6.0, null, 36067.0, 2449.0, 111.0, 7.0, 3.0, 3.0, 1.0, null, 4564.0, 23.0, 1.0, null, 487.0, 4260.0, 495.0, 85.0, 26.0, 238.0, 24.0, 2.0, 13.0, 146.0, 29.0, 1.0, 142.0, 1278.0, 300.0, 40.0, null, 3.0, null, null, 9.0, 70.0, 3.0, 1.0, 2414.0, 1803.0, 27.0, 4.0, 216.0, 185.0, 6.0, null, 6975.0, 5346.0, 64.0, 2.0, 9697.0, 7323.0, 127.0, 5.0, 37.0, 22.0, 1.0, null, 244.0, 111.0, null, null, 1366.0, 353.0, 14.0, 1.0, 190.0, 57.0, 1.0, null, 468.0, 106.0, 4.0, null, 324.0, 95.0, 3.0, null, null, null, null, null, 20.0, 4.0, null, null, 3433.0, 478.0, 9.0, 1.0, 161.0, 30.0, 4.0, null, 2022.0, 276.0, 4.0, 1.0, 10353.0, 1713.0, 52.0, 8.0, 28.0, 6.0, null, null, 239.0, 29.0, 2.0, null, 1082.0, 372.0, 22.0, 5.0, 83.0, 26.0, 1.0, null, 292.0, 81.0, 1.0, 2.0, 2111.0, 464.0, 22.0, 4.0, 2.0, 2.0, null, null, 140.0, 15.0, null, null, 37372.0, 27996.0, 1555.0, 157.0, 7458.0, 3242.0, 139.0, 8.0, 15527.0, 7318.0, 188.0, 19.0, 70907.0, 19613.0, 1187.0, 164.0, 112.0, 54.0, 5.0, null, 5959.0, 405.0, 18.0, 1.0, 137335.0, 58628.0, 3092.0, 349.0]}],                        {\"height\": 700, \"legend\": {\"tracegroupgap\": 0}, \"margin\": {\"b\": 0, \"l\": 0, \"r\": 0, \"t\": 50}, \"template\": {\"data\": {\"bar\": [{\"error_x\": {\"color\": \"#2a3f5f\"}, \"error_y\": {\"color\": \"#2a3f5f\"}, \"marker\": {\"line\": {\"color\": \"#E5ECF6\", \"width\": 0.5}}, \"type\": \"bar\"}], \"barpolar\": [{\"marker\": {\"line\": {\"color\": \"#E5ECF6\", \"width\": 0.5}}, \"type\": \"barpolar\"}], \"carpet\": [{\"aaxis\": {\"endlinecolor\": \"#2a3f5f\", \"gridcolor\": \"white\", \"linecolor\": \"white\", \"minorgridcolor\": \"white\", \"startlinecolor\": \"#2a3f5f\"}, \"baxis\": {\"endlinecolor\": \"#2a3f5f\", \"gridcolor\": \"white\", \"linecolor\": \"white\", \"minorgridcolor\": \"white\", \"startlinecolor\": \"#2a3f5f\"}, \"type\": \"carpet\"}], \"choropleth\": [{\"colorbar\": {\"outlinewidth\": 0, \"ticks\": \"\"}, \"type\": \"choropleth\"}], \"contour\": [{\"colorbar\": {\"outlinewidth\": 0, \"ticks\": \"\"}, \"colorscale\": [[0.0, \"#0d0887\"], [0.1111111111111111, \"#46039f\"], [0.2222222222222222, \"#7201a8\"], [0.3333333333333333, \"#9c179e\"], [0.4444444444444444, \"#bd3786\"], [0.5555555555555556, \"#d8576b\"], [0.6666666666666666, \"#ed7953\"], [0.7777777777777778, \"#fb9f3a\"], [0.8888888888888888, \"#fdca26\"], [1.0, \"#f0f921\"]], \"type\": \"contour\"}], \"contourcarpet\": [{\"colorbar\": {\"outlinewidth\": 0, \"ticks\": \"\"}, \"type\": \"contourcarpet\"}], \"heatmap\": [{\"colorbar\": {\"outlinewidth\": 0, \"ticks\": \"\"}, \"colorscale\": [[0.0, \"#0d0887\"], [0.1111111111111111, \"#46039f\"], [0.2222222222222222, \"#7201a8\"], [0.3333333333333333, \"#9c179e\"], [0.4444444444444444, \"#bd3786\"], [0.5555555555555556, \"#d8576b\"], [0.6666666666666666, \"#ed7953\"], [0.7777777777777778, \"#fb9f3a\"], [0.8888888888888888, \"#fdca26\"], [1.0, \"#f0f921\"]], \"type\": \"heatmap\"}], \"heatmapgl\": [{\"colorbar\": {\"outlinewidth\": 0, \"ticks\": \"\"}, \"colorscale\": [[0.0, \"#0d0887\"], [0.1111111111111111, \"#46039f\"], [0.2222222222222222, \"#7201a8\"], [0.3333333333333333, \"#9c179e\"], [0.4444444444444444, \"#bd3786\"], [0.5555555555555556, \"#d8576b\"], [0.6666666666666666, \"#ed7953\"], [0.7777777777777778, \"#fb9f3a\"], [0.8888888888888888, \"#fdca26\"], [1.0, \"#f0f921\"]], \"type\": \"heatmapgl\"}], \"histogram\": [{\"marker\": {\"colorbar\": {\"outlinewidth\": 0, \"ticks\": \"\"}}, \"type\": \"histogram\"}], \"histogram2d\": [{\"colorbar\": {\"outlinewidth\": 0, \"ticks\": \"\"}, \"colorscale\": [[0.0, \"#0d0887\"], [0.1111111111111111, \"#46039f\"], [0.2222222222222222, \"#7201a8\"], [0.3333333333333333, \"#9c179e\"], [0.4444444444444444, \"#bd3786\"], [0.5555555555555556, \"#d8576b\"], [0.6666666666666666, \"#ed7953\"], [0.7777777777777778, \"#fb9f3a\"], [0.8888888888888888, \"#fdca26\"], [1.0, \"#f0f921\"]], \"type\": \"histogram2d\"}], \"histogram2dcontour\": [{\"colorbar\": {\"outlinewidth\": 0, \"ticks\": \"\"}, \"colorscale\": [[0.0, \"#0d0887\"], [0.1111111111111111, \"#46039f\"], [0.2222222222222222, \"#7201a8\"], [0.3333333333333333, \"#9c179e\"], [0.4444444444444444, \"#bd3786\"], [0.5555555555555556, \"#d8576b\"], [0.6666666666666666, \"#ed7953\"], [0.7777777777777778, \"#fb9f3a\"], [0.8888888888888888, \"#fdca26\"], [1.0, \"#f0f921\"]], \"type\": \"histogram2dcontour\"}], \"mesh3d\": [{\"colorbar\": {\"outlinewidth\": 0, \"ticks\": \"\"}, \"type\": \"mesh3d\"}], \"parcoords\": [{\"line\": {\"colorbar\": {\"outlinewidth\": 0, \"ticks\": \"\"}}, \"type\": \"parcoords\"}], \"pie\": [{\"automargin\": true, \"type\": \"pie\"}], \"scatter\": [{\"marker\": {\"colorbar\": {\"outlinewidth\": 0, \"ticks\": \"\"}}, \"type\": \"scatter\"}], \"scatter3d\": [{\"line\": {\"colorbar\": {\"outlinewidth\": 0, \"ticks\": \"\"}}, \"marker\": {\"colorbar\": {\"outlinewidth\": 0, \"ticks\": \"\"}}, \"type\": \"scatter3d\"}], \"scattercarpet\": [{\"marker\": {\"colorbar\": {\"outlinewidth\": 0, \"ticks\": \"\"}}, \"type\": \"scattercarpet\"}], \"scattergeo\": [{\"marker\": {\"colorbar\": {\"outlinewidth\": 0, \"ticks\": \"\"}}, \"type\": \"scattergeo\"}], \"scattergl\": [{\"marker\": {\"colorbar\": {\"outlinewidth\": 0, \"ticks\": \"\"}}, \"type\": \"scattergl\"}], \"scattermapbox\": [{\"marker\": {\"colorbar\": {\"outlinewidth\": 0, \"ticks\": \"\"}}, \"type\": \"scattermapbox\"}], \"scatterpolar\": [{\"marker\": {\"colorbar\": {\"outlinewidth\": 0, \"ticks\": \"\"}}, \"type\": \"scatterpolar\"}], \"scatterpolargl\": [{\"marker\": {\"colorbar\": {\"outlinewidth\": 0, \"ticks\": \"\"}}, \"type\": \"scatterpolargl\"}], \"scatterternary\": [{\"marker\": {\"colorbar\": {\"outlinewidth\": 0, \"ticks\": \"\"}}, \"type\": \"scatterternary\"}], \"surface\": [{\"colorbar\": {\"outlinewidth\": 0, \"ticks\": \"\"}, \"colorscale\": [[0.0, \"#0d0887\"], [0.1111111111111111, \"#46039f\"], [0.2222222222222222, \"#7201a8\"], [0.3333333333333333, \"#9c179e\"], [0.4444444444444444, \"#bd3786\"], [0.5555555555555556, \"#d8576b\"], [0.6666666666666666, \"#ed7953\"], [0.7777777777777778, \"#fb9f3a\"], [0.8888888888888888, \"#fdca26\"], [1.0, \"#f0f921\"]], \"type\": \"surface\"}], \"table\": [{\"cells\": {\"fill\": {\"color\": \"#EBF0F8\"}, \"line\": {\"color\": \"white\"}}, \"header\": {\"fill\": {\"color\": \"#C8D4E3\"}, \"line\": {\"color\": \"white\"}}, \"type\": \"table\"}]}, \"layout\": {\"annotationdefaults\": {\"arrowcolor\": \"#2a3f5f\", \"arrowhead\": 0, \"arrowwidth\": 1}, \"coloraxis\": {\"colorbar\": {\"outlinewidth\": 0, \"ticks\": \"\"}}, \"colorscale\": {\"diverging\": [[0, \"#8e0152\"], [0.1, \"#c51b7d\"], [0.2, \"#de77ae\"], [0.3, \"#f1b6da\"], [0.4, \"#fde0ef\"], [0.5, \"#f7f7f7\"], [0.6, \"#e6f5d0\"], [0.7, \"#b8e186\"], [0.8, \"#7fbc41\"], [0.9, \"#4d9221\"], [1, \"#276419\"]], \"sequential\": [[0.0, \"#0d0887\"], [0.1111111111111111, \"#46039f\"], [0.2222222222222222, \"#7201a8\"], [0.3333333333333333, \"#9c179e\"], [0.4444444444444444, \"#bd3786\"], [0.5555555555555556, \"#d8576b\"], [0.6666666666666666, \"#ed7953\"], [0.7777777777777778, \"#fb9f3a\"], [0.8888888888888888, \"#fdca26\"], [1.0, \"#f0f921\"]], \"sequentialminus\": [[0.0, \"#0d0887\"], [0.1111111111111111, \"#46039f\"], [0.2222222222222222, \"#7201a8\"], [0.3333333333333333, \"#9c179e\"], [0.4444444444444444, \"#bd3786\"], [0.5555555555555556, \"#d8576b\"], [0.6666666666666666, \"#ed7953\"], [0.7777777777777778, \"#fb9f3a\"], [0.8888888888888888, \"#fdca26\"], [1.0, \"#f0f921\"]]}, \"colorway\": [\"#636efa\", \"#EF553B\", \"#00cc96\", \"#ab63fa\", \"#FFA15A\", \"#19d3f3\", \"#FF6692\", \"#B6E880\", \"#FF97FF\", \"#FECB52\"], \"font\": {\"color\": \"#2a3f5f\"}, \"geo\": {\"bgcolor\": \"white\", \"lakecolor\": \"white\", \"landcolor\": \"#E5ECF6\", \"showlakes\": true, \"showland\": true, \"subunitcolor\": \"white\"}, \"hoverlabel\": {\"align\": \"left\"}, \"hovermode\": \"closest\", \"mapbox\": {\"style\": \"light\"}, \"paper_bgcolor\": \"white\", \"plot_bgcolor\": \"#E5ECF6\", \"polar\": {\"angularaxis\": {\"gridcolor\": \"white\", \"linecolor\": \"white\", \"ticks\": \"\"}, \"bgcolor\": \"#E5ECF6\", \"radialaxis\": {\"gridcolor\": \"white\", \"linecolor\": \"white\", \"ticks\": \"\"}}, \"scene\": {\"xaxis\": {\"backgroundcolor\": \"#E5ECF6\", \"gridcolor\": \"white\", \"gridwidth\": 2, \"linecolor\": \"white\", \"showbackground\": true, \"ticks\": \"\", \"zerolinecolor\": \"white\"}, \"yaxis\": {\"backgroundcolor\": \"#E5ECF6\", \"gridcolor\": \"white\", \"gridwidth\": 2, \"linecolor\": \"white\", \"showbackground\": true, \"ticks\": \"\", \"zerolinecolor\": \"white\"}, \"zaxis\": {\"backgroundcolor\": \"#E5ECF6\", \"gridcolor\": \"white\", \"gridwidth\": 2, \"linecolor\": \"white\", \"showbackground\": true, \"ticks\": \"\", \"zerolinecolor\": \"white\"}}, \"shapedefaults\": {\"line\": {\"color\": \"#2a3f5f\"}}, \"ternary\": {\"aaxis\": {\"gridcolor\": \"white\", \"linecolor\": \"white\", \"ticks\": \"\"}, \"baxis\": {\"gridcolor\": \"white\", \"linecolor\": \"white\", \"ticks\": \"\"}, \"bgcolor\": \"#E5ECF6\", \"caxis\": {\"gridcolor\": \"white\", \"linecolor\": \"white\", \"ticks\": \"\"}}, \"title\": {\"x\": 0.05}, \"xaxis\": {\"automargin\": true, \"gridcolor\": \"white\", \"linecolor\": \"white\", \"ticks\": \"\", \"title\": {\"standoff\": 15}, \"zerolinecolor\": \"white\", \"zerolinewidth\": 2}, \"yaxis\": {\"automargin\": true, \"gridcolor\": \"white\", \"linecolor\": \"white\", \"ticks\": \"\", \"title\": {\"standoff\": 15}, \"zerolinecolor\": \"white\", \"zerolinewidth\": 2}}}, \"title\": {\"text\": \"Breakdown of collision type, junction type by severity code\"}, \"width\": 700},                        {\"responsive\": true}                    ).then(function(){\n",
       "                            \n",
       "var gd = document.getElementById('8759f43b-bfb4-4233-bcd7-e23e831ed6c9');\n",
       "var x = new MutationObserver(function (mutations, observer) {{\n",
       "        var display = window.getComputedStyle(gd).display;\n",
       "        if (!display || display === 'none') {{\n",
       "            console.log([gd, 'removed!']);\n",
       "            Plotly.purge(gd);\n",
       "            observer.disconnect();\n",
       "        }}\n",
       "}});\n",
       "\n",
       "// Listen for the removal of the full notebook cells\n",
       "var notebookContainer = gd.closest('#notebook-container');\n",
       "if (notebookContainer) {{\n",
       "    x.observe(notebookContainer, {childList: true});\n",
       "}}\n",
       "\n",
       "// Listen for the clearing of the current output cell\n",
       "var outputEl = gd.closest('.output');\n",
       "if (outputEl) {{\n",
       "    x.observe(outputEl, {childList: true});\n",
       "}}\n",
       "\n",
       "                        })                };                });            </script>        </div>"
      ]
     },
     "metadata": {},
     "output_type": "display_data"
    }
   ],
   "source": [
    "import plotly.express as px\n",
    "\n",
    "df1 = df.copy()\n",
    "\n",
    "fig = px.sunburst(\n",
    "    data_frame=df1,\n",
    "    path= [\"SEVERITYCODE\",'JUNCTIONTYPE',\"COLLISIONTYPE\"],                        \n",
    "    branchvalues=\"total\",\n",
    "    title=\"Breakdown of collision type, junction type by severity code\",\n",
    ")\n",
    "fig.update_traces(textinfo='label+percent entry') # percent parent\n",
    "fig.update_layout(margin=dict(t=50, b=0, r=0, l=0),\n",
    "                  width=700, height=700)\n",
    "fig.show()"
   ]
  },
  {
   "cell_type": "markdown",
   "metadata": {},
   "source": [
    "## Mode values of the features\n",
    "\n",
    "It will be interesting to see the mode (highest frequency) values of each feature with respect to the severity codes."
   ]
  },
  {
   "cell_type": "code",
   "execution_count": 85,
   "metadata": {},
   "outputs": [
    {
     "data": {
      "text/html": [
       "<div>\n",
       "<style scoped>\n",
       "    .dataframe tbody tr th:only-of-type {\n",
       "        vertical-align: middle;\n",
       "    }\n",
       "\n",
       "    .dataframe tbody tr th {\n",
       "        vertical-align: top;\n",
       "    }\n",
       "\n",
       "    .dataframe thead th {\n",
       "        text-align: right;\n",
       "    }\n",
       "</style>\n",
       "<table border=\"1\" class=\"dataframe\">\n",
       "  <thead>\n",
       "    <tr style=\"text-align: right;\">\n",
       "      <th></th>\n",
       "      <th>Mode (S = 1)</th>\n",
       "      <th>Mode (S = 2)</th>\n",
       "      <th>Mode (S = 3)</th>\n",
       "      <th>Mode (S = 4)</th>\n",
       "    </tr>\n",
       "  </thead>\n",
       "  <tbody>\n",
       "    <tr>\n",
       "      <th>ADDRTYPE</th>\n",
       "      <td>Block</td>\n",
       "      <td>Block</td>\n",
       "      <td>Intersection</td>\n",
       "      <td>Intersection</td>\n",
       "    </tr>\n",
       "    <tr>\n",
       "      <th>COLLISIONTYPE</th>\n",
       "      <td>Parked Car</td>\n",
       "      <td>Rear Ended</td>\n",
       "      <td>Pedestrian</td>\n",
       "      <td>Pedestrian</td>\n",
       "    </tr>\n",
       "    <tr>\n",
       "      <th>JUNCTIONTYPE</th>\n",
       "      <td>Mid-Block (Not Intersect)</td>\n",
       "      <td>At Intersection (Intersect)</td>\n",
       "      <td>At Intersection (Intersect)</td>\n",
       "      <td>At Intersection (Intersect)</td>\n",
       "    </tr>\n",
       "    <tr>\n",
       "      <th>INATTENTIONIND</th>\n",
       "      <td>N</td>\n",
       "      <td>N</td>\n",
       "      <td>N</td>\n",
       "      <td>N</td>\n",
       "    </tr>\n",
       "    <tr>\n",
       "      <th>UNDERINFL</th>\n",
       "      <td>N</td>\n",
       "      <td>N</td>\n",
       "      <td>N</td>\n",
       "      <td>N</td>\n",
       "    </tr>\n",
       "    <tr>\n",
       "      <th>WEATHER</th>\n",
       "      <td>Clear</td>\n",
       "      <td>Clear</td>\n",
       "      <td>Clear</td>\n",
       "      <td>Clear</td>\n",
       "    </tr>\n",
       "    <tr>\n",
       "      <th>ROADCOND</th>\n",
       "      <td>Dry</td>\n",
       "      <td>Dry</td>\n",
       "      <td>Dry</td>\n",
       "      <td>Dry</td>\n",
       "    </tr>\n",
       "    <tr>\n",
       "      <th>LIGHTCOND</th>\n",
       "      <td>Daylight</td>\n",
       "      <td>Daylight</td>\n",
       "      <td>Daylight</td>\n",
       "      <td>Daylight</td>\n",
       "    </tr>\n",
       "    <tr>\n",
       "      <th>PEDROWNOTGRNT</th>\n",
       "      <td>N</td>\n",
       "      <td>N</td>\n",
       "      <td>N</td>\n",
       "      <td>N</td>\n",
       "    </tr>\n",
       "    <tr>\n",
       "      <th>SPEEDING</th>\n",
       "      <td>N</td>\n",
       "      <td>N</td>\n",
       "      <td>N</td>\n",
       "      <td>N</td>\n",
       "    </tr>\n",
       "    <tr>\n",
       "      <th>ST_COLCODE</th>\n",
       "      <td>32</td>\n",
       "      <td>10</td>\n",
       "      <td>0</td>\n",
       "      <td>0</td>\n",
       "    </tr>\n",
       "    <tr>\n",
       "      <th>HITPARKEDCAR</th>\n",
       "      <td>N</td>\n",
       "      <td>N</td>\n",
       "      <td>N</td>\n",
       "      <td>N</td>\n",
       "    </tr>\n",
       "  </tbody>\n",
       "</table>\n",
       "</div>"
      ],
      "text/plain": [
       "                             Mode (S = 1)                 Mode (S = 2)  \\\n",
       "ADDRTYPE                            Block                        Block   \n",
       "COLLISIONTYPE                  Parked Car                   Rear Ended   \n",
       "JUNCTIONTYPE    Mid-Block (Not Intersect)  At Intersection (Intersect)   \n",
       "INATTENTIONIND                          N                            N   \n",
       "UNDERINFL                               N                            N   \n",
       "WEATHER                             Clear                        Clear   \n",
       "ROADCOND                              Dry                          Dry   \n",
       "LIGHTCOND                        Daylight                     Daylight   \n",
       "PEDROWNOTGRNT                           N                            N   \n",
       "SPEEDING                                N                            N   \n",
       "ST_COLCODE                             32                           10   \n",
       "HITPARKEDCAR                            N                            N   \n",
       "\n",
       "                               Mode (S = 3)                 Mode (S = 4)  \n",
       "ADDRTYPE                       Intersection                 Intersection  \n",
       "COLLISIONTYPE                    Pedestrian                   Pedestrian  \n",
       "JUNCTIONTYPE    At Intersection (Intersect)  At Intersection (Intersect)  \n",
       "INATTENTIONIND                            N                            N  \n",
       "UNDERINFL                                 N                            N  \n",
       "WEATHER                               Clear                        Clear  \n",
       "ROADCOND                                Dry                          Dry  \n",
       "LIGHTCOND                          Daylight                     Daylight  \n",
       "PEDROWNOTGRNT                             N                            N  \n",
       "SPEEDING                                  N                            N  \n",
       "ST_COLCODE                                0                            0  \n",
       "HITPARKEDCAR                              N                            N  "
      ]
     },
     "execution_count": 85,
     "metadata": {},
     "output_type": "execute_result"
    }
   ],
   "source": [
    "# Target variable\n",
    "target='SEVERITYCODE'\n",
    "\n",
    "all_cols = ['SEVERITYCODE','ADDRTYPE','COLLISIONTYPE', \n",
    "            'JUNCTIONTYPE', 'INATTENTIONIND', 'UNDERINFL', 'WEATHER', \n",
    "            'ROADCOND', 'LIGHTCOND', 'PEDROWNOTGRNT', 'SPEEDING', \n",
    "            'ST_COLCODE', 'HITPARKEDCAR']\n",
    "\n",
    "df = df.loc[:, all_cols] \n",
    "\n",
    "df_sev_1 = df.loc[df[target] == 1]\n",
    "df_sev_1 = df_sev_1.drop(target, axis=1)\n",
    "df_sev_1 = df_sev_1.mode().T\n",
    "new_header = ['Mode (S = 1)']\n",
    "df_sev_1 = df_sev_1.iloc[:, 0]           \n",
    "df_sev_1.columns = [new_header]\n",
    "\n",
    "df_sev_2 = df.loc[df[target] == 2]\n",
    "df_sev_2 = df_sev_2.drop(target, axis=1)\n",
    "df_sev_2 = df_sev_2.mode().T\n",
    "new_header = ['Mode (S = 2)']\n",
    "df_sev_2 = df_sev_2.iloc[:, 0]            \n",
    "df_sev_2.columns = new_header\n",
    "\n",
    "df_sev_3 = df.loc[df[target] == 3]\n",
    "df_sev_3 = df_sev_3.drop(target, axis=1)\n",
    "df_sev_3 = df_sev_3.mode().T\n",
    "new_header = ['Mode (S = 3)']\n",
    "df_sev_3 = df_sev_3.iloc[:, 0]          \n",
    "df_sev_3.columns = new_header\n",
    "\n",
    "df_sev_4 = df.loc[df[target] == 3]\n",
    "df_sev_4 = df_sev_4.drop(target, axis=1)\n",
    "df_sev_4 = df_sev_4.mode().T\n",
    "new_header = ['Mode (S = 4)']\n",
    "df_sev_4 = df_sev_4.iloc[:, 0]            \n",
    "df_sev_4.columns = new_header\n",
    "\n",
    "df_res = pd.concat([df_sev_1, df_sev_2, df_sev_3, df_sev_4], axis=1)\n",
    "df_res = df_res.set_axis(['Mode (S = 1)', 'Mode (S = 2)', 'Mode (S = 3)', 'Mode (S = 4)'], axis=1, inplace=False)\n",
    "df_res"
   ]
  },
  {
   "cell_type": "code",
   "execution_count": 86,
   "metadata": {},
   "outputs": [],
   "source": [
    "filename = \"Collisions_100_after_EDA_unbalanced.csv\"\n",
    "df.to_csv(filename, index=False)"
   ]
  },
  {
   "cell_type": "markdown",
   "metadata": {},
   "source": [
    "# Feature Selection"
   ]
  },
  {
   "cell_type": "code",
   "execution_count": 87,
   "metadata": {},
   "outputs": [],
   "source": [
    "filename = \"Collisions_100_after_EDA_unbalanced.csv\"\n",
    "df = pd.read_csv(filename)"
   ]
  },
  {
   "cell_type": "code",
   "execution_count": 88,
   "metadata": {},
   "outputs": [],
   "source": [
    "df['SEVERITYCODE'] = df['SEVERITYCODE'].astype('category')"
   ]
  },
  {
   "cell_type": "markdown",
   "metadata": {},
   "source": [
    "Select Features of interest and one-hot encode them."
   ]
  },
  {
   "cell_type": "code",
   "execution_count": 89,
   "metadata": {
    "scrolled": true
   },
   "outputs": [
    {
     "data": {
      "text/html": [
       "<div>\n",
       "<style scoped>\n",
       "    .dataframe tbody tr th:only-of-type {\n",
       "        vertical-align: middle;\n",
       "    }\n",
       "\n",
       "    .dataframe tbody tr th {\n",
       "        vertical-align: top;\n",
       "    }\n",
       "\n",
       "    .dataframe thead th {\n",
       "        text-align: right;\n",
       "    }\n",
       "</style>\n",
       "<table border=\"1\" class=\"dataframe\">\n",
       "  <thead>\n",
       "    <tr style=\"text-align: right;\">\n",
       "      <th></th>\n",
       "      <th>SEVERITYCODE</th>\n",
       "      <th>ADDRTYPE_Block</th>\n",
       "      <th>ADDRTYPE_Intersection</th>\n",
       "      <th>ADDRTYPE_Unknown</th>\n",
       "      <th>COLLISIONTYPE_Cycles</th>\n",
       "      <th>COLLISIONTYPE_Head On</th>\n",
       "      <th>COLLISIONTYPE_Left Turn</th>\n",
       "      <th>COLLISIONTYPE_Other</th>\n",
       "      <th>COLLISIONTYPE_Parked Car</th>\n",
       "      <th>COLLISIONTYPE_Pedestrian</th>\n",
       "      <th>COLLISIONTYPE_Rear Ended</th>\n",
       "      <th>COLLISIONTYPE_Right Turn</th>\n",
       "      <th>COLLISIONTYPE_Sideswipe</th>\n",
       "      <th>COLLISIONTYPE_Unknown</th>\n",
       "      <th>JUNCTIONTYPE_Driveway Junction</th>\n",
       "      <th>JUNCTIONTYPE_Mid-Block (Intersect)</th>\n",
       "      <th>JUNCTIONTYPE_Mid-Block (Not Intersect)</th>\n",
       "      <th>JUNCTIONTYPE_Ramp Junction</th>\n",
       "      <th>JUNCTIONTYPE_Unknown</th>\n",
       "      <th>INATTENTIONIND_Y</th>\n",
       "      <th>UNDERINFL_Unknown</th>\n",
       "      <th>UNDERINFL_Y</th>\n",
       "      <th>WEATHER_Blowing Snow</th>\n",
       "      <th>WEATHER_Clear</th>\n",
       "      <th>WEATHER_Fog/Smog/Smoke</th>\n",
       "      <th>WEATHER_Other</th>\n",
       "      <th>WEATHER_Overcast</th>\n",
       "      <th>WEATHER_Partly Cloudy</th>\n",
       "      <th>WEATHER_Raining</th>\n",
       "      <th>WEATHER_Severe Crosswind</th>\n",
       "      <th>WEATHER_Sleet/Hail/Freezing Rain</th>\n",
       "      <th>WEATHER_Snowing</th>\n",
       "      <th>WEATHER_Unknown</th>\n",
       "      <th>ROADCOND_Ice</th>\n",
       "      <th>ROADCOND_Oil</th>\n",
       "      <th>ROADCOND_Other</th>\n",
       "      <th>ROADCOND_Sand/Mud/Dirt</th>\n",
       "      <th>ROADCOND_Snow/Slush</th>\n",
       "      <th>ROADCOND_Standing Water</th>\n",
       "      <th>ROADCOND_Unknown</th>\n",
       "      <th>ROADCOND_Wet</th>\n",
       "      <th>LIGHTCOND_Dark - Street Lights Off</th>\n",
       "      <th>LIGHTCOND_Dark - Street Lights On</th>\n",
       "      <th>LIGHTCOND_Dark - Unknown Lighting</th>\n",
       "      <th>LIGHTCOND_Dawn</th>\n",
       "      <th>LIGHTCOND_Daylight</th>\n",
       "      <th>LIGHTCOND_Dusk</th>\n",
       "      <th>LIGHTCOND_Other</th>\n",
       "      <th>LIGHTCOND_Unknown</th>\n",
       "      <th>PEDROWNOTGRNT_Y</th>\n",
       "      <th>SPEEDING_Y</th>\n",
       "      <th>ST_COLCODE_1</th>\n",
       "      <th>ST_COLCODE_2</th>\n",
       "      <th>ST_COLCODE_3</th>\n",
       "      <th>ST_COLCODE_4</th>\n",
       "      <th>ST_COLCODE_5</th>\n",
       "      <th>ST_COLCODE_6</th>\n",
       "      <th>ST_COLCODE_7</th>\n",
       "      <th>ST_COLCODE_8</th>\n",
       "      <th>ST_COLCODE_10</th>\n",
       "      <th>ST_COLCODE_11</th>\n",
       "      <th>ST_COLCODE_12</th>\n",
       "      <th>ST_COLCODE_13</th>\n",
       "      <th>ST_COLCODE_14</th>\n",
       "      <th>ST_COLCODE_15</th>\n",
       "      <th>ST_COLCODE_16</th>\n",
       "      <th>ST_COLCODE_17</th>\n",
       "      <th>ST_COLCODE_18</th>\n",
       "      <th>ST_COLCODE_19</th>\n",
       "      <th>ST_COLCODE_20</th>\n",
       "      <th>ST_COLCODE_21</th>\n",
       "      <th>ST_COLCODE_22</th>\n",
       "      <th>ST_COLCODE_23</th>\n",
       "      <th>ST_COLCODE_24</th>\n",
       "      <th>ST_COLCODE_25</th>\n",
       "      <th>ST_COLCODE_26</th>\n",
       "      <th>ST_COLCODE_27</th>\n",
       "      <th>ST_COLCODE_28</th>\n",
       "      <th>ST_COLCODE_29</th>\n",
       "      <th>ST_COLCODE_30</th>\n",
       "      <th>ST_COLCODE_31</th>\n",
       "      <th>ST_COLCODE_32</th>\n",
       "      <th>ST_COLCODE_40</th>\n",
       "      <th>ST_COLCODE_41</th>\n",
       "      <th>ST_COLCODE_42</th>\n",
       "      <th>ST_COLCODE_43</th>\n",
       "      <th>ST_COLCODE_45</th>\n",
       "      <th>ST_COLCODE_48</th>\n",
       "      <th>ST_COLCODE_49</th>\n",
       "      <th>ST_COLCODE_50</th>\n",
       "      <th>ST_COLCODE_51</th>\n",
       "      <th>ST_COLCODE_52</th>\n",
       "      <th>ST_COLCODE_53</th>\n",
       "      <th>ST_COLCODE_54</th>\n",
       "      <th>ST_COLCODE_56</th>\n",
       "      <th>ST_COLCODE_57</th>\n",
       "      <th>ST_COLCODE_60</th>\n",
       "      <th>ST_COLCODE_64</th>\n",
       "      <th>ST_COLCODE_65</th>\n",
       "      <th>ST_COLCODE_66</th>\n",
       "      <th>ST_COLCODE_67</th>\n",
       "      <th>ST_COLCODE_71</th>\n",
       "      <th>ST_COLCODE_72</th>\n",
       "      <th>ST_COLCODE_73</th>\n",
       "      <th>ST_COLCODE_74</th>\n",
       "      <th>ST_COLCODE_81</th>\n",
       "      <th>ST_COLCODE_82</th>\n",
       "      <th>ST_COLCODE_83</th>\n",
       "      <th>ST_COLCODE_84</th>\n",
       "      <th>ST_COLCODE_85</th>\n",
       "      <th>ST_COLCODE_87</th>\n",
       "      <th>ST_COLCODE_88</th>\n",
       "      <th>HITPARKEDCAR_Y</th>\n",
       "    </tr>\n",
       "  </thead>\n",
       "  <tbody>\n",
       "    <tr>\n",
       "      <th>0</th>\n",
       "      <td>2</td>\n",
       "      <td>0</td>\n",
       "      <td>1</td>\n",
       "      <td>0</td>\n",
       "      <td>0</td>\n",
       "      <td>0</td>\n",
       "      <td>0</td>\n",
       "      <td>0</td>\n",
       "      <td>0</td>\n",
       "      <td>0</td>\n",
       "      <td>0</td>\n",
       "      <td>0</td>\n",
       "      <td>0</td>\n",
       "      <td>1</td>\n",
       "      <td>0</td>\n",
       "      <td>0</td>\n",
       "      <td>0</td>\n",
       "      <td>0</td>\n",
       "      <td>0</td>\n",
       "      <td>0</td>\n",
       "      <td>1</td>\n",
       "      <td>0</td>\n",
       "      <td>0</td>\n",
       "      <td>0</td>\n",
       "      <td>0</td>\n",
       "      <td>0</td>\n",
       "      <td>0</td>\n",
       "      <td>0</td>\n",
       "      <td>0</td>\n",
       "      <td>0</td>\n",
       "      <td>0</td>\n",
       "      <td>0</td>\n",
       "      <td>1</td>\n",
       "      <td>0</td>\n",
       "      <td>0</td>\n",
       "      <td>0</td>\n",
       "      <td>0</td>\n",
       "      <td>0</td>\n",
       "      <td>0</td>\n",
       "      <td>1</td>\n",
       "      <td>0</td>\n",
       "      <td>0</td>\n",
       "      <td>0</td>\n",
       "      <td>0</td>\n",
       "      <td>0</td>\n",
       "      <td>0</td>\n",
       "      <td>0</td>\n",
       "      <td>0</td>\n",
       "      <td>1</td>\n",
       "      <td>0</td>\n",
       "      <td>0</td>\n",
       "      <td>0</td>\n",
       "      <td>0</td>\n",
       "      <td>0</td>\n",
       "      <td>0</td>\n",
       "      <td>0</td>\n",
       "      <td>0</td>\n",
       "      <td>0</td>\n",
       "      <td>0</td>\n",
       "      <td>0</td>\n",
       "      <td>0</td>\n",
       "      <td>0</td>\n",
       "      <td>0</td>\n",
       "      <td>0</td>\n",
       "      <td>0</td>\n",
       "      <td>0</td>\n",
       "      <td>0</td>\n",
       "      <td>0</td>\n",
       "      <td>0</td>\n",
       "      <td>0</td>\n",
       "      <td>0</td>\n",
       "      <td>0</td>\n",
       "      <td>0</td>\n",
       "      <td>0</td>\n",
       "      <td>0</td>\n",
       "      <td>0</td>\n",
       "      <td>0</td>\n",
       "      <td>0</td>\n",
       "      <td>0</td>\n",
       "      <td>0</td>\n",
       "      <td>1</td>\n",
       "      <td>0</td>\n",
       "      <td>0</td>\n",
       "      <td>0</td>\n",
       "      <td>0</td>\n",
       "      <td>0</td>\n",
       "      <td>0</td>\n",
       "      <td>0</td>\n",
       "      <td>0</td>\n",
       "      <td>0</td>\n",
       "      <td>0</td>\n",
       "      <td>0</td>\n",
       "      <td>0</td>\n",
       "      <td>0</td>\n",
       "      <td>0</td>\n",
       "      <td>0</td>\n",
       "      <td>0</td>\n",
       "      <td>0</td>\n",
       "      <td>0</td>\n",
       "      <td>0</td>\n",
       "      <td>0</td>\n",
       "      <td>0</td>\n",
       "      <td>0</td>\n",
       "      <td>0</td>\n",
       "      <td>0</td>\n",
       "      <td>0</td>\n",
       "      <td>0</td>\n",
       "      <td>0</td>\n",
       "      <td>0</td>\n",
       "      <td>0</td>\n",
       "      <td>0</td>\n",
       "      <td>0</td>\n",
       "      <td>0</td>\n",
       "    </tr>\n",
       "    <tr>\n",
       "      <th>1</th>\n",
       "      <td>2</td>\n",
       "      <td>1</td>\n",
       "      <td>0</td>\n",
       "      <td>0</td>\n",
       "      <td>0</td>\n",
       "      <td>0</td>\n",
       "      <td>0</td>\n",
       "      <td>0</td>\n",
       "      <td>0</td>\n",
       "      <td>0</td>\n",
       "      <td>0</td>\n",
       "      <td>0</td>\n",
       "      <td>0</td>\n",
       "      <td>1</td>\n",
       "      <td>0</td>\n",
       "      <td>0</td>\n",
       "      <td>1</td>\n",
       "      <td>0</td>\n",
       "      <td>0</td>\n",
       "      <td>0</td>\n",
       "      <td>1</td>\n",
       "      <td>0</td>\n",
       "      <td>0</td>\n",
       "      <td>0</td>\n",
       "      <td>0</td>\n",
       "      <td>0</td>\n",
       "      <td>0</td>\n",
       "      <td>0</td>\n",
       "      <td>0</td>\n",
       "      <td>0</td>\n",
       "      <td>0</td>\n",
       "      <td>0</td>\n",
       "      <td>1</td>\n",
       "      <td>0</td>\n",
       "      <td>0</td>\n",
       "      <td>0</td>\n",
       "      <td>0</td>\n",
       "      <td>0</td>\n",
       "      <td>0</td>\n",
       "      <td>1</td>\n",
       "      <td>0</td>\n",
       "      <td>0</td>\n",
       "      <td>0</td>\n",
       "      <td>0</td>\n",
       "      <td>0</td>\n",
       "      <td>0</td>\n",
       "      <td>0</td>\n",
       "      <td>0</td>\n",
       "      <td>1</td>\n",
       "      <td>0</td>\n",
       "      <td>0</td>\n",
       "      <td>0</td>\n",
       "      <td>0</td>\n",
       "      <td>0</td>\n",
       "      <td>0</td>\n",
       "      <td>0</td>\n",
       "      <td>0</td>\n",
       "      <td>0</td>\n",
       "      <td>0</td>\n",
       "      <td>0</td>\n",
       "      <td>0</td>\n",
       "      <td>0</td>\n",
       "      <td>0</td>\n",
       "      <td>0</td>\n",
       "      <td>0</td>\n",
       "      <td>0</td>\n",
       "      <td>0</td>\n",
       "      <td>0</td>\n",
       "      <td>0</td>\n",
       "      <td>0</td>\n",
       "      <td>0</td>\n",
       "      <td>0</td>\n",
       "      <td>0</td>\n",
       "      <td>0</td>\n",
       "      <td>0</td>\n",
       "      <td>0</td>\n",
       "      <td>0</td>\n",
       "      <td>0</td>\n",
       "      <td>0</td>\n",
       "      <td>0</td>\n",
       "      <td>1</td>\n",
       "      <td>0</td>\n",
       "      <td>0</td>\n",
       "      <td>0</td>\n",
       "      <td>0</td>\n",
       "      <td>0</td>\n",
       "      <td>0</td>\n",
       "      <td>0</td>\n",
       "      <td>0</td>\n",
       "      <td>0</td>\n",
       "      <td>0</td>\n",
       "      <td>0</td>\n",
       "      <td>0</td>\n",
       "      <td>0</td>\n",
       "      <td>0</td>\n",
       "      <td>0</td>\n",
       "      <td>0</td>\n",
       "      <td>0</td>\n",
       "      <td>0</td>\n",
       "      <td>0</td>\n",
       "      <td>0</td>\n",
       "      <td>0</td>\n",
       "      <td>0</td>\n",
       "      <td>0</td>\n",
       "      <td>0</td>\n",
       "      <td>0</td>\n",
       "      <td>0</td>\n",
       "      <td>0</td>\n",
       "      <td>0</td>\n",
       "      <td>0</td>\n",
       "      <td>0</td>\n",
       "      <td>0</td>\n",
       "      <td>0</td>\n",
       "    </tr>\n",
       "    <tr>\n",
       "      <th>2</th>\n",
       "      <td>1</td>\n",
       "      <td>0</td>\n",
       "      <td>1</td>\n",
       "      <td>0</td>\n",
       "      <td>0</td>\n",
       "      <td>0</td>\n",
       "      <td>0</td>\n",
       "      <td>0</td>\n",
       "      <td>0</td>\n",
       "      <td>0</td>\n",
       "      <td>1</td>\n",
       "      <td>0</td>\n",
       "      <td>0</td>\n",
       "      <td>0</td>\n",
       "      <td>0</td>\n",
       "      <td>0</td>\n",
       "      <td>0</td>\n",
       "      <td>0</td>\n",
       "      <td>0</td>\n",
       "      <td>0</td>\n",
       "      <td>0</td>\n",
       "      <td>0</td>\n",
       "      <td>0</td>\n",
       "      <td>1</td>\n",
       "      <td>0</td>\n",
       "      <td>0</td>\n",
       "      <td>0</td>\n",
       "      <td>0</td>\n",
       "      <td>0</td>\n",
       "      <td>0</td>\n",
       "      <td>0</td>\n",
       "      <td>0</td>\n",
       "      <td>0</td>\n",
       "      <td>0</td>\n",
       "      <td>0</td>\n",
       "      <td>0</td>\n",
       "      <td>0</td>\n",
       "      <td>0</td>\n",
       "      <td>0</td>\n",
       "      <td>0</td>\n",
       "      <td>0</td>\n",
       "      <td>0</td>\n",
       "      <td>0</td>\n",
       "      <td>0</td>\n",
       "      <td>0</td>\n",
       "      <td>1</td>\n",
       "      <td>0</td>\n",
       "      <td>0</td>\n",
       "      <td>0</td>\n",
       "      <td>0</td>\n",
       "      <td>0</td>\n",
       "      <td>0</td>\n",
       "      <td>0</td>\n",
       "      <td>0</td>\n",
       "      <td>0</td>\n",
       "      <td>0</td>\n",
       "      <td>0</td>\n",
       "      <td>0</td>\n",
       "      <td>0</td>\n",
       "      <td>0</td>\n",
       "      <td>0</td>\n",
       "      <td>0</td>\n",
       "      <td>1</td>\n",
       "      <td>0</td>\n",
       "      <td>0</td>\n",
       "      <td>0</td>\n",
       "      <td>0</td>\n",
       "      <td>0</td>\n",
       "      <td>0</td>\n",
       "      <td>0</td>\n",
       "      <td>0</td>\n",
       "      <td>0</td>\n",
       "      <td>0</td>\n",
       "      <td>0</td>\n",
       "      <td>0</td>\n",
       "      <td>0</td>\n",
       "      <td>0</td>\n",
       "      <td>0</td>\n",
       "      <td>0</td>\n",
       "      <td>0</td>\n",
       "      <td>0</td>\n",
       "      <td>0</td>\n",
       "      <td>0</td>\n",
       "      <td>0</td>\n",
       "      <td>0</td>\n",
       "      <td>0</td>\n",
       "      <td>0</td>\n",
       "      <td>0</td>\n",
       "      <td>0</td>\n",
       "      <td>0</td>\n",
       "      <td>0</td>\n",
       "      <td>0</td>\n",
       "      <td>0</td>\n",
       "      <td>0</td>\n",
       "      <td>0</td>\n",
       "      <td>0</td>\n",
       "      <td>0</td>\n",
       "      <td>0</td>\n",
       "      <td>0</td>\n",
       "      <td>0</td>\n",
       "      <td>0</td>\n",
       "      <td>0</td>\n",
       "      <td>0</td>\n",
       "      <td>0</td>\n",
       "      <td>0</td>\n",
       "      <td>0</td>\n",
       "      <td>0</td>\n",
       "      <td>0</td>\n",
       "      <td>0</td>\n",
       "      <td>0</td>\n",
       "      <td>0</td>\n",
       "      <td>0</td>\n",
       "      <td>0</td>\n",
       "    </tr>\n",
       "    <tr>\n",
       "      <th>3</th>\n",
       "      <td>1</td>\n",
       "      <td>1</td>\n",
       "      <td>0</td>\n",
       "      <td>0</td>\n",
       "      <td>0</td>\n",
       "      <td>0</td>\n",
       "      <td>0</td>\n",
       "      <td>0</td>\n",
       "      <td>0</td>\n",
       "      <td>0</td>\n",
       "      <td>0</td>\n",
       "      <td>0</td>\n",
       "      <td>1</td>\n",
       "      <td>0</td>\n",
       "      <td>0</td>\n",
       "      <td>0</td>\n",
       "      <td>1</td>\n",
       "      <td>0</td>\n",
       "      <td>0</td>\n",
       "      <td>0</td>\n",
       "      <td>0</td>\n",
       "      <td>0</td>\n",
       "      <td>0</td>\n",
       "      <td>1</td>\n",
       "      <td>0</td>\n",
       "      <td>0</td>\n",
       "      <td>0</td>\n",
       "      <td>0</td>\n",
       "      <td>0</td>\n",
       "      <td>0</td>\n",
       "      <td>0</td>\n",
       "      <td>0</td>\n",
       "      <td>0</td>\n",
       "      <td>0</td>\n",
       "      <td>0</td>\n",
       "      <td>0</td>\n",
       "      <td>0</td>\n",
       "      <td>0</td>\n",
       "      <td>0</td>\n",
       "      <td>0</td>\n",
       "      <td>0</td>\n",
       "      <td>0</td>\n",
       "      <td>0</td>\n",
       "      <td>0</td>\n",
       "      <td>0</td>\n",
       "      <td>1</td>\n",
       "      <td>0</td>\n",
       "      <td>0</td>\n",
       "      <td>0</td>\n",
       "      <td>0</td>\n",
       "      <td>0</td>\n",
       "      <td>0</td>\n",
       "      <td>0</td>\n",
       "      <td>0</td>\n",
       "      <td>0</td>\n",
       "      <td>0</td>\n",
       "      <td>0</td>\n",
       "      <td>0</td>\n",
       "      <td>0</td>\n",
       "      <td>0</td>\n",
       "      <td>1</td>\n",
       "      <td>0</td>\n",
       "      <td>0</td>\n",
       "      <td>0</td>\n",
       "      <td>0</td>\n",
       "      <td>0</td>\n",
       "      <td>0</td>\n",
       "      <td>0</td>\n",
       "      <td>0</td>\n",
       "      <td>0</td>\n",
       "      <td>0</td>\n",
       "      <td>0</td>\n",
       "      <td>0</td>\n",
       "      <td>0</td>\n",
       "      <td>0</td>\n",
       "      <td>0</td>\n",
       "      <td>0</td>\n",
       "      <td>0</td>\n",
       "      <td>0</td>\n",
       "      <td>0</td>\n",
       "      <td>0</td>\n",
       "      <td>0</td>\n",
       "      <td>0</td>\n",
       "      <td>0</td>\n",
       "      <td>0</td>\n",
       "      <td>0</td>\n",
       "      <td>0</td>\n",
       "      <td>0</td>\n",
       "      <td>0</td>\n",
       "      <td>0</td>\n",
       "      <td>0</td>\n",
       "      <td>0</td>\n",
       "      <td>0</td>\n",
       "      <td>0</td>\n",
       "      <td>0</td>\n",
       "      <td>0</td>\n",
       "      <td>0</td>\n",
       "      <td>0</td>\n",
       "      <td>0</td>\n",
       "      <td>0</td>\n",
       "      <td>0</td>\n",
       "      <td>0</td>\n",
       "      <td>0</td>\n",
       "      <td>0</td>\n",
       "      <td>0</td>\n",
       "      <td>0</td>\n",
       "      <td>0</td>\n",
       "      <td>0</td>\n",
       "      <td>0</td>\n",
       "      <td>0</td>\n",
       "      <td>0</td>\n",
       "      <td>0</td>\n",
       "      <td>0</td>\n",
       "    </tr>\n",
       "    <tr>\n",
       "      <th>4</th>\n",
       "      <td>2</td>\n",
       "      <td>0</td>\n",
       "      <td>1</td>\n",
       "      <td>0</td>\n",
       "      <td>1</td>\n",
       "      <td>0</td>\n",
       "      <td>0</td>\n",
       "      <td>0</td>\n",
       "      <td>0</td>\n",
       "      <td>0</td>\n",
       "      <td>0</td>\n",
       "      <td>0</td>\n",
       "      <td>0</td>\n",
       "      <td>0</td>\n",
       "      <td>0</td>\n",
       "      <td>0</td>\n",
       "      <td>0</td>\n",
       "      <td>0</td>\n",
       "      <td>0</td>\n",
       "      <td>0</td>\n",
       "      <td>0</td>\n",
       "      <td>0</td>\n",
       "      <td>0</td>\n",
       "      <td>1</td>\n",
       "      <td>0</td>\n",
       "      <td>0</td>\n",
       "      <td>0</td>\n",
       "      <td>0</td>\n",
       "      <td>0</td>\n",
       "      <td>0</td>\n",
       "      <td>0</td>\n",
       "      <td>0</td>\n",
       "      <td>0</td>\n",
       "      <td>0</td>\n",
       "      <td>0</td>\n",
       "      <td>0</td>\n",
       "      <td>0</td>\n",
       "      <td>0</td>\n",
       "      <td>0</td>\n",
       "      <td>0</td>\n",
       "      <td>0</td>\n",
       "      <td>0</td>\n",
       "      <td>0</td>\n",
       "      <td>0</td>\n",
       "      <td>0</td>\n",
       "      <td>0</td>\n",
       "      <td>0</td>\n",
       "      <td>0</td>\n",
       "      <td>1</td>\n",
       "      <td>1</td>\n",
       "      <td>0</td>\n",
       "      <td>0</td>\n",
       "      <td>0</td>\n",
       "      <td>0</td>\n",
       "      <td>0</td>\n",
       "      <td>0</td>\n",
       "      <td>0</td>\n",
       "      <td>0</td>\n",
       "      <td>0</td>\n",
       "      <td>0</td>\n",
       "      <td>0</td>\n",
       "      <td>0</td>\n",
       "      <td>0</td>\n",
       "      <td>0</td>\n",
       "      <td>0</td>\n",
       "      <td>0</td>\n",
       "      <td>0</td>\n",
       "      <td>0</td>\n",
       "      <td>0</td>\n",
       "      <td>0</td>\n",
       "      <td>0</td>\n",
       "      <td>0</td>\n",
       "      <td>0</td>\n",
       "      <td>0</td>\n",
       "      <td>0</td>\n",
       "      <td>0</td>\n",
       "      <td>0</td>\n",
       "      <td>0</td>\n",
       "      <td>0</td>\n",
       "      <td>0</td>\n",
       "      <td>0</td>\n",
       "      <td>0</td>\n",
       "      <td>0</td>\n",
       "      <td>0</td>\n",
       "      <td>0</td>\n",
       "      <td>0</td>\n",
       "      <td>1</td>\n",
       "      <td>0</td>\n",
       "      <td>0</td>\n",
       "      <td>0</td>\n",
       "      <td>0</td>\n",
       "      <td>0</td>\n",
       "      <td>0</td>\n",
       "      <td>0</td>\n",
       "      <td>0</td>\n",
       "      <td>0</td>\n",
       "      <td>0</td>\n",
       "      <td>0</td>\n",
       "      <td>0</td>\n",
       "      <td>0</td>\n",
       "      <td>0</td>\n",
       "      <td>0</td>\n",
       "      <td>0</td>\n",
       "      <td>0</td>\n",
       "      <td>0</td>\n",
       "      <td>0</td>\n",
       "      <td>0</td>\n",
       "      <td>0</td>\n",
       "      <td>0</td>\n",
       "      <td>0</td>\n",
       "      <td>0</td>\n",
       "      <td>0</td>\n",
       "      <td>0</td>\n",
       "    </tr>\n",
       "  </tbody>\n",
       "</table>\n",
       "</div>"
      ],
      "text/plain": [
       "  SEVERITYCODE  ADDRTYPE_Block  ADDRTYPE_Intersection  ADDRTYPE_Unknown  \\\n",
       "0            2               0                      1                 0   \n",
       "1            2               1                      0                 0   \n",
       "2            1               0                      1                 0   \n",
       "3            1               1                      0                 0   \n",
       "4            2               0                      1                 0   \n",
       "\n",
       "   COLLISIONTYPE_Cycles  COLLISIONTYPE_Head On  COLLISIONTYPE_Left Turn  \\\n",
       "0                     0                      0                        0   \n",
       "1                     0                      0                        0   \n",
       "2                     0                      0                        0   \n",
       "3                     0                      0                        0   \n",
       "4                     1                      0                        0   \n",
       "\n",
       "   COLLISIONTYPE_Other  COLLISIONTYPE_Parked Car  COLLISIONTYPE_Pedestrian  \\\n",
       "0                    0                         0                         0   \n",
       "1                    0                         0                         0   \n",
       "2                    0                         0                         0   \n",
       "3                    0                         0                         0   \n",
       "4                    0                         0                         0   \n",
       "\n",
       "   COLLISIONTYPE_Rear Ended  COLLISIONTYPE_Right Turn  \\\n",
       "0                         0                         0   \n",
       "1                         0                         0   \n",
       "2                         1                         0   \n",
       "3                         0                         0   \n",
       "4                         0                         0   \n",
       "\n",
       "   COLLISIONTYPE_Sideswipe  COLLISIONTYPE_Unknown  \\\n",
       "0                        0                      1   \n",
       "1                        0                      1   \n",
       "2                        0                      0   \n",
       "3                        1                      0   \n",
       "4                        0                      0   \n",
       "\n",
       "   JUNCTIONTYPE_Driveway Junction  JUNCTIONTYPE_Mid-Block (Intersect)  \\\n",
       "0                               0                                   0   \n",
       "1                               0                                   0   \n",
       "2                               0                                   0   \n",
       "3                               0                                   0   \n",
       "4                               0                                   0   \n",
       "\n",
       "   JUNCTIONTYPE_Mid-Block (Not Intersect)  JUNCTIONTYPE_Ramp Junction  \\\n",
       "0                                       0                           0   \n",
       "1                                       1                           0   \n",
       "2                                       0                           0   \n",
       "3                                       1                           0   \n",
       "4                                       0                           0   \n",
       "\n",
       "   JUNCTIONTYPE_Unknown  INATTENTIONIND_Y  UNDERINFL_Unknown  UNDERINFL_Y  \\\n",
       "0                     0                 0                  1            0   \n",
       "1                     0                 0                  1            0   \n",
       "2                     0                 0                  0            0   \n",
       "3                     0                 0                  0            0   \n",
       "4                     0                 0                  0            0   \n",
       "\n",
       "   WEATHER_Blowing Snow  WEATHER_Clear  WEATHER_Fog/Smog/Smoke  WEATHER_Other  \\\n",
       "0                     0              0                       0              0   \n",
       "1                     0              0                       0              0   \n",
       "2                     0              1                       0              0   \n",
       "3                     0              1                       0              0   \n",
       "4                     0              1                       0              0   \n",
       "\n",
       "   WEATHER_Overcast  WEATHER_Partly Cloudy  WEATHER_Raining  \\\n",
       "0                 0                      0                0   \n",
       "1                 0                      0                0   \n",
       "2                 0                      0                0   \n",
       "3                 0                      0                0   \n",
       "4                 0                      0                0   \n",
       "\n",
       "   WEATHER_Severe Crosswind  WEATHER_Sleet/Hail/Freezing Rain  \\\n",
       "0                         0                                 0   \n",
       "1                         0                                 0   \n",
       "2                         0                                 0   \n",
       "3                         0                                 0   \n",
       "4                         0                                 0   \n",
       "\n",
       "   WEATHER_Snowing  WEATHER_Unknown  ROADCOND_Ice  ROADCOND_Oil  \\\n",
       "0                0                1             0             0   \n",
       "1                0                1             0             0   \n",
       "2                0                0             0             0   \n",
       "3                0                0             0             0   \n",
       "4                0                0             0             0   \n",
       "\n",
       "   ROADCOND_Other  ROADCOND_Sand/Mud/Dirt  ROADCOND_Snow/Slush  \\\n",
       "0               0                       0                    0   \n",
       "1               0                       0                    0   \n",
       "2               0                       0                    0   \n",
       "3               0                       0                    0   \n",
       "4               0                       0                    0   \n",
       "\n",
       "   ROADCOND_Standing Water  ROADCOND_Unknown  ROADCOND_Wet  \\\n",
       "0                        0                 1             0   \n",
       "1                        0                 1             0   \n",
       "2                        0                 0             0   \n",
       "3                        0                 0             0   \n",
       "4                        0                 0             0   \n",
       "\n",
       "   LIGHTCOND_Dark - Street Lights Off  LIGHTCOND_Dark - Street Lights On  \\\n",
       "0                                   0                                  0   \n",
       "1                                   0                                  0   \n",
       "2                                   0                                  0   \n",
       "3                                   0                                  0   \n",
       "4                                   0                                  0   \n",
       "\n",
       "   LIGHTCOND_Dark - Unknown Lighting  LIGHTCOND_Dawn  LIGHTCOND_Daylight  \\\n",
       "0                                  0               0                   0   \n",
       "1                                  0               0                   0   \n",
       "2                                  0               0                   1   \n",
       "3                                  0               0                   1   \n",
       "4                                  0               0                   0   \n",
       "\n",
       "   LIGHTCOND_Dusk  LIGHTCOND_Other  LIGHTCOND_Unknown  PEDROWNOTGRNT_Y  \\\n",
       "0               0                0                  1                0   \n",
       "1               0                0                  1                0   \n",
       "2               0                0                  0                0   \n",
       "3               0                0                  0                0   \n",
       "4               0                0                  1                1   \n",
       "\n",
       "   SPEEDING_Y  ST_COLCODE_1  ST_COLCODE_2  ST_COLCODE_3  ST_COLCODE_4  \\\n",
       "0           0             0             0             0             0   \n",
       "1           0             0             0             0             0   \n",
       "2           0             0             0             0             0   \n",
       "3           0             0             0             0             0   \n",
       "4           0             0             0             0             0   \n",
       "\n",
       "   ST_COLCODE_5  ST_COLCODE_6  ST_COLCODE_7  ST_COLCODE_8  ST_COLCODE_10  \\\n",
       "0             0             0             0             0              0   \n",
       "1             0             0             0             0              0   \n",
       "2             0             0             0             0              0   \n",
       "3             0             0             0             0              0   \n",
       "4             0             0             0             0              0   \n",
       "\n",
       "   ST_COLCODE_11  ST_COLCODE_12  ST_COLCODE_13  ST_COLCODE_14  ST_COLCODE_15  \\\n",
       "0              0              0              0              0              0   \n",
       "1              0              0              0              0              0   \n",
       "2              0              0              1              0              0   \n",
       "3              1              0              0              0              0   \n",
       "4              0              0              0              0              0   \n",
       "\n",
       "   ST_COLCODE_16  ST_COLCODE_17  ST_COLCODE_18  ST_COLCODE_19  ST_COLCODE_20  \\\n",
       "0              0              0              0              0              0   \n",
       "1              0              0              0              0              0   \n",
       "2              0              0              0              0              0   \n",
       "3              0              0              0              0              0   \n",
       "4              0              0              0              0              0   \n",
       "\n",
       "   ST_COLCODE_21  ST_COLCODE_22  ST_COLCODE_23  ST_COLCODE_24  ST_COLCODE_25  \\\n",
       "0              0              0              0              0              0   \n",
       "1              0              0              0              0              0   \n",
       "2              0              0              0              0              0   \n",
       "3              0              0              0              0              0   \n",
       "4              0              0              0              0              0   \n",
       "\n",
       "   ST_COLCODE_26  ST_COLCODE_27  ST_COLCODE_28  ST_COLCODE_29  ST_COLCODE_30  \\\n",
       "0              0              0              0              0              0   \n",
       "1              0              0              0              0              0   \n",
       "2              0              0              0              0              0   \n",
       "3              0              0              0              0              0   \n",
       "4              0              0              0              0              0   \n",
       "\n",
       "   ST_COLCODE_31  ST_COLCODE_32  ST_COLCODE_40  ST_COLCODE_41  ST_COLCODE_42  \\\n",
       "0              1              0              0              0              0   \n",
       "1              1              0              0              0              0   \n",
       "2              0              0              0              0              0   \n",
       "3              0              0              0              0              0   \n",
       "4              0              0              0              0              0   \n",
       "\n",
       "   ST_COLCODE_43  ST_COLCODE_45  ST_COLCODE_48  ST_COLCODE_49  ST_COLCODE_50  \\\n",
       "0              0              0              0              0              0   \n",
       "1              0              0              0              0              0   \n",
       "2              0              0              0              0              0   \n",
       "3              0              0              0              0              0   \n",
       "4              0              1              0              0              0   \n",
       "\n",
       "   ST_COLCODE_51  ST_COLCODE_52  ST_COLCODE_53  ST_COLCODE_54  ST_COLCODE_56  \\\n",
       "0              0              0              0              0              0   \n",
       "1              0              0              0              0              0   \n",
       "2              0              0              0              0              0   \n",
       "3              0              0              0              0              0   \n",
       "4              0              0              0              0              0   \n",
       "\n",
       "   ST_COLCODE_57  ST_COLCODE_60  ST_COLCODE_64  ST_COLCODE_65  ST_COLCODE_66  \\\n",
       "0              0              0              0              0              0   \n",
       "1              0              0              0              0              0   \n",
       "2              0              0              0              0              0   \n",
       "3              0              0              0              0              0   \n",
       "4              0              0              0              0              0   \n",
       "\n",
       "   ST_COLCODE_67  ST_COLCODE_71  ST_COLCODE_72  ST_COLCODE_73  ST_COLCODE_74  \\\n",
       "0              0              0              0              0              0   \n",
       "1              0              0              0              0              0   \n",
       "2              0              0              0              0              0   \n",
       "3              0              0              0              0              0   \n",
       "4              0              0              0              0              0   \n",
       "\n",
       "   ST_COLCODE_81  ST_COLCODE_82  ST_COLCODE_83  ST_COLCODE_84  ST_COLCODE_85  \\\n",
       "0              0              0              0              0              0   \n",
       "1              0              0              0              0              0   \n",
       "2              0              0              0              0              0   \n",
       "3              0              0              0              0              0   \n",
       "4              0              0              0              0              0   \n",
       "\n",
       "   ST_COLCODE_87  ST_COLCODE_88  HITPARKEDCAR_Y  \n",
       "0              0              0               0  \n",
       "1              0              0               0  \n",
       "2              0              0               0  \n",
       "3              0              0               0  \n",
       "4              0              0               0  "
      ]
     },
     "execution_count": 89,
     "metadata": {},
     "output_type": "execute_result"
    }
   ],
   "source": [
    "#features = ['ADDRTYPE','COLLISIONTYPE','PERSONCOUNT','PEDCOUNT', 'PEDCYLCOUNT', 'VEHCOUNT', 'INJURIES', \n",
    "#            'SERIOUSINJURIES', 'FATALITIES', 'JUNCTIONTYPE', 'INATTENTIONIND', 'UNDERINFL', 'WEATHER', \n",
    "#            'ROADCOND', 'LIGHTCOND', 'PEDROWNOTGRNT', 'SPEEDING', \n",
    "#            'ST_COLCODE', 'HITPARKEDCAR', 'Month', 'Weekday', 'Hour']\n",
    "\n",
    "all_cols = ['SEVERITYCODE','ADDRTYPE','COLLISIONTYPE', \n",
    "            'JUNCTIONTYPE', 'INATTENTIONIND', 'UNDERINFL', 'WEATHER', \n",
    "            'ROADCOND', 'LIGHTCOND', 'PEDROWNOTGRNT', 'SPEEDING', \n",
    "            'ST_COLCODE', 'HITPARKEDCAR']\n",
    "\n",
    "all_features = ['ADDRTYPE','COLLISIONTYPE',\n",
    "            'JUNCTIONTYPE', 'INATTENTIONIND', 'UNDERINFL', 'WEATHER', \n",
    "            'ROADCOND', 'LIGHTCOND', 'PEDROWNOTGRNT', 'SPEEDING', \n",
    "            'ST_COLCODE', 'HITPARKEDCAR']\n",
    "\n",
    "df_sel = df.loc[:, all_cols]    \n",
    "df_sel[all_features] = df_sel[all_features].astype('category')\n",
    "df_sel = pd.get_dummies(df_sel, columns=all_features, drop_first=True, dtype='int64')\n",
    "\n",
    "df_sel.head()"
   ]
  },
  {
   "cell_type": "markdown",
   "metadata": {},
   "source": [
    "### Drop ALL the columns having 'Unknown' in their titles."
   ]
  },
  {
   "cell_type": "code",
   "execution_count": 90,
   "metadata": {},
   "outputs": [],
   "source": [
    "df_sel.drop(df_sel.columns[df_sel.columns.str.contains('Unknown')], axis=1, inplace=True)"
   ]
  },
  {
   "cell_type": "code",
   "execution_count": 91,
   "metadata": {},
   "outputs": [
    {
     "data": {
      "text/html": [
       "<div>\n",
       "<style scoped>\n",
       "    .dataframe tbody tr th:only-of-type {\n",
       "        vertical-align: middle;\n",
       "    }\n",
       "\n",
       "    .dataframe tbody tr th {\n",
       "        vertical-align: top;\n",
       "    }\n",
       "\n",
       "    .dataframe thead th {\n",
       "        text-align: right;\n",
       "    }\n",
       "</style>\n",
       "<table border=\"1\" class=\"dataframe\">\n",
       "  <thead>\n",
       "    <tr style=\"text-align: right;\">\n",
       "      <th></th>\n",
       "      <th>SEVERITYCODE</th>\n",
       "      <th>ADDRTYPE</th>\n",
       "      <th>COLLISIONTYPE</th>\n",
       "      <th>JUNCTIONTYPE</th>\n",
       "      <th>INATTENTIONIND</th>\n",
       "      <th>UNDERINFL</th>\n",
       "      <th>WEATHER</th>\n",
       "      <th>ROADCOND</th>\n",
       "      <th>LIGHTCOND</th>\n",
       "      <th>PEDROWNOTGRNT</th>\n",
       "      <th>SPEEDING</th>\n",
       "      <th>HITPARKEDCAR</th>\n",
       "    </tr>\n",
       "  </thead>\n",
       "  <tbody>\n",
       "    <tr>\n",
       "      <th>0</th>\n",
       "      <td>2</td>\n",
       "      <td>Intersection</td>\n",
       "      <td>Unknown</td>\n",
       "      <td>At Intersection (Intersect)</td>\n",
       "      <td>N</td>\n",
       "      <td>Unknown</td>\n",
       "      <td>Unknown</td>\n",
       "      <td>Unknown</td>\n",
       "      <td>Unknown</td>\n",
       "      <td>N</td>\n",
       "      <td>N</td>\n",
       "      <td>N</td>\n",
       "    </tr>\n",
       "    <tr>\n",
       "      <th>1</th>\n",
       "      <td>2</td>\n",
       "      <td>Block</td>\n",
       "      <td>Unknown</td>\n",
       "      <td>Mid-Block (Not Intersect)</td>\n",
       "      <td>N</td>\n",
       "      <td>Unknown</td>\n",
       "      <td>Unknown</td>\n",
       "      <td>Unknown</td>\n",
       "      <td>Unknown</td>\n",
       "      <td>N</td>\n",
       "      <td>N</td>\n",
       "      <td>N</td>\n",
       "    </tr>\n",
       "    <tr>\n",
       "      <th>2</th>\n",
       "      <td>1</td>\n",
       "      <td>Intersection</td>\n",
       "      <td>Rear Ended</td>\n",
       "      <td>At Intersection (Intersect)</td>\n",
       "      <td>N</td>\n",
       "      <td>N</td>\n",
       "      <td>Clear</td>\n",
       "      <td>Dry</td>\n",
       "      <td>Daylight</td>\n",
       "      <td>N</td>\n",
       "      <td>N</td>\n",
       "      <td>N</td>\n",
       "    </tr>\n",
       "    <tr>\n",
       "      <th>3</th>\n",
       "      <td>1</td>\n",
       "      <td>Block</td>\n",
       "      <td>Sideswipe</td>\n",
       "      <td>Mid-Block (Not Intersect)</td>\n",
       "      <td>N</td>\n",
       "      <td>N</td>\n",
       "      <td>Clear</td>\n",
       "      <td>Dry</td>\n",
       "      <td>Daylight</td>\n",
       "      <td>N</td>\n",
       "      <td>N</td>\n",
       "      <td>N</td>\n",
       "    </tr>\n",
       "    <tr>\n",
       "      <th>4</th>\n",
       "      <td>2</td>\n",
       "      <td>Intersection</td>\n",
       "      <td>Cycles</td>\n",
       "      <td>At Intersection (Intersect)</td>\n",
       "      <td>N</td>\n",
       "      <td>N</td>\n",
       "      <td>Clear</td>\n",
       "      <td>Dry</td>\n",
       "      <td>Unknown</td>\n",
       "      <td>Y</td>\n",
       "      <td>N</td>\n",
       "      <td>N</td>\n",
       "    </tr>\n",
       "    <tr>\n",
       "      <th>...</th>\n",
       "      <td>...</td>\n",
       "      <td>...</td>\n",
       "      <td>...</td>\n",
       "      <td>...</td>\n",
       "      <td>...</td>\n",
       "      <td>...</td>\n",
       "      <td>...</td>\n",
       "      <td>...</td>\n",
       "      <td>...</td>\n",
       "      <td>...</td>\n",
       "      <td>...</td>\n",
       "      <td>...</td>\n",
       "    </tr>\n",
       "    <tr>\n",
       "      <th>199399</th>\n",
       "      <td>1</td>\n",
       "      <td>Intersection</td>\n",
       "      <td>Angles</td>\n",
       "      <td>At Intersection (Intersect)</td>\n",
       "      <td>N</td>\n",
       "      <td>N</td>\n",
       "      <td>Clear</td>\n",
       "      <td>Dry</td>\n",
       "      <td>Dark - Street Lights On</td>\n",
       "      <td>N</td>\n",
       "      <td>Y</td>\n",
       "      <td>N</td>\n",
       "    </tr>\n",
       "    <tr>\n",
       "      <th>199400</th>\n",
       "      <td>1</td>\n",
       "      <td>Block</td>\n",
       "      <td>Other</td>\n",
       "      <td>Mid-Block (Not Intersect)</td>\n",
       "      <td>N</td>\n",
       "      <td>N</td>\n",
       "      <td>Clear</td>\n",
       "      <td>Dry</td>\n",
       "      <td>Dark - Street Lights On</td>\n",
       "      <td>N</td>\n",
       "      <td>N</td>\n",
       "      <td>N</td>\n",
       "    </tr>\n",
       "    <tr>\n",
       "      <th>199401</th>\n",
       "      <td>1</td>\n",
       "      <td>Block</td>\n",
       "      <td>Other</td>\n",
       "      <td>Mid-Block (Not Intersect)</td>\n",
       "      <td>N</td>\n",
       "      <td>N</td>\n",
       "      <td>Clear</td>\n",
       "      <td>Dry</td>\n",
       "      <td>Dark - Street Lights On</td>\n",
       "      <td>N</td>\n",
       "      <td>N</td>\n",
       "      <td>N</td>\n",
       "    </tr>\n",
       "    <tr>\n",
       "      <th>199402</th>\n",
       "      <td>1</td>\n",
       "      <td>Block</td>\n",
       "      <td>Parked Car</td>\n",
       "      <td>Mid-Block (Not Intersect)</td>\n",
       "      <td>N</td>\n",
       "      <td>N</td>\n",
       "      <td>Clear</td>\n",
       "      <td>Dry</td>\n",
       "      <td>Daylight</td>\n",
       "      <td>N</td>\n",
       "      <td>N</td>\n",
       "      <td>N</td>\n",
       "    </tr>\n",
       "    <tr>\n",
       "      <th>199403</th>\n",
       "      <td>1</td>\n",
       "      <td>Block</td>\n",
       "      <td>Other</td>\n",
       "      <td>Mid-Block (Not Intersect)</td>\n",
       "      <td>N</td>\n",
       "      <td>N</td>\n",
       "      <td>Clear</td>\n",
       "      <td>Dry</td>\n",
       "      <td>Daylight</td>\n",
       "      <td>N</td>\n",
       "      <td>N</td>\n",
       "      <td>N</td>\n",
       "    </tr>\n",
       "  </tbody>\n",
       "</table>\n",
       "<p>199404 rows × 12 columns</p>\n",
       "</div>"
      ],
      "text/plain": [
       "       SEVERITYCODE      ADDRTYPE COLLISIONTYPE                 JUNCTIONTYPE  \\\n",
       "0                 2  Intersection       Unknown  At Intersection (Intersect)   \n",
       "1                 2         Block       Unknown    Mid-Block (Not Intersect)   \n",
       "2                 1  Intersection    Rear Ended  At Intersection (Intersect)   \n",
       "3                 1         Block     Sideswipe    Mid-Block (Not Intersect)   \n",
       "4                 2  Intersection        Cycles  At Intersection (Intersect)   \n",
       "...             ...           ...           ...                          ...   \n",
       "199399            1  Intersection        Angles  At Intersection (Intersect)   \n",
       "199400            1         Block         Other    Mid-Block (Not Intersect)   \n",
       "199401            1         Block         Other    Mid-Block (Not Intersect)   \n",
       "199402            1         Block    Parked Car    Mid-Block (Not Intersect)   \n",
       "199403            1         Block         Other    Mid-Block (Not Intersect)   \n",
       "\n",
       "       INATTENTIONIND UNDERINFL  WEATHER ROADCOND                LIGHTCOND  \\\n",
       "0                   N   Unknown  Unknown  Unknown                  Unknown   \n",
       "1                   N   Unknown  Unknown  Unknown                  Unknown   \n",
       "2                   N         N    Clear      Dry                 Daylight   \n",
       "3                   N         N    Clear      Dry                 Daylight   \n",
       "4                   N         N    Clear      Dry                  Unknown   \n",
       "...               ...       ...      ...      ...                      ...   \n",
       "199399              N         N    Clear      Dry  Dark - Street Lights On   \n",
       "199400              N         N    Clear      Dry  Dark - Street Lights On   \n",
       "199401              N         N    Clear      Dry  Dark - Street Lights On   \n",
       "199402              N         N    Clear      Dry                 Daylight   \n",
       "199403              N         N    Clear      Dry                 Daylight   \n",
       "\n",
       "       PEDROWNOTGRNT SPEEDING HITPARKEDCAR  \n",
       "0                  N        N            N  \n",
       "1                  N        N            N  \n",
       "2                  N        N            N  \n",
       "3                  N        N            N  \n",
       "4                  Y        N            N  \n",
       "...              ...      ...          ...  \n",
       "199399             N        Y            N  \n",
       "199400             N        N            N  \n",
       "199401             N        N            N  \n",
       "199402             N        N            N  \n",
       "199403             N        N            N  \n",
       "\n",
       "[199404 rows x 12 columns]"
      ]
     },
     "execution_count": 91,
     "metadata": {},
     "output_type": "execute_result"
    }
   ],
   "source": [
    "# Check if all the data types are int64 or not\n",
    "\n",
    "df.select_dtypes(exclude=['int64'])"
   ]
  },
  {
   "cell_type": "code",
   "execution_count": 92,
   "metadata": {},
   "outputs": [],
   "source": [
    "filename = \"Collisions_100_after_Feature_Selected_unbalanced.csv\"\n",
    "df_sel.to_csv(filename, index=False)"
   ]
  },
  {
   "cell_type": "markdown",
   "metadata": {},
   "source": [
    "# Classification Models for Multi-class, Skewed Distribution"
   ]
  },
  {
   "cell_type": "markdown",
   "metadata": {},
   "source": [
    "Although we know a priori, that this extremely skewed and multi-class data may not be amenable even to the specialized classification models that deal with unbalanced data, we go ahead and have a taste of their performance, nevertheless. Here we have chosen \n",
    "- Bagging\n",
    "- Balanced Bagging\n",
    "- Balanced Random Forest\n",
    "- EasyEnsemble classifiers \n",
    "\n",
    "that are capable to deal with unbalanced data inherently."
   ]
  },
  {
   "cell_type": "code",
   "execution_count": 93,
   "metadata": {},
   "outputs": [],
   "source": [
    "filename = \"Collisions_100_after_Feature_Selected_unbalanced.csv\"\n",
    "df = pd.read_csv(filename)"
   ]
  },
  {
   "cell_type": "code",
   "execution_count": 94,
   "metadata": {},
   "outputs": [],
   "source": [
    "import itertools\n",
    "import matplotlib.pyplot as plt\n",
    "import numpy as np\n",
    "\n",
    "from sklearn.preprocessing import StandardScaler\n",
    "from sklearn.model_selection import train_test_split\n",
    "\n",
    "from sklearn.metrics import confusion_matrix\n",
    "from sklearn.metrics import balanced_accuracy_score\n",
    "\n",
    "from sklearn.ensemble import BaggingClassifier\n",
    "from imblearn.ensemble import BalancedBaggingClassifier\n",
    "from imblearn.ensemble import BalancedRandomForestClassifier\n",
    "from imblearn.ensemble import EasyEnsembleClassifier\n",
    "\n",
    "# --------------------------------------------------------------------------------\n",
    "# Authors: Guillaume Lemaitre <g.lemaitre58@gmail.com>\n",
    "# License: MIT\n",
    "# --------------------------------------------------------------------------------\n",
    "def plot_confusion_matrix(cm, classes, ax,\n",
    "                          normalize=False,\n",
    "                          title='Confusion matrix',\n",
    "                          cmap=plt.cm.Blues):\n",
    "    \"\"\"\n",
    "    This function prints and plots the confusion matrix.\n",
    "    Normalization can be applied by setting `normalize=True`.\n",
    "    \"\"\"\n",
    "\n",
    "    ax.imshow(cm, interpolation='nearest', cmap=cmap)\n",
    "    ax.set_title(title)\n",
    "    tick_marks = np.arange(len(classes))\n",
    "    plt.xticks(tick_marks, classes, rotation=0)\n",
    "    plt.sca(ax)\n",
    "    plt.yticks(tick_marks, classes)\n",
    "\n",
    "    fmt = '.2f' if normalize else 'd'\n",
    "    thresh = cm.max() / 2.\n",
    "    for i, j in itertools.product(range(cm.shape[0]), range(cm.shape[1])):\n",
    "        ax.text(j, i, format(cm[i, j], fmt),\n",
    "                horizontalalignment=\"center\",\n",
    "                color=\"white\" if cm[i, j] > thresh else \"black\")\n",
    "\n",
    "    ax.set_ylabel('True label')\n",
    "    ax.set_xlabel('Predicted label')\n",
    "# --------------------------------------------------------------------------------\n",
    "# --------------------------------------------------------------------------------"
   ]
  },
  {
   "cell_type": "markdown",
   "metadata": {
    "id": "l2Fl3HBwZDSa"
   },
   "source": [
    "#### Train Test Split\n",
    "Split the data into X_train, X_test, y_train, and y_test, after standardising the input features."
   ]
  },
  {
   "cell_type": "code",
   "execution_count": 95,
   "metadata": {
    "id": "M8azlFhkiN3w"
   },
   "outputs": [],
   "source": [
    "# Target variable\n",
    "target='SEVERITYCODE'\n",
    "\n",
    "# set X and y\n",
    "y = df[target]\n",
    "X = df.drop(target, axis=1)\n",
    "\n",
    "X = StandardScaler().fit(X).transform(X)\n",
    "\n",
    "# Split the data set into training and testing data sets\n",
    "X_train, X_test, y_train, y_test = train_test_split(X, y, test_size=0.2, random_state=21, stratify=y)"
   ]
  },
  {
   "cell_type": "markdown",
   "metadata": {},
   "source": [
    "We generate the confusion matrices along with the blanced accuracy scores for the four chosen models."
   ]
  },
  {
   "cell_type": "code",
   "execution_count": 96,
   "metadata": {},
   "outputs": [
    {
     "data": {
      "image/png": "[encoded data removed]",
      "text/plain": [
       "<Figure size 1440x1440 with 4 Axes>"
      ]
     },
     "metadata": {
      "needs_background": "light"
     },
     "output_type": "display_data"
    }
   ],
   "source": [
    "bagging = BaggingClassifier(n_estimators=50, random_state=0, n_jobs=-1)\n",
    "balanced_bagging = BalancedBaggingClassifier(n_estimators=50, random_state=0, n_jobs=-1)\n",
    "brf = BalancedRandomForestClassifier(n_estimators=50, random_state=0, n_jobs=-1)\n",
    "eec = EasyEnsembleClassifier(n_estimators=10, n_jobs=-1)\n",
    "\n",
    "bagging.fit(X_train, y_train)\n",
    "balanced_bagging.fit(X_train, y_train)\n",
    "brf.fit(X_train, y_train)\n",
    "eec.fit(X_train, y_train)\n",
    "\n",
    "y_pred_bc = bagging.predict(X_test)\n",
    "y_pred_bbc = balanced_bagging.predict(X_test)\n",
    "y_pred_brf = brf.predict(X_test)\n",
    "y_pred_eec = eec.predict(X_test)\n",
    "\n",
    "fig, ax = plt.subplots(ncols=4, figsize=(20,20))\n",
    "\n",
    "cm_bagging = confusion_matrix(y_test, y_pred_bc)\n",
    "plot_confusion_matrix(cm_bagging, classes=np.unique(df[target]), ax=ax[0],\n",
    "                      title='Bagging\\nBalanced accuracy: {:.2f}'.format(balanced_accuracy_score(y_test, y_pred_bc)))\n",
    "\n",
    "cm_balanced_bagging = confusion_matrix(y_test, y_pred_bbc)\n",
    "plot_confusion_matrix(cm_balanced_bagging, classes=np.unique(df[target]), ax=ax[1],\n",
    "                      title='Balanced bagging\\nBalanced accuracy: {:.2f}'.format(balanced_accuracy_score(y_test, y_pred_bbc)))\n",
    "\n",
    "cm_brf = confusion_matrix(y_test, y_pred_brf)\n",
    "plot_confusion_matrix(cm_brf, classes=np.unique(df[target]), ax=ax[2],\n",
    "                      title='Balanced Random Forest\\nBalanced accuracy: {:.2f}'.format(balanced_accuracy_score(y_test, y_pred_brf)))\n",
    "\n",
    "cm_eec = confusion_matrix(y_test, y_pred_eec)\n",
    "plot_confusion_matrix(cm_eec, classes=np.unique(df[target]), ax=ax[3],\n",
    "                      title='Balanced EasyEnsemble\\nBalanced accuracy: {:.2f}'.format(balanced_accuracy_score(y_test, y_pred_eec)))\n",
    "\n",
    "plt.show()"
   ]
  },
  {
   "cell_type": "markdown",
   "metadata": {},
   "source": [
    "We see that in all the four cases, balanced accuracy did not even cross 50%."
   ]
  },
  {
   "cell_type": "markdown",
   "metadata": {},
   "source": [
    "# Balancing"
   ]
  },
  {
   "cell_type": "code",
   "execution_count": 97,
   "metadata": {},
   "outputs": [],
   "source": [
    "filename = \"Collisions_100_after_Feature_Selected_unbalanced.csv\"\n",
    "df = pd.read_csv(filename)"
   ]
  },
  {
   "cell_type": "markdown",
   "metadata": {},
   "source": [
    "To see the skewness, let's take a percent counts for each Severity Code:"
   ]
  },
  {
   "cell_type": "code",
   "execution_count": 98,
   "metadata": {
    "scrolled": true
   },
   "outputs": [
    {
     "data": {
      "text/plain": [
       "1    0.68873\n",
       "2    0.29402\n",
       "3    0.01551\n",
       "4    0.00175\n",
       "Name: SEVERITYCODE, dtype: float64"
      ]
     },
     "execution_count": 98,
     "metadata": {},
     "output_type": "execute_result"
    }
   ],
   "source": [
    "df['SEVERITYCODE'].value_counts(normalize=True, ascending=False,dropna=False).round(5)"
   ]
  },
  {
   "cell_type": "markdown",
   "metadata": {},
   "source": [
    "## Multi-class to Two-class"
   ]
  },
  {
   "cell_type": "markdown",
   "metadata": {},
   "source": [
    "Often times, the skewed multi-class classification problem is converted to the two-class problem by taking the minority class versus the addition of the rest of the classes. In our situation, the accidents with severity level 4 are fatal and others are non-fatal. Therefore, we can focus on level 4 accidents and regroup the levels of severity into level 4 versus other levels. In this process, a new column 'Severity 4' is created."
   ]
  },
  {
   "cell_type": "code",
   "execution_count": 99,
   "metadata": {},
   "outputs": [
    {
     "data": {
      "text/plain": [
       "0    199055\n",
       "1       349\n",
       "Name: Severity 4, dtype: int64"
      ]
     },
     "execution_count": 99,
     "metadata": {},
     "output_type": "execute_result"
    }
   ],
   "source": [
    "df['Severity 4'] = 0\n",
    "df.loc[df['SEVERITYCODE'] == 4, 'Severity 4'] = 1\n",
    "df['Severity 4'].value_counts()"
   ]
  },
  {
   "cell_type": "markdown",
   "metadata": {},
   "source": [
    "### Balancing Severity (Resampling)"
   ]
  },
  {
   "cell_type": "markdown",
   "metadata": {},
   "source": [
    "As seen above, Severity 4 is extremely rare, or in other words, the data is highly skewed. The main challenge of dealing with this type of data is that the machine learning algorithms train with almost 100% accuracy and fails to classify the minority class. This is intuitive since when the occurrence of the majority class is 99% per cent, even if the classifier is hard-coded to predict majority class always, the accuracy will still be 99%. \n",
    "We appreciate that false negative is very costly here, that is actual severity code 4 is not predicted. The situation is just like the detection of fraudulent transactions or diagnosing diseases.\n",
    "There are many ways to deal with this situation by balancing the data synthetically by exploration method before training. We might \n",
    "\n",
    "(1) under-sample the majority class\n",
    "\n",
    "(2) over-sample the minority class or\n",
    "\n",
    "(3) have a combination of (1) and (2), i.e. over- and under-sample simultaneously.\n",
    "\n",
    "The combination of over- and under-sampling will be used since the data is large enough. level 4 will be randomly over-sampled to 10000 and other levels will be randomly under-sampled to 10000."
   ]
  },
  {
   "cell_type": "code",
   "execution_count": 100,
   "metadata": {},
   "outputs": [
    {
     "name": "stdout",
     "output_type": "stream",
     "text": [
      "Resampled data: 1    10000\n",
      "0    10000\n",
      "Name: Severity 4, dtype: int64\n"
     ]
    }
   ],
   "source": [
    "df = pd.concat([df[df['Severity 4']==1].sample(10000, replace = True),\n",
    "                   df[df['Severity 4']==0].sample(10000)], axis=0)\n",
    "print('Resampled data:', df['Severity 4'].value_counts())"
   ]
  },
  {
   "cell_type": "code",
   "execution_count": 101,
   "metadata": {},
   "outputs": [
    {
     "data": {
      "text/plain": [
       "1    0.5\n",
       "0    0.5\n",
       "Name: Severity 4, dtype: float64"
      ]
     },
     "execution_count": 101,
     "metadata": {},
     "output_type": "execute_result"
    }
   ],
   "source": [
    "df['Severity 4'].value_counts(normalize=True, ascending=False, dropna=False).round(5)"
   ]
  },
  {
   "cell_type": "markdown",
   "metadata": {},
   "source": [
    "We see that 50% of Severity Code is 1, and rest 50% has value 0"
   ]
  },
  {
   "cell_type": "markdown",
   "metadata": {},
   "source": [
    "Now, drop 'SEVERITYCODE'."
   ]
  },
  {
   "cell_type": "code",
   "execution_count": 102,
   "metadata": {},
   "outputs": [],
   "source": [
    "df.drop(['SEVERITYCODE'], axis=1, inplace=True)"
   ]
  },
  {
   "cell_type": "code",
   "execution_count": 103,
   "metadata": {},
   "outputs": [],
   "source": [
    "filename = \"Collisions_100_after_Feature_Selected_balanced.csv\"\n",
    "df.to_csv(filename,index=False)"
   ]
  },
  {
   "cell_type": "markdown",
   "metadata": {},
   "source": [
    "# Correlation\n",
    "\n",
    "Let us now get an idea of how the variables are correlated (except ST_COLCODE, as it contains a very long list of codes)."
   ]
  },
  {
   "cell_type": "code",
   "execution_count": 104,
   "metadata": {},
   "outputs": [],
   "source": [
    "filename = \"Collisions_100_after_Feature_Selected_balanced.csv\"\n",
    "df = pd.read_csv(filename)"
   ]
  },
  {
   "cell_type": "code",
   "execution_count": 105,
   "metadata": {},
   "outputs": [
    {
     "data": {
      "image/png": "[encoded data removed]",
      "text/plain": [
       "<Figure size 720x864 with 1 Axes>"
      ]
     },
     "metadata": {
      "needs_background": "light"
     },
     "output_type": "display_data"
    }
   ],
   "source": [
    "import math\n",
    "import warnings\n",
    "\n",
    "warnings.simplefilter(action='ignore', category=Warning)\n",
    "\n",
    "df_sel = df.drop(df.columns[df.columns.str.contains('ST_COLCODE')], axis=1)\n",
    "\n",
    "x_cols = [col for col in df_sel.columns if col not in ['Severity 4'] if (df[col].dtype=='int64')]\n",
    "\n",
    "labels = []\n",
    "values = []\n",
    "for col in x_cols:\n",
    "    if not (math.isnan(np.corrcoef(df_sel[col].values, df_sel['Severity 4'].values)[0,1])):\n",
    "        labels.append(col)\n",
    "        values.append(np.corrcoef(df_sel[col].values, df_sel['Severity 4'].values)[0,1])\n",
    "corr_df = pd.DataFrame({'col_labels':labels, 'corr_values':values})\n",
    "corr_df = corr_df.sort_values(by='corr_values')\n",
    "\n",
    "ind = np.arange(len(labels))\n",
    "width = 0.9\n",
    "fig, ax = plt.subplots(figsize=(10,12))\n",
    "rects = ax.barh(ind, np.array(corr_df.corr_values.values), color='g')\n",
    "ax.set_yticks(ind)\n",
    "ax.set_yticklabels(corr_df.col_labels.values, rotation='horizontal')\n",
    "ax.set_xlabel(\"Correlation coefficient\", fontsize=10)\n",
    "ax.set_title(\"Correlation coefficient of the variables with respect to Severity Code\", fontsize=10)\n",
    "plt.show()"
   ]
  },
  {
   "cell_type": "markdown",
   "metadata": {},
   "source": [
    "# Comparison of Different Classification Models"
   ]
  },
  {
   "cell_type": "code",
   "execution_count": 106,
   "metadata": {},
   "outputs": [],
   "source": [
    "filename = \"Collisions_100_after_Feature_Selected_balanced.csv\"\n",
    "df = pd.read_csv(filename)"
   ]
  },
  {
   "cell_type": "code",
   "execution_count": 107,
   "metadata": {},
   "outputs": [],
   "source": [
    "from sklearn import preprocessing\n",
    "\n",
    "# Import LogisticRegression\n",
    "from sklearn.linear_model import LogisticRegression\n",
    "\n",
    "# Import KNeighborsClassifier from sklearn.neighbors\n",
    "from sklearn.neighbors import KNeighborsClassifier\n",
    "\n",
    "# Import DecisionTreeClassifier from sklearn.tree\n",
    "from sklearn.tree import DecisionTreeClassifier\n",
    "\n",
    "# Import RandomForestClassifier\n",
    "from sklearn.ensemble import RandomForestClassifier\n",
    "\n",
    "from sklearn.model_selection import train_test_split\n",
    "from sklearn.model_selection import GridSearchCV\n",
    "from sklearn.feature_selection import SelectFromModel\n",
    "from sklearn.metrics import classification_report\n",
    "from sklearn.metrics import confusion_matrix\n",
    "from sklearn.metrics import accuracy_score\n",
    "from sklearn.metrics import roc_curve, auc"
   ]
  },
  {
   "cell_type": "markdown",
   "metadata": {
    "id": "l2Fl3HBwZDSa"
   },
   "source": [
    "#### Train Test Split\n",
    "Split the data into X_train, X_test, y_train, and y_test, after standardising the input features."
   ]
  },
  {
   "cell_type": "code",
   "execution_count": 108,
   "metadata": {
    "id": "M8azlFhkiN3w"
   },
   "outputs": [],
   "source": [
    "# Target variable\n",
    "target='Severity 4'\n",
    "\n",
    "# set X and y\n",
    "y = df[target]\n",
    "X = df.drop(target, axis=1)\n",
    "\n",
    "X = preprocessing.StandardScaler().fit(X).transform(X)\n",
    "\n",
    "# Split the data set into training and testing data sets\n",
    "X_train, X_test, y_train, y_test = train_test_split(X, y, test_size=0.2, random_state=21, stratify=y)\n",
    "\n",
    "# List of classification algorithms\n",
    "algorithm_list=['Logistic Regression', 'k-Nearest Neighbors', 'Decision Trees', 'Random Forest']\n",
    "\n",
    "# Initialize an empty list for the accuracy for each algorithm\n",
    "accuracy_list=[]"
   ]
  },
  {
   "cell_type": "markdown",
   "metadata": {
    "id": "wa7H--dhkW4X"
   },
   "source": [
    "## Logistic Regression\n",
    "Logistic regression is employed as a baseline to perform binary classification task."
   ]
  },
  {
   "cell_type": "code",
   "execution_count": 109,
   "metadata": {
    "id": "ImwhVzkHhHmg",
    "outputId": "4cea6bad-ff27-4579-dcea-7f6691e397ae"
   },
   "outputs": [
    {
     "name": "stdout",
     "output_type": "stream",
     "text": [
      "Training Accuracy: 85.0%\n",
      "Testing Accuracy: 84.3%\n"
     ]
    }
   ],
   "source": [
    "# Logistic regression with default setting.\n",
    "from sklearn.linear_model import LogisticRegression\n",
    "\n",
    "# Classifier Model = Logistic Regression\n",
    "lreg_clf = LogisticRegression(max_iter=10000, random_state=42)\n",
    "\n",
    "lreg_clf.fit(X_train, y_train)\n",
    "\n",
    "lreg_accuracy_train = lreg_clf.score(X_train, y_train)\n",
    "print(\"Training Accuracy: %.1f%%\"% (lreg_accuracy_train*100))\n",
    "\n",
    "lreg_accuracy_test = lreg_clf.score(X_test, y_test)\n",
    "print(\"Testing Accuracy: %.1f%%\"% (lreg_accuracy_test*100))"
   ]
  },
  {
   "cell_type": "code",
   "execution_count": 110,
   "metadata": {},
   "outputs": [
    {
     "name": "stdout",
     "output_type": "stream",
     "text": [
      "Best Parameters:  {'C': 1, 'max_iter': 1000}\n"
     ]
    }
   ],
   "source": [
    "#Grid Search\n",
    "from sklearn.model_selection import GridSearchCV\n",
    "\n",
    "LR_grid = {\n",
    "           'C':        [0.001, 0.009, 0.01, 0.09, 1, 5, 10, 25],\n",
    "           'max_iter': [1000, 10000, 100000]\n",
    "          }\n",
    "\n",
    "lr_cv = GridSearchCV(estimator=LogisticRegression(random_state=42), param_grid = LR_grid, scoring = 'accuracy', cv = 5)\n",
    "\n",
    "lr_cv.fit(X_train, y_train)\n",
    "print('Best Parameters: ', lr_cv.best_params_)"
   ]
  },
  {
   "cell_type": "code",
   "execution_count": 111,
   "metadata": {},
   "outputs": [
    {
     "name": "stdout",
     "output_type": "stream",
     "text": [
      "Training Accuracy: 85.1%\n",
      "Testing Accuracy: 84.3%\n",
      "Wall time: 492 ms\n"
     ]
    }
   ],
   "source": [
    "%%time\n",
    "from sklearn.metrics import confusion_matrix, accuracy_score\n",
    "\n",
    "# Classifier Model = Logistic Regression\n",
    "lreg_clf = LogisticRegression(C=5, max_iter=1000, penalty='l2')\n",
    "\n",
    "lreg_clf.fit(X_train, y_train)\n",
    "\n",
    "lreg_accuracy_train = lreg_clf.score(X_train, y_train)\n",
    "print(\"Training Accuracy: %.1f%%\"% (lreg_accuracy_train*100))\n",
    "\n",
    "lreg_accuracy_test = lreg_clf.score(X_test, y_test)\n",
    "print(\"Testing Accuracy: %.1f%%\"% (lreg_accuracy_test*100))\n",
    "\n",
    "# Append to the accuracy list\n",
    "accuracy_list.append(lreg_accuracy_test)"
   ]
  },
  {
   "cell_type": "code",
   "execution_count": 112,
   "metadata": {},
   "outputs": [
    {
     "data": {
      "image/png": "[encoded data removed]",
      "text/plain": [
       "<Figure size 360x216 with 2 Axes>"
      ]
     },
     "metadata": {
      "needs_background": "light"
     },
     "output_type": "display_data"
    }
   ],
   "source": [
    "from sklearn.metrics import confusion_matrix\n",
    "\n",
    "y_pred = lreg_clf.predict(X_test)\n",
    "\n",
    "lreg_cm = confusion_matrix(y_true=y_test, y_pred=y_pred)\n",
    "\n",
    "df_conf = pd.DataFrame(data=lreg_cm, columns=['Predicted: 0','Predicted: 1'], index=['Actual: 0','Actual: 1'])\n",
    "\n",
    "plt.figure(figsize = (5,3))\n",
    "\n",
    "sns.heatmap(df_conf, annot=True, fmt='d', cmap=\"YlGnBu\").set_title(\n",
    "            \"Logistic Regression\\nTrain Acc %: {:.2f} Test Acc %: {:.2f}\".format(\n",
    "                lreg_accuracy_train*100, lreg_accuracy_test*100), fontsize=12)\n",
    "\n",
    "plt.show()"
   ]
  },
  {
   "cell_type": "markdown",
   "metadata": {
    "id": "mexi2Lnrh338",
    "outputId": "20388eed-d944-4ff6-974c-36d1ea0b9467"
   },
   "source": [
    "## K Nearest Neighbor (kNN)"
   ]
  },
  {
   "cell_type": "code",
   "execution_count": 113,
   "metadata": {
    "id": "3x0wIvLJmLZA",
    "outputId": "16d01874-8588-4351-f76c-2e22e3023f54"
   },
   "outputs": [
    {
     "name": "stdout",
     "output_type": "stream",
     "text": [
      "Train Accuracy: 90.2%\n",
      "Test Accuracy: 88.5%\n"
     ]
    }
   ],
   "source": [
    "# Import KNeighborsClassifier from sklearn.neighbors\n",
    "from sklearn.neighbors import KNeighborsClassifier\n",
    "\n",
    "# Create a k-NN classifier with 7 neighbors\n",
    "knn_clf = KNeighborsClassifier(n_neighbors=7)\n",
    "\n",
    "knn_clf.fit(X_train, y_train)\n",
    "\n",
    "knn_accuracy_train = knn_clf.score(X_train, y_train)\n",
    "print(\"Train Accuracy: %.1f%%\"% (knn_accuracy_train*100))\n",
    "\n",
    "knn_accuracy_test = knn_clf.score(X_test,y_test)\n",
    "print(\"Test Accuracy: %.1f%%\"% (knn_accuracy_test*100))\n",
    "\n",
    "# Append to the accuracy list\n",
    "accuracy_list.append(knn_accuracy_test)"
   ]
  },
  {
   "cell_type": "code",
   "execution_count": 114,
   "metadata": {},
   "outputs": [
    {
     "data": {
      "image/png": "[encoded data removed]",
      "text/plain": [
       "<Figure size 360x216 with 2 Axes>"
      ]
     },
     "metadata": {
      "needs_background": "light"
     },
     "output_type": "display_data"
    }
   ],
   "source": [
    "from sklearn.metrics import confusion_matrix\n",
    "\n",
    "y_pred = knn_clf.predict(X_test)\n",
    "\n",
    "knn_cm = confusion_matrix(y_true=y_test, y_pred=y_pred)\n",
    "\n",
    "df_conf = pd.DataFrame(data=knn_cm, columns=['Predicted: 0','Predicted: 1'], index=['Actual: 0','Actual: 1'])\n",
    "\n",
    "plt.figure(figsize = (5,3))\n",
    "sns.heatmap(df_conf, annot=True,fmt='d',cmap=\"YlGnBu\").set_title(\n",
    "    \"k-NN\\nTrain Acc %: {:.2f} Test Acc %: {:.2f}\".format(\n",
    "                knn_accuracy_train*100, knn_accuracy_test*100), fontsize=12)\n",
    "plt.show()"
   ]
  },
  {
   "cell_type": "markdown",
   "metadata": {
    "id": "7yTc8zWgiQOs"
   },
   "source": [
    "## Decision Tree"
   ]
  },
  {
   "cell_type": "code",
   "execution_count": 115,
   "metadata": {
    "_kg_hide-output": true,
    "id": "-iYnKSIV_OZY"
   },
   "outputs": [
    {
     "name": "stdout",
     "output_type": "stream",
     "text": [
      "Fitting 3 folds for each of 12 candidates, totalling 36 fits\n"
     ]
    },
    {
     "name": "stderr",
     "output_type": "stream",
     "text": [
      "[Parallel(n_jobs=1)]: Using backend SequentialBackend with 1 concurrent workers.\n"
     ]
    },
    {
     "name": "stdout",
     "output_type": "stream",
     "text": [
      "Best Parameters:  {'max_features': 'log2', 'min_samples_split': 10}\n"
     ]
    },
    {
     "name": "stderr",
     "output_type": "stream",
     "text": [
      "[Parallel(n_jobs=1)]: Done  36 out of  36 | elapsed:    1.3s finished\n"
     ]
    }
   ],
   "source": [
    "from sklearn.tree import DecisionTreeClassifier\n",
    "from sklearn.model_selection import GridSearchCV\n",
    "\n",
    "DT_grid = {'min_samples_split': [5, 10, 20, 30], \n",
    "           'max_features': [None, 'log2', 'sqrt']}\n",
    "\n",
    "CV_DT = GridSearchCV(DecisionTreeClassifier(random_state=42), DT_grid, verbose=1, cv=3)\n",
    "CV_DT.fit(X_train, y_train)\n",
    "\n",
    "print('Best Parameters: ', CV_DT.best_params_)"
   ]
  },
  {
   "cell_type": "code",
   "execution_count": 116,
   "metadata": {},
   "outputs": [
    {
     "name": "stdout",
     "output_type": "stream",
     "text": [
      "Train Accuracy: 92.3%\n",
      "Test Accuracy: 90.8%\n",
      "Wall time: 52.9 ms\n"
     ]
    }
   ],
   "source": [
    "%%time\n",
    "from sklearn import tree\n",
    "\n",
    "# Training step, on X_train with y_train\n",
    "tree_clf = tree.DecisionTreeClassifier(min_samples_split = 10, max_features = 'log2', \n",
    "                                       class_weight='balanced', random_state=42)\n",
    "tree_clf = tree_clf.fit(X_train, y_train)\n",
    "\n",
    "tree_accuracy_train = tree_clf.score(X_train, y_train)\n",
    "print(\"Train Accuracy: %.1f%%\"% (tree_accuracy_train*100))\n",
    "\n",
    "tree_accuracy_test = tree_clf.score(X_test,y_test)\n",
    "print(\"Test Accuracy: %.1f%%\"% (tree_accuracy_test*100))\n",
    "\n",
    "# Append to the accuracy list\n",
    "accuracy_list.append(tree_accuracy_test)"
   ]
  },
  {
   "cell_type": "code",
   "execution_count": 117,
   "metadata": {
    "id": "Ln4Ke5qSAp7v",
    "outputId": "73acea06-b31e-4a11-9fff-a6c25e150b03"
   },
   "outputs": [
    {
     "data": {
      "image/png": "[encoded data removed]",
      "text/plain": [
       "<Figure size 360x216 with 2 Axes>"
      ]
     },
     "metadata": {
      "needs_background": "light"
     },
     "output_type": "display_data"
    }
   ],
   "source": [
    "y_pred = tree_clf.predict(X_test)\n",
    "\n",
    "tree_cm = confusion_matrix(y_true=y_test, y_pred=y_pred)\n",
    "\n",
    "df_conf = pd.DataFrame(data=tree_cm, columns=['Predicted: 0','Predicted: 1'], index=['Actual: 0','Actual: 1'])\n",
    "\n",
    "plt.figure(figsize=(5, 3))\n",
    "sns.heatmap(df_conf, annot=True, fmt='d',cmap=\"YlGnBu\").set_title(\n",
    "    \"Decision Tree\\nTrain Acc %: {:.2f} Test Acc %: {:.2f}\".format(\n",
    "                tree_accuracy_train*100, tree_accuracy_test*100), fontsize=12)\n",
    "plt.show()"
   ]
  },
  {
   "cell_type": "code",
   "execution_count": 118,
   "metadata": {},
   "outputs": [
    {
     "data": {
      "image/png": "[encoded data removed]",
      "text/plain": [
       "<Figure size 1440x720 with 1 Axes>"
      ]
     },
     "metadata": {
      "needs_background": "light"
     },
     "output_type": "display_data"
    }
   ],
   "source": [
    "fig, ax = plt.subplots(figsize=(20, 10))\n",
    "tree.plot_tree(tree_clf, max_depth=4, fontsize=10,\n",
    "               feature_names=df.drop('Severity 4', axis=1).columns.to_list(), class_names=True, filled=True)\n",
    "plt.show()"
   ]
  },
  {
   "cell_type": "markdown",
   "metadata": {
    "id": "JBprZxAzorJD"
   },
   "source": [
    "## Random Forest"
   ]
  },
  {
   "cell_type": "code",
   "execution_count": 119,
   "metadata": {
    "_kg_hide-output": true,
    "id": "i3RTSLOY9RcC",
    "outputId": "7106c7e6-0542-4f92-dcb6-838cf3746193"
   },
   "outputs": [
    {
     "name": "stdout",
     "output_type": "stream",
     "text": [
      "Best Parameters:  {'bootstrap': False, 'max_depth': 40, 'max_features': 'sqrt', 'n_estimators': 30}\n"
     ]
    }
   ],
   "source": [
    "from sklearn.ensemble import RandomForestClassifier\n",
    "from sklearn.model_selection import GridSearchCV\n",
    "\n",
    "param_grid ={'bootstrap': [True, False],\n",
    " 'max_depth': [5, 10, 20, 30, 40],\n",
    " 'max_features': ['auto', 'sqrt'],\n",
    " 'n_estimators': [10, 20, 30]\n",
    "            }\n",
    "\n",
    "CV_RF = GridSearchCV(estimator=RandomForestClassifier(), param_grid=param_grid,cv=4)\n",
    "CV_RF.fit(X_train, y_train)\n",
    "print('Best Parameters: ', CV_RF.best_params_)"
   ]
  },
  {
   "cell_type": "code",
   "execution_count": 120,
   "metadata": {
    "id": "lnRq4Z5dzGay",
    "outputId": "0348e1c8-111b-41d0-b009-5ab4f8646b32"
   },
   "outputs": [
    {
     "name": "stdout",
     "output_type": "stream",
     "text": [
      "Train Accuracy: 92.3%\n",
      "Test Accuracy: 91.0%\n",
      "Wall time: 755 ms\n"
     ]
    }
   ],
   "source": [
    "%%time\n",
    "from sklearn.ensemble import RandomForestClassifier\n",
    "from sklearn.metrics import accuracy_score\n",
    "\n",
    "rf_clf = RandomForestClassifier(bootstrap=False, max_depth=40, max_features='sqrt', n_estimators=30, random_state=42)\n",
    "rf_clf.fit(X_train,y_train)\n",
    "\n",
    "f = lambda x: 1 if x>=0.5 else 0\n",
    "train_pred = np.array(list(map(f, rf_clf.predict(X_train))))\n",
    "test_pred = np.array(list(map(f, rf_clf.predict(X_test))))\n",
    "\n",
    "rf_train_accuracy = accuracy_score(y_train, train_pred)\n",
    "print(\"Train Accuracy: %.1f%%\"% (rf_train_accuracy*100))\n",
    "\n",
    "rf_test_accuracy = accuracy_score(y_test, test_pred)\n",
    "print(\"Test Accuracy: %.1f%%\"% (rf_test_accuracy*100))\n",
    "\n",
    "# Append to the accuracy list\n",
    "accuracy_list.append(rf_test_accuracy)"
   ]
  },
  {
   "cell_type": "markdown",
   "metadata": {
    "id": "cCx8FAUrULn9"
   },
   "source": [
    "Random Forest and Decision Tree have similar accuracy."
   ]
  },
  {
   "cell_type": "code",
   "execution_count": 121,
   "metadata": {
    "id": "rJbjZAeN99ky",
    "outputId": "e63c0c83-fac1-4108-cafa-5cd4696bf3aa",
    "scrolled": true
   },
   "outputs": [
    {
     "data": {
      "image/png": "[encoded data removed]",
      "text/plain": [
       "<Figure size 360x216 with 2 Axes>"
      ]
     },
     "metadata": {
      "needs_background": "light"
     },
     "output_type": "display_data"
    }
   ],
   "source": [
    "rf_cm = confusion_matrix(y_true=y_test, y_pred=test_pred)\n",
    "\n",
    "df_conf = pd.DataFrame(data=rf_cm, columns=['Predicted: 0','Predicted: 1'], index=['Actual: 0','Actual: 1'])\n",
    "\n",
    "plt.figure(figsize = (5, 3))\n",
    "sns.heatmap(df_conf, annot=True,fmt='d',cmap=\"YlGnBu\").set_title(\n",
    "    \"Random Forest\\nTrain Acc %: {:.2f} Test Acc %: {:.2f}\".format(\n",
    "                rf_train_accuracy*100, rf_test_accuracy*100), fontsize=12)\n",
    "plt.show()"
   ]
  },
  {
   "cell_type": "markdown",
   "metadata": {
    "id": "3qouHFVcOFhP"
   },
   "source": [
    "# Model Evaluation"
   ]
  },
  {
   "cell_type": "markdown",
   "metadata": {},
   "source": [
    "Plot the Accuracy vs Algorithm"
   ]
  },
  {
   "cell_type": "code",
   "execution_count": 122,
   "metadata": {
    "scrolled": true
   },
   "outputs": [
    {
     "data": {
      "image/png": "[encoded data removed]",
      "text/plain": [
       "<Figure size 432x288 with 1 Axes>"
      ]
     },
     "metadata": {
      "needs_background": "light"
     },
     "output_type": "display_data"
    }
   ],
   "source": [
    "# Generate a list of ticks for y-axis\n",
    "y_ticks = np.arange(len(algorithm_list))\n",
    "\n",
    "# Combine the list of algorithms and list of accuracy scores into a dataframe, sort the value based on accuracy score\n",
    "df_accuracy = pd.DataFrame(list(zip(algorithm_list, accuracy_list)), \n",
    "                    columns=['Algorithm','Accuracy_Score']).sort_values(by=['Accuracy_Score'], ascending = True)\n",
    "\n",
    "# Make a plot\n",
    "ax = df_accuracy.plot.barh('Algorithm', 'Accuracy_Score', align='center', legend=False, color='g')\n",
    "\n",
    "# Add the data label on to the plot\n",
    "for i in ax.patches:\n",
    "    # get_width pulls left or right; get_y pushes up or down\n",
    "    ax.text(i.get_width()+0.02, i.get_y()+0.2, str(round(i.get_width(),2)), fontsize=10)\n",
    "\n",
    "# Set the limit, lables, ticks and title\n",
    "plt.xlim(0, 1.1)\n",
    "plt.xlabel('Accuracy Score')\n",
    "plt.yticks(y_ticks, df_accuracy['Algorithm'], rotation=0)\n",
    "plt.title('Algorithm performance')\n",
    "\n",
    "plt.show()"
   ]
  },
  {
   "cell_type": "markdown",
   "metadata": {},
   "source": [
    "Show confusion matrices side by side."
   ]
  },
  {
   "cell_type": "code",
   "execution_count": 123,
   "metadata": {},
   "outputs": [
    {
     "data": {
      "image/png": "[encoded data removed]",
      "text/plain": [
       "<Figure size 1440x1440 with 4 Axes>"
      ]
     },
     "metadata": {
      "needs_background": "light"
     },
     "output_type": "display_data"
    }
   ],
   "source": [
    "fig, ax = plt.subplots(ncols=4, figsize=(20,20))\n",
    "\n",
    "plot_confusion_matrix(lreg_cm, classes=np.unique(df[target]), ax=ax[0],\n",
    "                      title=\"Logistic Regression\\nTrain Acc %: {:.2f} Test Acc %: {:.2f}\".format(\n",
    "                      lreg_accuracy_train*100, lreg_accuracy_test*100))\n",
    "\n",
    "plot_confusion_matrix(knn_cm, classes=np.unique(df[target]), ax=ax[1],\n",
    "                      title=\"k-NN\\nTrain Acc %: {:.2f} Test Acc %: {:.2f}\".format(\n",
    "                             knn_accuracy_train*100, knn_accuracy_test*100))\n",
    "\n",
    "plot_confusion_matrix(tree_cm, classes=np.unique(df[target]), ax=ax[2],\n",
    "                      title=\"Decision Tree\\nTrain Acc %: {:.2f} Test Acc %: {:.2f}\".format(\n",
    "                      tree_accuracy_train*100, tree_accuracy_test*100))\n",
    "\n",
    "plot_confusion_matrix(rf_cm, classes=np.unique(df[target]), ax=ax[3],\n",
    "                      title=\"Random Forest\\nTrain Acc %: {:.2f} Test Acc %: {:.2f}\".format(\n",
    "                      rf_train_accuracy*100, rf_test_accuracy*100))\n",
    "\n",
    "\n",
    "plt.show()"
   ]
  },
  {
   "cell_type": "code",
   "execution_count": 124,
   "metadata": {},
   "outputs": [
    {
     "data": {
      "image/png": "[encoded data removed]",
      "text/plain": [
       "<Figure size 720x720 with 1 Axes>"
      ]
     },
     "metadata": {
      "needs_background": "light"
     },
     "output_type": "display_data"
    }
   ],
   "source": [
    "importances = pd.DataFrame(np.zeros((X_train.shape[1], 1)), columns=['importance'], \n",
    "                           index=df.drop('Severity 4',axis=1).columns)\n",
    "\n",
    "importances.iloc[:,0] = tree_clf.feature_importances_\n",
    "\n",
    "importances.sort_values(by='importance', inplace=True, ascending=False)\n",
    "importancestop = importances.head(30)\n",
    "\n",
    "plt.figure(figsize=(10, 10))\n",
    "sns.barplot(x='importance', y=importancestop.index, data=importancestop)\n",
    "\n",
    "plt.xlabel('')\n",
    "plt.tick_params(axis='x', labelsize=10)\n",
    "plt.tick_params(axis='y', labelsize=10)\n",
    "plt.title('Feature Importance (using Decision Tree Classifier)', size=15)\n",
    "\n",
    "plt.show()"
   ]
  },
  {
   "cell_type": "code",
   "execution_count": 125,
   "metadata": {
    "id": "3YbCHBm32eq_",
    "outputId": "20f9cc44-546a-44b3-dc48-a7d182ead093"
   },
   "outputs": [
    {
     "data": {
      "image/png": "[encoded data removed]",
      "text/plain": [
       "<Figure size 720x720 with 1 Axes>"
      ]
     },
     "metadata": {
      "needs_background": "light"
     },
     "output_type": "display_data"
    }
   ],
   "source": [
    "importances = pd.DataFrame(np.zeros((X_train.shape[1], 1)), columns=['importance'], index=df.drop('Severity 4',axis=1).columns)\n",
    "\n",
    "importances.iloc[:,0] = rf_clf.feature_importances_\n",
    "\n",
    "importances.sort_values(by='importance', inplace=True, ascending=False)\n",
    "importancestop = importances.head(30)\n",
    "\n",
    "plt.figure(figsize=(10, 10))\n",
    "sns.barplot(x='importance', y=importancestop.index, data=importancestop)\n",
    "\n",
    "plt.xlabel('')\n",
    "plt.tick_params(axis='x', labelsize=10)\n",
    "plt.tick_params(axis='y', labelsize=10)\n",
    "plt.title('Feature Importance (using Random Forest Classifier)', size=15)\n",
    "\n",
    "plt.show()"
   ]
  },
  {
   "cell_type": "markdown",
   "metadata": {
    "id": "w42dA7ZSO_oV"
   },
   "source": [
    "We can conclude that the Random Forest is the best model in this scenario (Decision Tree is the second best, but very close to Random Forest). An interesting point to note here is that the top important features are somewhat different between Random Forest and the Decision Tree models. \n",
    "\n",
    "# Inference\n",
    "\n",
    "Following the Random Forest model, we see that special attention needs to be given to pedestrians (topmost important feature), speeding, collision with a parked car, rear-ended collision, under influence. The collision codes 50 (Struck Fixed Object), 32 (One Parked - One Moving), 10 (Entering At Angle) are the most frequent ones."
   ]
  },
  {
   "cell_type": "markdown",
   "metadata": {},
   "source": [
    "# Future Study\n",
    "\n",
    "- The relations between the key features and accident severity can be further studied in details\n",
    "- Different data balancing techniques can be applied and evaluated\n",
    "- Development of a much more complex real-time accident risk prediction model"
   ]
  },
  {
   "cell_type": "markdown",
   "metadata": {},
   "source": [
    "# END"
   ]
  },
  {
   "cell_type": "code",
   "execution_count": null,
   "metadata": {},
   "outputs": [],
   "source": []
  }
 ],
 "metadata": {
  "kernelspec": {
   "display_name": "Python 3",
   "language": "python",
   "name": "python3"
  },
  "language_info": {
   "codemirror_mode": {
    "name": "ipython",
    "version": 3
   },
   "file_extension": ".py",
   "mimetype": "text/x-python",
   "name": "python",
   "nbconvert_exporter": "python",
   "pygments_lexer": "ipython3",
   "version": "3.8.3"
  }
 },
 "nbformat": 4,
 "nbformat_minor": 4
}
